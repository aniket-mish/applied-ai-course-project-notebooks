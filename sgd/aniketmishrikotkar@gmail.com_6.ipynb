{
 "cells": [
  {
   "cell_type": "markdown",
   "metadata": {},
   "source": [
    "# SGD"
   ]
  },
  {
   "cell_type": "code",
   "execution_count": 81,
   "metadata": {
    "colab": {},
    "colab_type": "code",
    "id": "REYPoTJ1Af7u"
   },
   "outputs": [],
   "source": [
    "import warnings\n",
    "warnings.filterwarnings(\"ignore\")\n",
    "from sklearn.datasets import load_boston\n",
    "from random import seed\n",
    "from random import randrange\n",
    "from csv import reader\n",
    "from math import sqrt\n",
    "from sklearn import preprocessing\n",
    "import pandas as pd\n",
    "import numpy as np\n",
    "import matplotlib.pyplot as plt\n",
    "from prettytable import PrettyTable\n",
    "from sklearn.linear_model import SGDRegressor\n",
    "from sklearn import preprocessing\n",
    "from sklearn.metrics import mean_squared_error\n",
    "from sklearn.linear_model import LinearRegression\n",
    "from sklearn.model_selection  import train_test_split"
   ]
  },
  {
   "cell_type": "code",
   "execution_count": 82,
   "metadata": {
    "colab": {},
    "colab_type": "code",
    "id": "NTQ2iH-kAwbo"
   },
   "outputs": [],
   "source": [
    "X = load_boston().data\n",
    "Y = load_boston().target"
   ]
  },
  {
   "cell_type": "code",
   "execution_count": 83,
   "metadata": {
    "colab": {},
    "colab_type": "code",
    "id": "FgUW39s6Be0U"
   },
   "outputs": [],
   "source": [
    "X_train, X_test, y_train, y_test = train_test_split(X, Y, test_size=0.33, random_state=42)"
   ]
  },
  {
   "cell_type": "code",
   "execution_count": 84,
   "metadata": {},
   "outputs": [],
   "source": [
    "scaler = preprocessing.StandardScaler()\n",
    "X_train = scaler.fit_transform(X_train)\n",
    "X_test = scaler.transform(X_test)"
   ]
  },
  {
   "cell_type": "code",
   "execution_count": 85,
   "metadata": {},
   "outputs": [
    {
     "data": {
      "text/html": [
       "<div>\n",
       "<style scoped>\n",
       "    .dataframe tbody tr th:only-of-type {\n",
       "        vertical-align: middle;\n",
       "    }\n",
       "\n",
       "    .dataframe tbody tr th {\n",
       "        vertical-align: top;\n",
       "    }\n",
       "\n",
       "    .dataframe thead th {\n",
       "        text-align: right;\n",
       "    }\n",
       "</style>\n",
       "<table border=\"1\" class=\"dataframe\">\n",
       "  <thead>\n",
       "    <tr style=\"text-align: right;\">\n",
       "      <th></th>\n",
       "      <th>0</th>\n",
       "      <th>1</th>\n",
       "      <th>2</th>\n",
       "      <th>3</th>\n",
       "      <th>4</th>\n",
       "      <th>5</th>\n",
       "      <th>6</th>\n",
       "      <th>7</th>\n",
       "      <th>8</th>\n",
       "      <th>9</th>\n",
       "      <th>10</th>\n",
       "      <th>11</th>\n",
       "      <th>12</th>\n",
       "      <th>price</th>\n",
       "    </tr>\n",
       "  </thead>\n",
       "  <tbody>\n",
       "    <tr>\n",
       "      <th>0</th>\n",
       "      <td>0.896249</td>\n",
       "      <td>-0.510601</td>\n",
       "      <td>0.982782</td>\n",
       "      <td>-0.288214</td>\n",
       "      <td>0.480831</td>\n",
       "      <td>-0.197767</td>\n",
       "      <td>0.994612</td>\n",
       "      <td>-0.743428</td>\n",
       "      <td>1.677124</td>\n",
       "      <td>1.546715</td>\n",
       "      <td>0.864421</td>\n",
       "      <td>0.240404</td>\n",
       "      <td>0.771556</td>\n",
       "      <td>14.6</td>\n",
       "    </tr>\n",
       "    <tr>\n",
       "      <th>1</th>\n",
       "      <td>-0.348959</td>\n",
       "      <td>-0.510601</td>\n",
       "      <td>-0.448676</td>\n",
       "      <td>-0.288214</td>\n",
       "      <td>-0.165927</td>\n",
       "      <td>-0.714681</td>\n",
       "      <td>0.765306</td>\n",
       "      <td>0.429409</td>\n",
       "      <td>-0.633565</td>\n",
       "      <td>-0.614988</td>\n",
       "      <td>1.221187</td>\n",
       "      <td>0.208528</td>\n",
       "      <td>0.322490</td>\n",
       "      <td>16.6</td>\n",
       "    </tr>\n",
       "    <tr>\n",
       "      <th>2</th>\n",
       "      <td>-0.417641</td>\n",
       "      <td>0.034130</td>\n",
       "      <td>-0.487480</td>\n",
       "      <td>-0.288214</td>\n",
       "      <td>-0.285067</td>\n",
       "      <td>-0.215832</td>\n",
       "      <td>0.973115</td>\n",
       "      <td>1.021782</td>\n",
       "      <td>-0.518031</td>\n",
       "      <td>-0.590902</td>\n",
       "      <td>-1.365367</td>\n",
       "      <td>0.434820</td>\n",
       "      <td>0.927753</td>\n",
       "      <td>27.1</td>\n",
       "    </tr>\n",
       "    <tr>\n",
       "      <th>3</th>\n",
       "      <td>-0.421968</td>\n",
       "      <td>-0.510601</td>\n",
       "      <td>2.368249</td>\n",
       "      <td>-0.288214</td>\n",
       "      <td>0.438282</td>\n",
       "      <td>-0.478457</td>\n",
       "      <td>0.521668</td>\n",
       "      <td>-0.771727</td>\n",
       "      <td>-0.633565</td>\n",
       "      <td>1.817680</td>\n",
       "      <td>0.819825</td>\n",
       "      <td>0.434820</td>\n",
       "      <td>0.118876</td>\n",
       "      <td>20.1</td>\n",
       "    </tr>\n",
       "    <tr>\n",
       "      <th>4</th>\n",
       "      <td>-0.419793</td>\n",
       "      <td>-0.510601</td>\n",
       "      <td>-0.388313</td>\n",
       "      <td>-0.288214</td>\n",
       "      <td>-0.319107</td>\n",
       "      <td>0.203813</td>\n",
       "      <td>1.008944</td>\n",
       "      <td>-0.620890</td>\n",
       "      <td>-0.518031</td>\n",
       "      <td>-0.151336</td>\n",
       "      <td>1.176591</td>\n",
       "      <td>0.416056</td>\n",
       "      <td>-0.031743</td>\n",
       "      <td>19.8</td>\n",
       "    </tr>\n",
       "  </tbody>\n",
       "</table>\n",
       "</div>"
      ],
      "text/plain": [
       "          0         1         2         3         4         5         6  \\\n",
       "0  0.896249 -0.510601  0.982782 -0.288214  0.480831 -0.197767  0.994612   \n",
       "1 -0.348959 -0.510601 -0.448676 -0.288214 -0.165927 -0.714681  0.765306   \n",
       "2 -0.417641  0.034130 -0.487480 -0.288214 -0.285067 -0.215832  0.973115   \n",
       "3 -0.421968 -0.510601  2.368249 -0.288214  0.438282 -0.478457  0.521668   \n",
       "4 -0.419793 -0.510601 -0.388313 -0.288214 -0.319107  0.203813  1.008944   \n",
       "\n",
       "          7         8         9        10        11        12  price  \n",
       "0 -0.743428  1.677124  1.546715  0.864421  0.240404  0.771556   14.6  \n",
       "1  0.429409 -0.633565 -0.614988  1.221187  0.208528  0.322490   16.6  \n",
       "2  1.021782 -0.518031 -0.590902 -1.365367  0.434820  0.927753   27.1  \n",
       "3 -0.771727 -0.633565  1.817680  0.819825  0.434820  0.118876   20.1  \n",
       "4 -0.620890 -0.518031 -0.151336  1.176591  0.416056 -0.031743   19.8  "
      ]
     },
     "execution_count": 85,
     "metadata": {},
     "output_type": "execute_result"
    }
   ],
   "source": [
    "train_data = pd.DataFrame(X_train)\n",
    "train_data['price'] = y_train\n",
    "\n",
    "train_data.head(5)"
   ]
  },
  {
   "cell_type": "markdown",
   "metadata": {},
   "source": [
    "## Sklearn implementation of SGD"
   ]
  },
  {
   "cell_type": "code",
   "execution_count": 86,
   "metadata": {},
   "outputs": [
    {
     "name": "stdout",
     "output_type": "stream",
     "text": [
      "22.8672983197592\n"
     ]
    }
   ],
   "source": [
    "clf = SGDRegressor()\n",
    "clf.fit(X_train, y_train)\n",
    "y_pred = clf.predict(X_test)\n",
    "print(mean_squared_error(y_test, y_pred))"
   ]
  },
  {
   "cell_type": "code",
   "execution_count": 87,
   "metadata": {},
   "outputs": [
    {
     "data": {
      "image/png": "[encoded data removed]",
      "text/plain": [
       "<Figure size 432x288 with 1 Axes>"
      ]
     },
     "metadata": {
      "needs_background": "light"
     },
     "output_type": "display_data"
    }
   ],
   "source": [
    "plt.scatter(y_test, y_pred, alpha = 0.5)\n",
    "plt.title('Actual Price vs Predicted Price')\n",
    "plt.xlabel('Actual Price')\n",
    "plt.ylabel('Predicted Price')\n",
    "plt.show()"
   ]
  },
  {
   "cell_type": "markdown",
   "metadata": {},
   "source": [
    "## Custom implementation of SGD"
   ]
  },
  {
   "cell_type": "code",
   "execution_count": 167,
   "metadata": {},
   "outputs": [],
   "source": [
    "def SGD (train_data, r, n_itr): #random value for r and k\n",
    "         \n",
    "    w = np.zeros(shape=(1,train_data.shape[1]-1)) #initialize vector w\n",
    "    b = 0 #initialize b\n",
    "    itr = 1\n",
    "    k=10\n",
    "    \n",
    "    while(itr <= n_itr): \n",
    "        w_old = w\n",
    "        b_old = b\n",
    "         \n",
    "        w_init = np.zeros(shape=(1,train_data.shape[1]-1))\n",
    "        b_init = 0\n",
    "         \n",
    "        data = train_data.sample(k) #random k points\n",
    "        \n",
    "        x = np.array(data.drop('price',axis=1)) \n",
    "        y = np.array(data['price'])\n",
    "                \n",
    "        for i in range(k):\n",
    "            w_init += x[i] * (y[i] - (np.dot(w_old, x[i]) + b_old)) * (-2/k)\n",
    "            b_init += (y[i] - (np.dot(w_old, x[i]) + b_old)) * (-2/k)\n",
    "        \n",
    "        w = w_old - r * w_init\n",
    "        b = b_old - r * b_init\n",
    "         \n",
    "        while (w_old != w).all():\n",
    "            break\n",
    "\n",
    "        itr = itr +  1\n",
    "        \n",
    "    return w, b #optimal w and b"
   ]
  },
  {
   "cell_type": "code",
   "execution_count": 176,
   "metadata": {},
   "outputs": [],
   "source": [
    "def predict(x,w,b):\n",
    "    y_pred=[]\n",
    "    for i in range(len(x)):\n",
    "        y = np.dot(w, x[i]) + b\n",
    "        y_pred.append(np.asscalar(y))\n",
    "    return np.array(y_pred)"
   ]
  },
  {
   "cell_type": "code",
   "execution_count": 177,
   "metadata": {},
   "outputs": [
    {
     "name": "stdout",
     "output_type": "stream",
     "text": [
      "21.487208251387955\n"
     ]
    }
   ],
   "source": [
    "w, b = SGD(train_data, r=0.01, n_itr=1000)\n",
    "y_pred = predict(X_test, w, b)\n",
    "print(mean_squared_error(y_test, y_pred))"
   ]
  },
  {
   "cell_type": "code",
   "execution_count": 149,
   "metadata": {},
   "outputs": [
    {
     "data": {
      "image/png": "[encoded data removed]",
      "text/plain": [
       "<Figure size 432x288 with 1 Axes>"
      ]
     },
     "metadata": {
      "needs_background": "light"
     },
     "output_type": "display_data"
    }
   ],
   "source": [
    "plt.scatter(y_test, y_pred, alpha = 0.5)\n",
    "plt.title('Actual Price vs Predicted Price')\n",
    "plt.xlabel('Actual Price')\n",
    "plt.ylabel('Predicted Price')\n",
    "plt.show()"
   ]
  },
  {
   "cell_type": "code",
   "execution_count": 150,
   "metadata": {},
   "outputs": [
    {
     "name": "stdout",
     "output_type": "stream",
     "text": [
      "+-------------------+---------------------------+-------+\n",
      "|       Model       |       Implementation      |  MSE  |\n",
      "+-------------------+---------------------------+-------+\n",
      "| Linear Regression | SGDRegressor from sklearn | 23.17 |\n",
      "| Linear Regression |       Custom Method       | 20.79 |\n",
      "+-------------------+---------------------------+-------+\n"
     ]
    }
   ],
   "source": [
    "x = PrettyTable()\n",
    "\n",
    "x.field_names = [\"Model\", \"Implementation\", \"MSE\"]\n",
    "\n",
    "x.add_row([\"Linear Regression\", \"SGDRegressor from sklearn\", 23.17])\n",
    "x.add_row([\"Linear Regression\", \"Custom Method\", 20.79])\n",
    "\n",
    "print(x)"
   ]
  },
  {
   "cell_type": "markdown",
   "metadata": {},
   "source": [
    "### Conclusions"
   ]
  },
  {
   "cell_type": "markdown",
   "metadata": {},
   "source": [
    "- There is not much difference in the mean squared error in both the approaches\n",
    "- Selecting best learning_rate can make the model perform better\n",
    "- Selecting number of iterations also affect the model performance"
   ]
  }
 ],
 "metadata": {
  "colab": {
   "name": "Untitled3.ipynb",
   "provenance": [],
   "version": "0.3.2"
  },
  "kernelspec": {
   "display_name": "Python 3",
   "language": "python",
   "name": "python3"
  },
  "language_info": {
   "codemirror_mode": {
    "name": "ipython",
    "version": 3
   },
   "file_extension": ".py",
   "mimetype": "text/x-python",
   "name": "python",
   "nbconvert_exporter": "python",
   "pygments_lexer": "ipython3",
   "version": "3.6.8"
  }
 },
 "nbformat": 4,
 "nbformat_minor": 1
}
