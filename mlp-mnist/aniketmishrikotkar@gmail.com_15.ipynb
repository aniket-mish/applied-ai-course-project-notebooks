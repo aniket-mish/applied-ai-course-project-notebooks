{
 "cells": [
  {
   "cell_type": "markdown",
   "metadata": {
    "colab_type": "text",
    "id": "UTJmsXnXQKbG"
   },
   "source": [
    "## MLPs on MNIST"
   ]
  },
  {
   "cell_type": "code",
   "execution_count": 0,
   "metadata": {
    "colab": {},
    "colab_type": "code",
    "id": "ftUD8VXijlyS"
   },
   "outputs": [],
   "source": [
    "from __future__ import absolute_import, division, print_function, unicode_literals\n",
    "\n",
    "# Install TensorFlow\n",
    "try:\n",
    "  # %tensorflow_version only exists in Colab.\n",
    "  %tensorflow_version 2.x\n",
    "except Exception:\n",
    "  pass\n",
    "\n",
    "import tensorflow as tf"
   ]
  },
  {
   "cell_type": "code",
   "execution_count": 13,
   "metadata": {
    "colab": {
     "base_uri": "https://localhost:8080/",
     "height": 35
    },
    "colab_type": "code",
    "id": "2UILABPAQKbH",
    "outputId": "cfaed42e-5a88-4614-ab0a-b6843e01845f"
   },
   "outputs": [
    {
     "name": "stdout",
     "output_type": "stream",
     "text": [
      "2.0.0\n"
     ]
    }
   ],
   "source": [
    "from tensorflow import keras\n",
    "\n",
    "# Helper libraries\n",
    "import numpy as np\n",
    "import matplotlib.pyplot as plt\n",
    "\n",
    "print(tf.__version__)"
   ]
  },
  {
   "cell_type": "code",
   "execution_count": 0,
   "metadata": {
    "colab": {},
    "colab_type": "code",
    "id": "HJRgtGGub-mj"
   },
   "outputs": [],
   "source": [
    "# if your keras is not using tensorflow as backend set \"KERAS_BACKEND=tensorflow\" use this command\n",
    "from keras.utils import np_utils \n",
    "from keras.datasets import mnist \n",
    "import seaborn as sns\n",
    "from keras.initializers import RandomNormal"
   ]
  },
  {
   "cell_type": "code",
   "execution_count": 0,
   "metadata": {
    "colab": {},
    "colab_type": "code",
    "id": "lOO-TM_7QKbM"
   },
   "outputs": [],
   "source": [
    "%matplotlib inline\n",
    "import matplotlib.pyplot as plt\n",
    "import numpy as np\n",
    "import time\n",
    "# https://gist.github.com/greydanus/f6eee59eaf1d90fcb3b534a25362cea4\n",
    "# https://stackoverflow.com/a/14434334\n",
    "# this function is used to update the plots for each epoch and error\n",
    "def plt_dynamic(x, vy, ty, ax, colors=['b']):\n",
    "    ax.plot(x, vy, 'b', label=\"Validation Loss\")\n",
    "    ax.plot(x, ty, 'r', label=\"Train Loss\")\n",
    "    plt.legend()\n",
    "    plt.grid()\n",
    "    fig.canvas.draw()"
   ]
  },
  {
   "cell_type": "code",
   "execution_count": 0,
   "metadata": {
    "colab": {},
    "colab_type": "code",
    "id": "TKmYKnibQKbQ"
   },
   "outputs": [],
   "source": [
    "# the data, shuffled and split between train and test sets \n",
    "(X_train, y_train), (X_test, y_test) = mnist.load_data()"
   ]
  },
  {
   "cell_type": "code",
   "execution_count": 17,
   "metadata": {
    "colab": {
     "base_uri": "https://localhost:8080/",
     "height": 54
    },
    "colab_type": "code",
    "id": "CCwnZae-QKbT",
    "outputId": "081abc2e-0a4e-45c5-edb4-78242335464b"
   },
   "outputs": [
    {
     "name": "stdout",
     "output_type": "stream",
     "text": [
      "Number of training examples : 60000 and each image is of shape (28, 28)\n",
      "Number of training examples : 10000 and each image is of shape (28, 28)\n"
     ]
    }
   ],
   "source": [
    "print(\"Number of training examples :\", X_train.shape[0], \"and each image is of shape (%d, %d)\"%(X_train.shape[1], X_train.shape[2]))\n",
    "print(\"Number of training examples :\", X_test.shape[0], \"and each image is of shape (%d, %d)\"%(X_test.shape[1], X_test.shape[2]))"
   ]
  },
  {
   "cell_type": "code",
   "execution_count": 0,
   "metadata": {
    "colab": {},
    "colab_type": "code",
    "id": "lfohtdKPQKbd"
   },
   "outputs": [],
   "source": [
    "# if we observe the above matrix each cell is having a value between 0-255\n",
    "# before we move to apply machine learning algorithms lets try to normalize the data\n",
    "# X => (X - Xmin)/(Xmax-Xmin) = X/255\n",
    "\n",
    "x_train, x_test = X_train / 255.0, X_test / 255.0"
   ]
  },
  {
   "cell_type": "code",
   "execution_count": 0,
   "metadata": {
    "colab": {},
    "colab_type": "code",
    "id": "yyHHX1C3zJRr"
   },
   "outputs": [],
   "source": [
    "nb_epoch = 20\n",
    "\n",
    "x_val = x_train[-10000:]\n",
    "y_val = y_train[-10000:]\n",
    "x_train = x_train[:-10000]\n",
    "y_train = y_train[:-10000]"
   ]
  },
  {
   "cell_type": "markdown",
   "metadata": {
    "colab_type": "text",
    "id": "eh4VWYrHQKbz"
   },
   "source": [
    " <h3>  MLP + ReLU + Adam </h3>"
   ]
  },
  {
   "cell_type": "code",
   "execution_count": 20,
   "metadata": {
    "colab": {
     "base_uri": "https://localhost:8080/",
     "height": 825
    },
    "colab_type": "code",
    "id": "ixzJHvzsl-uc",
    "outputId": "c066b329-92ce-4601-e520-04ee1791e853"
   },
   "outputs": [
    {
     "name": "stdout",
     "output_type": "stream",
     "text": [
      "Train on 50000 samples, validate on 10000 samples\n",
      "Epoch 1/20\n",
      "50000/50000 [==============================] - 2s 34us/sample - loss: 0.3265 - accuracy: 0.9071 - val_loss: 0.1602 - val_accuracy: 0.9553\n",
      "Epoch 2/20\n",
      "50000/50000 [==============================] - 1s 26us/sample - loss: 0.1302 - accuracy: 0.9616 - val_loss: 0.1061 - val_accuracy: 0.9689\n",
      "Epoch 3/20\n",
      "50000/50000 [==============================] - 1s 27us/sample - loss: 0.0865 - accuracy: 0.9748 - val_loss: 0.0863 - val_accuracy: 0.9753\n",
      "Epoch 4/20\n",
      "50000/50000 [==============================] - 1s 27us/sample - loss: 0.0645 - accuracy: 0.9809 - val_loss: 0.0803 - val_accuracy: 0.9761\n",
      "Epoch 5/20\n",
      "50000/50000 [==============================] - 1s 27us/sample - loss: 0.0470 - accuracy: 0.9863 - val_loss: 0.0769 - val_accuracy: 0.9773\n",
      "Epoch 6/20\n",
      "50000/50000 [==============================] - 1s 27us/sample - loss: 0.0371 - accuracy: 0.9887 - val_loss: 0.0837 - val_accuracy: 0.9760\n",
      "Epoch 7/20\n",
      "50000/50000 [==============================] - 1s 27us/sample - loss: 0.0295 - accuracy: 0.9916 - val_loss: 0.0833 - val_accuracy: 0.9774\n",
      "Epoch 8/20\n",
      "50000/50000 [==============================] - 1s 27us/sample - loss: 0.0205 - accuracy: 0.9941 - val_loss: 0.0942 - val_accuracy: 0.9746\n",
      "Epoch 9/20\n",
      "50000/50000 [==============================] - 1s 27us/sample - loss: 0.0184 - accuracy: 0.9946 - val_loss: 0.0840 - val_accuracy: 0.9773\n",
      "Epoch 10/20\n",
      "50000/50000 [==============================] - 1s 27us/sample - loss: 0.0150 - accuracy: 0.9959 - val_loss: 0.0889 - val_accuracy: 0.9781\n",
      "Epoch 11/20\n",
      "50000/50000 [==============================] - 1s 27us/sample - loss: 0.0141 - accuracy: 0.9960 - val_loss: 0.0922 - val_accuracy: 0.9764\n",
      "Epoch 12/20\n",
      "50000/50000 [==============================] - 1s 27us/sample - loss: 0.0090 - accuracy: 0.9976 - val_loss: 0.0820 - val_accuracy: 0.9795\n",
      "Epoch 13/20\n",
      "50000/50000 [==============================] - 1s 27us/sample - loss: 0.0081 - accuracy: 0.9979 - val_loss: 0.0874 - val_accuracy: 0.9780\n",
      "Epoch 14/20\n",
      "50000/50000 [==============================] - 1s 27us/sample - loss: 0.0108 - accuracy: 0.9966 - val_loss: 0.0953 - val_accuracy: 0.9763\n",
      "Epoch 15/20\n",
      "50000/50000 [==============================] - 1s 27us/sample - loss: 0.0094 - accuracy: 0.9969 - val_loss: 0.1123 - val_accuracy: 0.9767\n",
      "Epoch 16/20\n",
      "50000/50000 [==============================] - 1s 27us/sample - loss: 0.0111 - accuracy: 0.9966 - val_loss: 0.1017 - val_accuracy: 0.9779\n",
      "Epoch 17/20\n",
      "50000/50000 [==============================] - 1s 27us/sample - loss: 0.0053 - accuracy: 0.9985 - val_loss: 0.1016 - val_accuracy: 0.9792\n",
      "Epoch 18/20\n",
      "50000/50000 [==============================] - 1s 27us/sample - loss: 0.0052 - accuracy: 0.9986 - val_loss: 0.0948 - val_accuracy: 0.9801\n",
      "Epoch 19/20\n",
      "50000/50000 [==============================] - 1s 27us/sample - loss: 0.0056 - accuracy: 0.9981 - val_loss: 0.1288 - val_accuracy: 0.9751\n",
      "Epoch 20/20\n",
      "50000/50000 [==============================] - 1s 27us/sample - loss: 0.0102 - accuracy: 0.9968 - val_loss: 0.1075 - val_accuracy: 0.9795\n",
      "\n",
      "# Evaluate on test data\n",
      "test loss, test acc: [0.0914082626070628, 0.9801]\n"
     ]
    }
   ],
   "source": [
    "model = tf.keras.models.Sequential([\n",
    "  tf.keras.layers.Flatten(input_shape=(28, 28)),\n",
    "  tf.keras.layers.Dense(256, activation='relu'),\n",
    "  tf.keras.layers.Dense(32, activation='relu'),\n",
    "  tf.keras.layers.Dense(10, activation='softmax')\n",
    "])\n",
    "model.compile(optimizer='adam',\n",
    "              loss='sparse_categorical_crossentropy',\n",
    "              metrics=['accuracy'])\n",
    "\n",
    "\n",
    "history = model.fit(x_train, y_train, epochs=20, batch_size=128, validation_data=(x_val, y_val))\n",
    "\n",
    "print('\\n# Evaluate on test data')\n",
    "results = model.evaluate(x_test, y_test, verbose=0)\n",
    "print('test loss, test acc:', results)\n"
   ]
  },
  {
   "cell_type": "code",
   "execution_count": 21,
   "metadata": {
    "colab": {
     "base_uri": "https://localhost:8080/",
     "height": 316
    },
    "colab_type": "code",
    "id": "6ffjzr8hQKb8",
    "outputId": "ee60058f-c600-4085-ccfe-a8a9d3fb8fc8"
   },
   "outputs": [
    {
     "name": "stdout",
     "output_type": "stream",
     "text": [
      "Test score: 0.0914082626070628\n",
      "Test accuracy: 0.9801\n"
     ]
    },
    {
     "data": {
      "image/png": "[encoded data removed]",
      "text/plain": [
       "<Figure size 432x288 with 1 Axes>"
      ]
     },
     "metadata": {
      "tags": []
     },
     "output_type": "display_data"
    }
   ],
   "source": [
    "print('Test score:', results[0]) \n",
    "print('Test accuracy:', results[1])\n",
    "\n",
    "fig,ax = plt.subplots(1,1)\n",
    "ax.set_xlabel('epoch') ; ax.set_ylabel('Categorical Crossentropy Loss')\n",
    "\n",
    "# list of epoch numbers\n",
    "x = list(range(1,nb_epoch+1))\n",
    "\n",
    "# print(history.history.keys())\n",
    "# dict_keys(['val_loss', 'val_acc', 'loss', 'acc'])\n",
    "# history = model_drop.fit(X_train, Y_train, batch_size=batch_size, epochs=nb_epoch, verbose=1, validation_data=(X_test, Y_test))\n",
    "\n",
    "# we will get val_loss and val_acc only when you pass the paramter validation_data\n",
    "# val_loss : validation loss\n",
    "# val_acc : validation accuracy\n",
    "\n",
    "# loss : training loss\n",
    "# acc : train accuracy\n",
    "# for each key in histrory.histrory we will have a list of length equal to number of epochs\n",
    "\n",
    "vy = history.history['val_loss']\n",
    "ty = history.history['loss']\n",
    "plt_dynamic(x, vy, ty, ax)"
   ]
  },
  {
   "cell_type": "markdown",
   "metadata": {
    "colab_type": "text",
    "id": "bRVrzqvSQKcL"
   },
   "source": [
    "<h2> MLP + ReLU + Adam + Dropout </h2>"
   ]
  },
  {
   "cell_type": "code",
   "execution_count": 11,
   "metadata": {
    "colab": {
     "base_uri": "https://localhost:8080/",
     "height": 825
    },
    "colab_type": "code",
    "id": "brVrBls4BqzC",
    "outputId": "42981c1d-6c3f-4cd2-fe96-3e7ce92124b3"
   },
   "outputs": [
    {
     "name": "stdout",
     "output_type": "stream",
     "text": [
      "Train on 50000 samples, validate on 10000 samples\n",
      "Epoch 1/20\n",
      "50000/50000 [==============================] - 2s 49us/sample - loss: 0.8374 - accuracy: 0.7300 - val_loss: 0.2247 - val_accuracy: 0.9379\n",
      "Epoch 2/20\n",
      "50000/50000 [==============================] - 2s 37us/sample - loss: 0.4205 - accuracy: 0.8800 - val_loss: 0.1643 - val_accuracy: 0.9534\n",
      "Epoch 3/20\n",
      "50000/50000 [==============================] - 2s 37us/sample - loss: 0.3386 - accuracy: 0.9046 - val_loss: 0.1410 - val_accuracy: 0.9605\n",
      "Epoch 4/20\n",
      "50000/50000 [==============================] - 2s 38us/sample - loss: 0.2927 - accuracy: 0.9162 - val_loss: 0.1192 - val_accuracy: 0.9665\n",
      "Epoch 5/20\n",
      "50000/50000 [==============================] - 2s 38us/sample - loss: 0.2621 - accuracy: 0.9268 - val_loss: 0.1147 - val_accuracy: 0.9684\n",
      "Epoch 6/20\n",
      "50000/50000 [==============================] - 2s 38us/sample - loss: 0.2414 - accuracy: 0.9340 - val_loss: 0.1046 - val_accuracy: 0.9698\n",
      "Epoch 7/20\n",
      "50000/50000 [==============================] - 2s 38us/sample - loss: 0.2254 - accuracy: 0.9380 - val_loss: 0.1007 - val_accuracy: 0.9718\n",
      "Epoch 8/20\n",
      "50000/50000 [==============================] - 2s 38us/sample - loss: 0.2090 - accuracy: 0.9411 - val_loss: 0.0938 - val_accuracy: 0.9742\n",
      "Epoch 9/20\n",
      "50000/50000 [==============================] - 2s 40us/sample - loss: 0.1963 - accuracy: 0.9439 - val_loss: 0.0941 - val_accuracy: 0.9743\n",
      "Epoch 10/20\n",
      "50000/50000 [==============================] - 2s 41us/sample - loss: 0.1921 - accuracy: 0.9447 - val_loss: 0.1015 - val_accuracy: 0.9736\n",
      "Epoch 11/20\n",
      "50000/50000 [==============================] - 2s 40us/sample - loss: 0.1805 - accuracy: 0.9490 - val_loss: 0.0940 - val_accuracy: 0.9756\n",
      "Epoch 12/20\n",
      "50000/50000 [==============================] - 2s 38us/sample - loss: 0.1732 - accuracy: 0.9496 - val_loss: 0.0981 - val_accuracy: 0.9745\n",
      "Epoch 13/20\n",
      "50000/50000 [==============================] - 2s 38us/sample - loss: 0.1692 - accuracy: 0.9510 - val_loss: 0.0905 - val_accuracy: 0.9766\n",
      "Epoch 14/20\n",
      "50000/50000 [==============================] - 2s 37us/sample - loss: 0.1552 - accuracy: 0.9550 - val_loss: 0.0925 - val_accuracy: 0.9757\n",
      "Epoch 15/20\n",
      "50000/50000 [==============================] - 2s 37us/sample - loss: 0.1561 - accuracy: 0.9550 - val_loss: 0.0930 - val_accuracy: 0.9767\n",
      "Epoch 16/20\n",
      "50000/50000 [==============================] - 2s 39us/sample - loss: 0.1480 - accuracy: 0.9566 - val_loss: 0.0997 - val_accuracy: 0.9760\n",
      "Epoch 17/20\n",
      "50000/50000 [==============================] - 2s 38us/sample - loss: 0.1495 - accuracy: 0.9562 - val_loss: 0.0900 - val_accuracy: 0.9779\n",
      "Epoch 18/20\n",
      "50000/50000 [==============================] - 2s 39us/sample - loss: 0.1441 - accuracy: 0.9574 - val_loss: 0.0910 - val_accuracy: 0.9778\n",
      "Epoch 19/20\n",
      "50000/50000 [==============================] - 2s 38us/sample - loss: 0.1378 - accuracy: 0.9594 - val_loss: 0.0930 - val_accuracy: 0.9769\n",
      "Epoch 20/20\n",
      "50000/50000 [==============================] - 2s 38us/sample - loss: 0.1398 - accuracy: 0.9591 - val_loss: 0.0952 - val_accuracy: 0.9783\n",
      "\n",
      "# Evaluate on test data\n",
      "test loss, test acc: [0.09824323466655187, 0.9767]\n"
     ]
    }
   ],
   "source": [
    "model = tf.keras.models.Sequential([\n",
    "  tf.keras.layers.Flatten(input_shape=(28, 28)),\n",
    "  tf.keras.layers.Dense(256, activation='relu'),\n",
    "  tf.keras.layers.Dropout(0.5),\n",
    "  tf.keras.layers.Dense(32, activation='relu'),\n",
    "  tf.keras.layers.Dropout(0.5),\n",
    "  tf.keras.layers.Dense(10, activation='softmax')\n",
    "])\n",
    "model.compile(optimizer='adam',\n",
    "              loss='sparse_categorical_crossentropy',\n",
    "              metrics=['accuracy'])\n",
    "\n",
    "\n",
    "history = model.fit(x_train, y_train, epochs=20, batch_size=128, validation_data=(x_val, y_val))\n",
    "\n",
    "print('\\n# Evaluate on test data')\n",
    "results = model.evaluate(x_test, y_test, verbose=0)\n",
    "print('test loss, test acc:', results)\n"
   ]
  },
  {
   "cell_type": "code",
   "execution_count": 12,
   "metadata": {
    "colab": {
     "base_uri": "https://localhost:8080/",
     "height": 316
    },
    "colab_type": "code",
    "id": "giWLX0UGCOQt",
    "outputId": "e688137c-2eb2-4bed-8e01-6abdf551eeb0"
   },
   "outputs": [
    {
     "name": "stdout",
     "output_type": "stream",
     "text": [
      "Test score: 0.09824323466655187\n",
      "Test accuracy: 0.9767\n"
     ]
    },
    {
     "data": {
      "image/png": "[encoded data removed]",
      "text/plain": [
       "<Figure size 432x288 with 1 Axes>"
      ]
     },
     "metadata": {
      "tags": []
     },
     "output_type": "display_data"
    }
   ],
   "source": [
    "print('Test score:', results[0]) \n",
    "print('Test accuracy:', results[1])\n",
    "\n",
    "fig,ax = plt.subplots(1,1)\n",
    "ax.set_xlabel('epoch') ; ax.set_ylabel('Categorical Crossentropy Loss')\n",
    "\n",
    "# list of epoch numbers\n",
    "x = list(range(1,nb_epoch+1))\n",
    "\n",
    "# print(history.history.keys())\n",
    "# dict_keys(['val_loss', 'val_acc', 'loss', 'acc'])\n",
    "# history = model_drop.fit(X_train, Y_train, batch_size=batch_size, epochs=nb_epoch, verbose=1, validation_data=(X_test, Y_test))\n",
    "\n",
    "# we will get val_loss and val_acc only when you pass the paramter validation_data\n",
    "# val_loss : validation loss\n",
    "# val_acc : validation accuracy\n",
    "\n",
    "# loss : training loss\n",
    "# acc : train accuracy\n",
    "# for each key in histrory.histrory we will have a list of length equal to number of epochs\n",
    "\n",
    "vy = history.history['val_loss']\n",
    "ty = history.history['loss']\n",
    "plt_dynamic(x, vy, ty, ax)"
   ]
  },
  {
   "cell_type": "markdown",
   "metadata": {
    "colab_type": "text",
    "id": "9ccmfiVGQKcc"
   },
   "source": [
    "<h2> MLP + ReLU + Adam + Batch Normalization </h2>"
   ]
  },
  {
   "cell_type": "code",
   "execution_count": 13,
   "metadata": {
    "colab": {
     "base_uri": "https://localhost:8080/",
     "height": 825
    },
    "colab_type": "code",
    "id": "-CtwrinkQKcc",
    "outputId": "89d9367f-0ee1-4cb2-8d2b-3216a13a39c4"
   },
   "outputs": [
    {
     "name": "stdout",
     "output_type": "stream",
     "text": [
      "Train on 50000 samples, validate on 10000 samples\n",
      "Epoch 1/20\n",
      "50000/50000 [==============================] - 4s 79us/sample - loss: 0.2744 - accuracy: 0.9251 - val_loss: 0.1485 - val_accuracy: 0.9631\n",
      "Epoch 2/20\n",
      "50000/50000 [==============================] - 3s 58us/sample - loss: 0.0979 - accuracy: 0.9728 - val_loss: 0.0964 - val_accuracy: 0.9709\n",
      "Epoch 3/20\n",
      "50000/50000 [==============================] - 3s 60us/sample - loss: 0.0624 - accuracy: 0.9811 - val_loss: 0.0924 - val_accuracy: 0.9728\n",
      "Epoch 4/20\n",
      "50000/50000 [==============================] - 3s 58us/sample - loss: 0.0460 - accuracy: 0.9860 - val_loss: 0.0950 - val_accuracy: 0.9721\n",
      "Epoch 5/20\n",
      "50000/50000 [==============================] - 3s 54us/sample - loss: 0.0344 - accuracy: 0.9900 - val_loss: 0.0865 - val_accuracy: 0.9764\n",
      "Epoch 6/20\n",
      "50000/50000 [==============================] - 3s 55us/sample - loss: 0.0300 - accuracy: 0.9907 - val_loss: 0.0999 - val_accuracy: 0.9728\n",
      "Epoch 7/20\n",
      "50000/50000 [==============================] - 3s 54us/sample - loss: 0.0221 - accuracy: 0.9931 - val_loss: 0.0881 - val_accuracy: 0.9741\n",
      "Epoch 8/20\n",
      "50000/50000 [==============================] - 3s 58us/sample - loss: 0.0187 - accuracy: 0.9943 - val_loss: 0.1007 - val_accuracy: 0.9746\n",
      "Epoch 9/20\n",
      "50000/50000 [==============================] - 3s 56us/sample - loss: 0.0196 - accuracy: 0.9936 - val_loss: 0.0879 - val_accuracy: 0.9772\n",
      "Epoch 10/20\n",
      "50000/50000 [==============================] - 3s 56us/sample - loss: 0.0157 - accuracy: 0.9950 - val_loss: 0.0942 - val_accuracy: 0.9745\n",
      "Epoch 11/20\n",
      "50000/50000 [==============================] - 3s 59us/sample - loss: 0.0124 - accuracy: 0.9960 - val_loss: 0.0934 - val_accuracy: 0.9751\n",
      "Epoch 12/20\n",
      "50000/50000 [==============================] - 3s 55us/sample - loss: 0.0134 - accuracy: 0.9954 - val_loss: 0.0960 - val_accuracy: 0.9772\n",
      "Epoch 13/20\n",
      "50000/50000 [==============================] - 3s 60us/sample - loss: 0.0121 - accuracy: 0.9963 - val_loss: 0.1049 - val_accuracy: 0.9752\n",
      "Epoch 14/20\n",
      "50000/50000 [==============================] - 3s 56us/sample - loss: 0.0130 - accuracy: 0.9955 - val_loss: 0.0917 - val_accuracy: 0.9769\n",
      "Epoch 15/20\n",
      "50000/50000 [==============================] - 3s 59us/sample - loss: 0.0100 - accuracy: 0.9970 - val_loss: 0.0959 - val_accuracy: 0.9779\n",
      "Epoch 16/20\n",
      "50000/50000 [==============================] - 3s 57us/sample - loss: 0.0108 - accuracy: 0.9964 - val_loss: 0.0958 - val_accuracy: 0.9781\n",
      "Epoch 17/20\n",
      "50000/50000 [==============================] - 3s 58us/sample - loss: 0.0108 - accuracy: 0.9966 - val_loss: 0.0950 - val_accuracy: 0.9782\n",
      "Epoch 18/20\n",
      "50000/50000 [==============================] - 3s 56us/sample - loss: 0.0095 - accuracy: 0.9971 - val_loss: 0.0875 - val_accuracy: 0.9801\n",
      "Epoch 19/20\n",
      "50000/50000 [==============================] - 3s 58us/sample - loss: 0.0060 - accuracy: 0.9982 - val_loss: 0.0905 - val_accuracy: 0.9807\n",
      "Epoch 20/20\n",
      "50000/50000 [==============================] - 3s 55us/sample - loss: 0.0094 - accuracy: 0.9971 - val_loss: 0.0959 - val_accuracy: 0.9774\n",
      "\n",
      "# Evaluate on test data\n",
      "test loss, test acc: [0.09070021249102465, 0.9779]\n"
     ]
    }
   ],
   "source": [
    "model = tf.keras.models.Sequential([\n",
    "  tf.keras.layers.Flatten(input_shape=(28, 28)),\n",
    "  tf.keras.layers.Dense(256, activation='relu'),\n",
    "  tf.keras.layers.BatchNormalization(),\n",
    "  tf.keras.layers.Dense(32, activation='relu'),\n",
    "  tf.keras.layers.BatchNormalization(),\n",
    "  tf.keras.layers.Dense(10, activation='softmax')\n",
    "])\n",
    "model.compile(optimizer='adam',\n",
    "              loss='sparse_categorical_crossentropy',\n",
    "              metrics=['accuracy'])\n",
    "\n",
    "\n",
    "history = model.fit(x_train, y_train, epochs=20, batch_size=128, validation_data=(x_val, y_val))\n",
    "\n",
    "print('\\n# Evaluate on test data')\n",
    "results = model.evaluate(x_test, y_test, verbose=0)\n",
    "print('test loss, test acc:', results)\n"
   ]
  },
  {
   "cell_type": "code",
   "execution_count": 14,
   "metadata": {
    "colab": {
     "base_uri": "https://localhost:8080/",
     "height": 316
    },
    "colab_type": "code",
    "id": "niCdh2TUQKce",
    "outputId": "65dfc65d-ac2e-4307-c9c0-346c93217c3b"
   },
   "outputs": [
    {
     "name": "stdout",
     "output_type": "stream",
     "text": [
      "Test score: 0.09070021249102465\n",
      "Test accuracy: 0.9779\n"
     ]
    },
    {
     "data": {
      "image/png": "[encoded data removed]",
      "text/plain": [
       "<Figure size 432x288 with 1 Axes>"
      ]
     },
     "metadata": {
      "tags": []
     },
     "output_type": "display_data"
    }
   ],
   "source": [
    "print('Test score:', results[0]) \n",
    "print('Test accuracy:', results[1])\n",
    "\n",
    "fig,ax = plt.subplots(1,1)\n",
    "ax.set_xlabel('epoch') ; ax.set_ylabel('Categorical Crossentropy Loss')\n",
    "\n",
    "# list of epoch numbers\n",
    "x = list(range(1,nb_epoch+1))\n",
    "\n",
    "# print(history.history.keys())\n",
    "# dict_keys(['val_loss', 'val_acc', 'loss', 'acc'])\n",
    "# history = model_drop.fit(X_train, Y_train, batch_size=batch_size, epochs=nb_epoch, verbose=1, validation_data=(X_test, Y_test))\n",
    "\n",
    "# we will get val_loss and val_acc only when you pass the paramter validation_data\n",
    "# val_loss : validation loss\n",
    "# val_acc : validation accuracy\n",
    "\n",
    "# loss : training loss\n",
    "# acc : train accuracy\n",
    "# for each key in histrory.histrory we will have a list of length equal to number of epochs\n",
    "\n",
    "vy = history.history['val_loss']\n",
    "ty = history.history['loss']\n",
    "plt_dynamic(x, vy, ty, ax)"
   ]
  },
  {
   "cell_type": "markdown",
   "metadata": {
    "colab_type": "text",
    "id": "u0xMzqvOzmre"
   },
   "source": [
    "<h2> MLP + ReLU + Adam + Dropout + Batch Normalization</h2>"
   ]
  },
  {
   "cell_type": "code",
   "execution_count": 15,
   "metadata": {
    "colab": {
     "base_uri": "https://localhost:8080/",
     "height": 825
    },
    "colab_type": "code",
    "id": "_hPh5CiYznW9",
    "outputId": "0778a00c-1770-4441-f3f0-bd3e7e70ae6d"
   },
   "outputs": [
    {
     "name": "stdout",
     "output_type": "stream",
     "text": [
      "Train on 50000 samples, validate on 10000 samples\n",
      "Epoch 1/20\n",
      "50000/50000 [==============================] - 4s 85us/sample - loss: 0.8782 - accuracy: 0.7462 - val_loss: 0.2500 - val_accuracy: 0.9395\n",
      "Epoch 2/20\n",
      "50000/50000 [==============================] - 3s 60us/sample - loss: 0.4540 - accuracy: 0.8763 - val_loss: 0.1513 - val_accuracy: 0.9589\n",
      "Epoch 3/20\n",
      "50000/50000 [==============================] - 3s 58us/sample - loss: 0.3630 - accuracy: 0.8983 - val_loss: 0.1278 - val_accuracy: 0.9649\n",
      "Epoch 4/20\n",
      "50000/50000 [==============================] - 3s 61us/sample - loss: 0.3111 - accuracy: 0.9143 - val_loss: 0.1193 - val_accuracy: 0.9658\n",
      "Epoch 5/20\n",
      "50000/50000 [==============================] - 3s 58us/sample - loss: 0.2885 - accuracy: 0.9205 - val_loss: 0.1077 - val_accuracy: 0.9704\n",
      "Epoch 6/20\n",
      "50000/50000 [==============================] - 3s 57us/sample - loss: 0.2737 - accuracy: 0.9237 - val_loss: 0.1012 - val_accuracy: 0.9701\n",
      "Epoch 7/20\n",
      "50000/50000 [==============================] - 3s 59us/sample - loss: 0.2560 - accuracy: 0.9289 - val_loss: 0.1021 - val_accuracy: 0.9712\n",
      "Epoch 8/20\n",
      "50000/50000 [==============================] - 3s 59us/sample - loss: 0.2461 - accuracy: 0.9305 - val_loss: 0.0995 - val_accuracy: 0.9711\n",
      "Epoch 9/20\n",
      "50000/50000 [==============================] - 3s 58us/sample - loss: 0.2384 - accuracy: 0.9329 - val_loss: 0.0968 - val_accuracy: 0.9716\n",
      "Epoch 10/20\n",
      "50000/50000 [==============================] - 3s 58us/sample - loss: 0.2297 - accuracy: 0.9354 - val_loss: 0.0948 - val_accuracy: 0.9729\n",
      "Epoch 11/20\n",
      "50000/50000 [==============================] - 3s 59us/sample - loss: 0.2176 - accuracy: 0.9381 - val_loss: 0.0973 - val_accuracy: 0.9721\n",
      "Epoch 12/20\n",
      "50000/50000 [==============================] - 3s 57us/sample - loss: 0.2136 - accuracy: 0.9395 - val_loss: 0.0947 - val_accuracy: 0.9733\n",
      "Epoch 13/20\n",
      "50000/50000 [==============================] - 3s 58us/sample - loss: 0.2043 - accuracy: 0.9421 - val_loss: 0.0930 - val_accuracy: 0.9738\n",
      "Epoch 14/20\n",
      "50000/50000 [==============================] - 3s 61us/sample - loss: 0.2026 - accuracy: 0.9434 - val_loss: 0.0911 - val_accuracy: 0.9750\n",
      "Epoch 15/20\n",
      "50000/50000 [==============================] - 3s 61us/sample - loss: 0.1978 - accuracy: 0.9433 - val_loss: 0.0913 - val_accuracy: 0.9744\n",
      "Epoch 16/20\n",
      "50000/50000 [==============================] - 3s 59us/sample - loss: 0.2028 - accuracy: 0.9423 - val_loss: 0.0907 - val_accuracy: 0.9752\n",
      "Epoch 17/20\n",
      "50000/50000 [==============================] - 3s 59us/sample - loss: 0.1971 - accuracy: 0.9442 - val_loss: 0.0890 - val_accuracy: 0.9747\n",
      "Epoch 18/20\n",
      "50000/50000 [==============================] - 3s 61us/sample - loss: 0.1932 - accuracy: 0.9455 - val_loss: 0.0849 - val_accuracy: 0.9760\n",
      "Epoch 19/20\n",
      "50000/50000 [==============================] - 3s 62us/sample - loss: 0.1873 - accuracy: 0.9453 - val_loss: 0.0841 - val_accuracy: 0.9762\n",
      "Epoch 20/20\n",
      "50000/50000 [==============================] - 3s 59us/sample - loss: 0.1787 - accuracy: 0.9481 - val_loss: 0.0867 - val_accuracy: 0.9758\n",
      "\n",
      "# Evaluate on test data\n",
      "test loss, test acc: [0.09050388644536725, 0.9728]\n"
     ]
    }
   ],
   "source": [
    "model = tf.keras.models.Sequential([\n",
    "  tf.keras.layers.Flatten(input_shape=(28, 28)),\n",
    "  tf.keras.layers.Dense(256, activation='relu'),\n",
    "  tf.keras.layers.Dropout(0.5),\n",
    "  tf.keras.layers.BatchNormalization(),\n",
    "  tf.keras.layers.Dense(32, activation='relu'),\n",
    "  tf.keras.layers.Dropout(0.5),\n",
    "  tf.keras.layers.BatchNormalization(),\n",
    "  tf.keras.layers.Dense(10, activation='softmax')\n",
    "])\n",
    "model.compile(optimizer='adam',\n",
    "              loss='sparse_categorical_crossentropy',\n",
    "              metrics=['accuracy'])\n",
    "\n",
    "\n",
    "history = model.fit(x_train, y_train, epochs=20, batch_size=128, validation_data=(x_val, y_val))\n",
    "\n",
    "print('\\n# Evaluate on test data')\n",
    "results = model.evaluate(x_test, y_test, verbose=0)\n",
    "print('test loss, test acc:', results)\n"
   ]
  },
  {
   "cell_type": "code",
   "execution_count": 16,
   "metadata": {
    "colab": {
     "base_uri": "https://localhost:8080/",
     "height": 316
    },
    "colab_type": "code",
    "id": "Wc97q-gUzn2u",
    "outputId": "bc1f64b3-5a04-4463-875b-3f0da24ea7d8"
   },
   "outputs": [
    {
     "name": "stdout",
     "output_type": "stream",
     "text": [
      "Test score: 0.09050388644536725\n",
      "Test accuracy: 0.9728\n"
     ]
    },
    {
     "data": {
      "image/png": "[encoded data removed]",
      "text/plain": [
       "<Figure size 432x288 with 1 Axes>"
      ]
     },
     "metadata": {
      "tags": []
     },
     "output_type": "display_data"
    }
   ],
   "source": [
    "print('Test score:', results[0]) \n",
    "print('Test accuracy:', results[1])\n",
    "\n",
    "fig,ax = plt.subplots(1,1)\n",
    "ax.set_xlabel('epoch') ; ax.set_ylabel('Categorical Crossentropy Loss')\n",
    "\n",
    "# list of epoch numbers\n",
    "x = list(range(1,nb_epoch+1))\n",
    "\n",
    "# print(history.history.keys())\n",
    "# dict_keys(['val_loss', 'val_acc', 'loss', 'acc'])\n",
    "# history = model_drop.fit(X_train, Y_train, batch_size=batch_size, epochs=nb_epoch, verbose=1, validation_data=(X_test, Y_test))\n",
    "\n",
    "# we will get val_loss and val_acc only when you pass the paramter validation_data\n",
    "# val_loss : validation loss\n",
    "# val_acc : validation accuracy\n",
    "\n",
    "# loss : training loss\n",
    "# acc : train accuracy\n",
    "# for each key in histrory.histrory we will have a list of length equal to number of epochs\n",
    "\n",
    "vy = history.history['val_loss']\n",
    "ty = history.history['loss']\n",
    "plt_dynamic(x, vy, ty, ax)"
   ]
  },
  {
   "cell_type": "markdown",
   "metadata": {
    "colab_type": "text",
    "id": "TjduBU7hQKch"
   },
   "source": [
    "<h2> 3 Layer MLP + ReLU + Adam </2>"
   ]
  },
  {
   "cell_type": "code",
   "execution_count": 17,
   "metadata": {
    "colab": {
     "base_uri": "https://localhost:8080/",
     "height": 825
    },
    "colab_type": "code",
    "id": "KGHnPnoTQKci",
    "outputId": "25797de3-2f83-4e5b-d9fd-ff50aba3bc77"
   },
   "outputs": [
    {
     "name": "stdout",
     "output_type": "stream",
     "text": [
      "Train on 50000 samples, validate on 10000 samples\n",
      "Epoch 1/20\n",
      "50000/50000 [==============================] - 3s 52us/sample - loss: 0.2975 - accuracy: 0.9125 - val_loss: 0.1323 - val_accuracy: 0.9612\n",
      "Epoch 2/20\n",
      "50000/50000 [==============================] - 2s 41us/sample - loss: 0.1093 - accuracy: 0.9673 - val_loss: 0.0912 - val_accuracy: 0.9729\n",
      "Epoch 3/20\n",
      "50000/50000 [==============================] - 2s 41us/sample - loss: 0.0693 - accuracy: 0.9788 - val_loss: 0.0982 - val_accuracy: 0.9712\n",
      "Epoch 4/20\n",
      "50000/50000 [==============================] - 2s 41us/sample - loss: 0.0495 - accuracy: 0.9848 - val_loss: 0.0999 - val_accuracy: 0.9716\n",
      "Epoch 5/20\n",
      "50000/50000 [==============================] - 2s 41us/sample - loss: 0.0358 - accuracy: 0.9887 - val_loss: 0.0788 - val_accuracy: 0.9777\n",
      "Epoch 6/20\n",
      "50000/50000 [==============================] - 2s 41us/sample - loss: 0.0257 - accuracy: 0.9919 - val_loss: 0.0891 - val_accuracy: 0.9775\n",
      "Epoch 7/20\n",
      "50000/50000 [==============================] - 2s 41us/sample - loss: 0.0234 - accuracy: 0.9923 - val_loss: 0.0834 - val_accuracy: 0.9785\n",
      "Epoch 8/20\n",
      "50000/50000 [==============================] - 2s 44us/sample - loss: 0.0197 - accuracy: 0.9935 - val_loss: 0.0870 - val_accuracy: 0.9798\n",
      "Epoch 9/20\n",
      "50000/50000 [==============================] - 2s 44us/sample - loss: 0.0194 - accuracy: 0.9937 - val_loss: 0.1037 - val_accuracy: 0.9751\n",
      "Epoch 10/20\n",
      "50000/50000 [==============================] - 2s 44us/sample - loss: 0.0142 - accuracy: 0.9954 - val_loss: 0.0956 - val_accuracy: 0.9772\n",
      "Epoch 11/20\n",
      "50000/50000 [==============================] - 2s 44us/sample - loss: 0.0138 - accuracy: 0.9954 - val_loss: 0.1065 - val_accuracy: 0.9756\n",
      "Epoch 12/20\n",
      "50000/50000 [==============================] - 2s 44us/sample - loss: 0.0081 - accuracy: 0.9972 - val_loss: 0.0997 - val_accuracy: 0.9798\n",
      "Epoch 13/20\n",
      "50000/50000 [==============================] - 2s 42us/sample - loss: 0.0120 - accuracy: 0.9959 - val_loss: 0.1049 - val_accuracy: 0.9780\n",
      "Epoch 14/20\n",
      "50000/50000 [==============================] - 2s 42us/sample - loss: 0.0129 - accuracy: 0.9956 - val_loss: 0.1082 - val_accuracy: 0.9774\n",
      "Epoch 15/20\n",
      "50000/50000 [==============================] - 2s 40us/sample - loss: 0.0096 - accuracy: 0.9970 - val_loss: 0.0970 - val_accuracy: 0.9808\n",
      "Epoch 16/20\n",
      "50000/50000 [==============================] - 2s 42us/sample - loss: 0.0120 - accuracy: 0.9961 - val_loss: 0.0931 - val_accuracy: 0.9810\n",
      "Epoch 17/20\n",
      "50000/50000 [==============================] - 2s 41us/sample - loss: 0.0097 - accuracy: 0.9970 - val_loss: 0.1393 - val_accuracy: 0.9727\n",
      "Epoch 18/20\n",
      "50000/50000 [==============================] - 2s 40us/sample - loss: 0.0076 - accuracy: 0.9977 - val_loss: 0.1007 - val_accuracy: 0.9816\n",
      "Epoch 19/20\n",
      "50000/50000 [==============================] - 2s 42us/sample - loss: 0.0050 - accuracy: 0.9985 - val_loss: 0.0881 - val_accuracy: 0.9830\n",
      "Epoch 20/20\n",
      "50000/50000 [==============================] - 2s 42us/sample - loss: 0.0032 - accuracy: 0.9991 - val_loss: 0.1056 - val_accuracy: 0.9803\n",
      "\n",
      "# Evaluate on test data\n",
      "test loss, test acc: [0.11227481371758283, 0.9809]\n"
     ]
    }
   ],
   "source": [
    "model = tf.keras.models.Sequential([\n",
    "  tf.keras.layers.Flatten(input_shape=(28, 28)),\n",
    "  tf.keras.layers.Dense(512, activation='relu'),\n",
    "  tf.keras.layers.Dense(128, activation='relu'),\n",
    "  tf.keras.layers.Dense(32, activation='relu'),\n",
    "  tf.keras.layers.Dense(10, activation='softmax')\n",
    "])\n",
    "model.compile(optimizer='adam',\n",
    "              loss='sparse_categorical_crossentropy',\n",
    "              metrics=['accuracy'])\n",
    "\n",
    "\n",
    "history = model.fit(x_train, y_train, epochs=20, batch_size=128, validation_data=(x_val, y_val))\n",
    "\n",
    "print('\\n# Evaluate on test data')\n",
    "results = model.evaluate(x_test, y_test, verbose=0)\n",
    "print('test loss, test acc:', results)\n"
   ]
  },
  {
   "cell_type": "code",
   "execution_count": 18,
   "metadata": {
    "colab": {
     "base_uri": "https://localhost:8080/",
     "height": 316
    },
    "colab_type": "code",
    "id": "yMPo5fcUQKcm",
    "outputId": "d936f537-f96c-4ca2-abcb-25ffdda96bc1"
   },
   "outputs": [
    {
     "name": "stdout",
     "output_type": "stream",
     "text": [
      "Test score: 0.11227481371758283\n",
      "Test accuracy: 0.9809\n"
     ]
    },
    {
     "data": {
      "image/png": "[encoded data removed]",
      "text/plain": [
       "<Figure size 432x288 with 1 Axes>"
      ]
     },
     "metadata": {
      "tags": []
     },
     "output_type": "display_data"
    }
   ],
   "source": [
    "print('Test score:', results[0]) \n",
    "print('Test accuracy:', results[1])\n",
    "\n",
    "fig,ax = plt.subplots(1,1)\n",
    "ax.set_xlabel('epoch') ; ax.set_ylabel('Categorical Crossentropy Loss')\n",
    "\n",
    "# list of epoch numbers\n",
    "x = list(range(1,nb_epoch+1))\n",
    "\n",
    "# print(history.history.keys())\n",
    "# dict_keys(['val_loss', 'val_acc', 'loss', 'acc'])\n",
    "# history = model_drop.fit(X_train, Y_train, batch_size=batch_size, epochs=nb_epoch, verbose=1, validation_data=(X_test, Y_test))\n",
    "\n",
    "# we will get val_loss and val_acc only when you pass the paramter validation_data\n",
    "# val_loss : validation loss\n",
    "# val_acc : validation accuracy\n",
    "\n",
    "# loss : training loss\n",
    "# acc : train accuracy\n",
    "# for each key in histrory.histrory we will have a list of length equal to number of epochs\n",
    "\n",
    "vy = history.history['val_loss']\n",
    "ty = history.history['loss']\n",
    "plt_dynamic(x, vy, ty, ax)"
   ]
  },
  {
   "cell_type": "markdown",
   "metadata": {
    "colab_type": "text",
    "id": "IWYP8-3pQKct"
   },
   "source": [
    "<h2> 3 Layer MLP + RelU + Adam + Dropout </h2>"
   ]
  },
  {
   "cell_type": "code",
   "execution_count": 19,
   "metadata": {
    "colab": {
     "base_uri": "https://localhost:8080/",
     "height": 825
    },
    "colab_type": "code",
    "id": "DJj0hu0-QKct",
    "outputId": "0ec87dbc-6c66-4c5d-ec16-8f9d7edccc59"
   },
   "outputs": [
    {
     "name": "stdout",
     "output_type": "stream",
     "text": [
      "Train on 50000 samples, validate on 10000 samples\n",
      "Epoch 1/20\n",
      "50000/50000 [==============================] - 3s 59us/sample - loss: 0.9460 - accuracy: 0.6898 - val_loss: 0.2319 - val_accuracy: 0.9383\n",
      "Epoch 2/20\n",
      "50000/50000 [==============================] - 2s 44us/sample - loss: 0.4179 - accuracy: 0.8859 - val_loss: 0.1588 - val_accuracy: 0.9598\n",
      "Epoch 3/20\n",
      "50000/50000 [==============================] - 2s 43us/sample - loss: 0.3226 - accuracy: 0.9134 - val_loss: 0.1272 - val_accuracy: 0.9670\n",
      "Epoch 4/20\n",
      "50000/50000 [==============================] - 2s 44us/sample - loss: 0.2760 - accuracy: 0.9287 - val_loss: 0.1187 - val_accuracy: 0.9713\n",
      "Epoch 5/20\n",
      "50000/50000 [==============================] - 2s 43us/sample - loss: 0.2396 - accuracy: 0.9373 - val_loss: 0.1121 - val_accuracy: 0.9720\n",
      "Epoch 6/20\n",
      "50000/50000 [==============================] - 2s 44us/sample - loss: 0.2138 - accuracy: 0.9452 - val_loss: 0.1036 - val_accuracy: 0.9728\n",
      "Epoch 7/20\n",
      "50000/50000 [==============================] - 2s 43us/sample - loss: 0.2001 - accuracy: 0.9470 - val_loss: 0.1020 - val_accuracy: 0.9735\n",
      "Epoch 8/20\n",
      "50000/50000 [==============================] - 2s 43us/sample - loss: 0.1885 - accuracy: 0.9510 - val_loss: 0.1033 - val_accuracy: 0.9743\n",
      "Epoch 9/20\n",
      "50000/50000 [==============================] - 2s 43us/sample - loss: 0.1708 - accuracy: 0.9543 - val_loss: 0.1031 - val_accuracy: 0.9748\n",
      "Epoch 10/20\n",
      "50000/50000 [==============================] - 2s 43us/sample - loss: 0.1664 - accuracy: 0.9555 - val_loss: 0.0988 - val_accuracy: 0.9770\n",
      "Epoch 11/20\n",
      "50000/50000 [==============================] - 2s 44us/sample - loss: 0.1601 - accuracy: 0.9583 - val_loss: 0.0986 - val_accuracy: 0.9777\n",
      "Epoch 12/20\n",
      "50000/50000 [==============================] - 2s 43us/sample - loss: 0.1474 - accuracy: 0.9611 - val_loss: 0.0950 - val_accuracy: 0.9790\n",
      "Epoch 13/20\n",
      "50000/50000 [==============================] - 2s 43us/sample - loss: 0.1400 - accuracy: 0.9624 - val_loss: 0.0944 - val_accuracy: 0.9777\n",
      "Epoch 14/20\n",
      "50000/50000 [==============================] - 2s 43us/sample - loss: 0.1354 - accuracy: 0.9641 - val_loss: 0.0955 - val_accuracy: 0.9793\n",
      "Epoch 15/20\n",
      "50000/50000 [==============================] - 2s 43us/sample - loss: 0.1291 - accuracy: 0.9649 - val_loss: 0.0960 - val_accuracy: 0.9793\n",
      "Epoch 16/20\n",
      "50000/50000 [==============================] - 2s 43us/sample - loss: 0.1248 - accuracy: 0.9662 - val_loss: 0.0916 - val_accuracy: 0.9788\n",
      "Epoch 17/20\n",
      "50000/50000 [==============================] - 2s 42us/sample - loss: 0.1295 - accuracy: 0.9646 - val_loss: 0.0929 - val_accuracy: 0.9791\n",
      "Epoch 18/20\n",
      "50000/50000 [==============================] - 2s 42us/sample - loss: 0.1239 - accuracy: 0.9657 - val_loss: 0.0976 - val_accuracy: 0.9792\n",
      "Epoch 19/20\n",
      "50000/50000 [==============================] - 2s 44us/sample - loss: 0.1143 - accuracy: 0.9684 - val_loss: 0.0963 - val_accuracy: 0.9802\n",
      "Epoch 20/20\n",
      "50000/50000 [==============================] - 2s 45us/sample - loss: 0.1153 - accuracy: 0.9694 - val_loss: 0.0935 - val_accuracy: 0.9810\n",
      "\n",
      "# Evaluate on test data\n",
      "test loss, test acc: [0.10055661600154113, 0.9792]\n"
     ]
    }
   ],
   "source": [
    "model = tf.keras.models.Sequential([\n",
    "  tf.keras.layers.Flatten(input_shape=(28, 28)),\n",
    "  tf.keras.layers.Dense(512, activation='relu'),\n",
    "  tf.keras.layers.Dropout(0.5),\n",
    "  tf.keras.layers.Dense(128, activation='relu'),\n",
    "  tf.keras.layers.Dropout(0.5),\n",
    "  tf.keras.layers.Dense(32, activation='relu'),\n",
    "  tf.keras.layers.Dropout(0.5),\n",
    "  tf.keras.layers.Dense(10, activation='softmax')\n",
    "])\n",
    "model.compile(optimizer='adam',\n",
    "              loss='sparse_categorical_crossentropy',\n",
    "              metrics=['accuracy'])\n",
    "\n",
    "\n",
    "history = model.fit(x_train, y_train, epochs=20, batch_size=128, validation_data=(x_val, y_val))\n",
    "\n",
    "print('\\n# Evaluate on test data')\n",
    "results = model.evaluate(x_test, y_test, verbose=0)\n",
    "print('test loss, test acc:', results)\n"
   ]
  },
  {
   "cell_type": "code",
   "execution_count": 20,
   "metadata": {
    "colab": {
     "base_uri": "https://localhost:8080/",
     "height": 316
    },
    "colab_type": "code",
    "id": "J5pc4W_9QKcw",
    "outputId": "452de77b-3593-4e57-b0ed-328d98447089"
   },
   "outputs": [
    {
     "name": "stdout",
     "output_type": "stream",
     "text": [
      "Test score: 0.10055661600154113\n",
      "Test accuracy: 0.9792\n"
     ]
    },
    {
     "data": {
      "image/png": "[encoded data removed]",
      "text/plain": [
       "<Figure size 432x288 with 1 Axes>"
      ]
     },
     "metadata": {
      "tags": []
     },
     "output_type": "display_data"
    }
   ],
   "source": [
    "print('Test score:', results[0]) \n",
    "print('Test accuracy:', results[1])\n",
    "\n",
    "fig,ax = plt.subplots(1,1)\n",
    "ax.set_xlabel('epoch') ; ax.set_ylabel('Categorical Crossentropy Loss')\n",
    "\n",
    "# list of epoch numbers\n",
    "x = list(range(1,nb_epoch+1))\n",
    "\n",
    "# print(history.history.keys())\n",
    "# dict_keys(['val_loss', 'val_acc', 'loss', 'acc'])\n",
    "# history = model_drop.fit(X_train, Y_train, batch_size=batch_size, epochs=nb_epoch, verbose=1, validation_data=(X_test, Y_test))\n",
    "\n",
    "# we will get val_loss and val_acc only when you pass the paramter validation_data\n",
    "# val_loss : validation loss\n",
    "# val_acc : validation accuracy\n",
    "\n",
    "# loss : training loss\n",
    "# acc : train accuracy\n",
    "# for each key in histrory.histrory we will have a list of length equal to number of epochs\n",
    "\n",
    "vy = history.history['val_loss']\n",
    "ty = history.history['loss']\n",
    "plt_dynamic(x, vy, ty, ax)"
   ]
  },
  {
   "cell_type": "markdown",
   "metadata": {
    "colab_type": "text",
    "id": "Na-ji26skt2o"
   },
   "source": [
    "<h2> 3 Layer MLP + ReLU + Batch Normalization + Adam"
   ]
  },
  {
   "cell_type": "code",
   "execution_count": 21,
   "metadata": {
    "colab": {
     "base_uri": "https://localhost:8080/",
     "height": 825
    },
    "colab_type": "code",
    "id": "BF0J0lKjko0C",
    "outputId": "d26929fe-2a79-474c-b93c-c88fca2ebf5f"
   },
   "outputs": [
    {
     "name": "stdout",
     "output_type": "stream",
     "text": [
      "Train on 50000 samples, validate on 10000 samples\n",
      "Epoch 1/20\n",
      "50000/50000 [==============================] - 5s 105us/sample - loss: 0.2440 - accuracy: 0.9327 - val_loss: 0.1218 - val_accuracy: 0.9654\n",
      "Epoch 2/20\n",
      "50000/50000 [==============================] - 4s 71us/sample - loss: 0.0855 - accuracy: 0.9748 - val_loss: 0.0993 - val_accuracy: 0.9714\n",
      "Epoch 3/20\n",
      "50000/50000 [==============================] - 4s 70us/sample - loss: 0.0563 - accuracy: 0.9832 - val_loss: 0.0903 - val_accuracy: 0.9718\n",
      "Epoch 4/20\n",
      "50000/50000 [==============================] - 4s 71us/sample - loss: 0.0403 - accuracy: 0.9875 - val_loss: 0.1006 - val_accuracy: 0.9701\n",
      "Epoch 5/20\n",
      "50000/50000 [==============================] - 3s 69us/sample - loss: 0.0365 - accuracy: 0.9884 - val_loss: 0.0856 - val_accuracy: 0.9768\n",
      "Epoch 6/20\n",
      "50000/50000 [==============================] - 4s 73us/sample - loss: 0.0260 - accuracy: 0.9917 - val_loss: 0.0954 - val_accuracy: 0.9726\n",
      "Epoch 7/20\n",
      "50000/50000 [==============================] - 4s 72us/sample - loss: 0.0228 - accuracy: 0.9926 - val_loss: 0.0876 - val_accuracy: 0.9760\n",
      "Epoch 8/20\n",
      "50000/50000 [==============================] - 4s 73us/sample - loss: 0.0222 - accuracy: 0.9927 - val_loss: 0.0980 - val_accuracy: 0.9730\n",
      "Epoch 9/20\n",
      "50000/50000 [==============================] - 4s 72us/sample - loss: 0.0189 - accuracy: 0.9938 - val_loss: 0.1015 - val_accuracy: 0.9742\n",
      "Epoch 10/20\n",
      "50000/50000 [==============================] - 4s 72us/sample - loss: 0.0167 - accuracy: 0.9945 - val_loss: 0.0905 - val_accuracy: 0.9772\n",
      "Epoch 11/20\n",
      "50000/50000 [==============================] - 4s 73us/sample - loss: 0.0144 - accuracy: 0.9954 - val_loss: 0.0940 - val_accuracy: 0.9771\n",
      "Epoch 12/20\n",
      "50000/50000 [==============================] - 4s 70us/sample - loss: 0.0168 - accuracy: 0.9945 - val_loss: 0.1224 - val_accuracy: 0.9667\n",
      "Epoch 13/20\n",
      "50000/50000 [==============================] - 4s 71us/sample - loss: 0.0148 - accuracy: 0.9952 - val_loss: 0.0932 - val_accuracy: 0.9773\n",
      "Epoch 14/20\n",
      "50000/50000 [==============================] - 4s 73us/sample - loss: 0.0126 - accuracy: 0.9955 - val_loss: 0.0810 - val_accuracy: 0.9811\n",
      "Epoch 15/20\n",
      "50000/50000 [==============================] - 4s 73us/sample - loss: 0.0105 - accuracy: 0.9966 - val_loss: 0.0971 - val_accuracy: 0.9786\n",
      "Epoch 16/20\n",
      "50000/50000 [==============================] - 4s 72us/sample - loss: 0.0086 - accuracy: 0.9971 - val_loss: 0.1003 - val_accuracy: 0.9783\n",
      "Epoch 17/20\n",
      "50000/50000 [==============================] - 4s 73us/sample - loss: 0.0102 - accuracy: 0.9966 - val_loss: 0.0965 - val_accuracy: 0.9770\n",
      "Epoch 18/20\n",
      "50000/50000 [==============================] - 4s 74us/sample - loss: 0.0130 - accuracy: 0.9955 - val_loss: 0.1002 - val_accuracy: 0.9764\n",
      "Epoch 19/20\n",
      "50000/50000 [==============================] - 4s 72us/sample - loss: 0.0120 - accuracy: 0.9958 - val_loss: 0.0956 - val_accuracy: 0.9788\n",
      "Epoch 20/20\n",
      "50000/50000 [==============================] - 4s 75us/sample - loss: 0.0071 - accuracy: 0.9978 - val_loss: 0.0947 - val_accuracy: 0.9799\n",
      "\n",
      "# Evaluate on test data\n",
      "test loss, test acc: [0.08156826485762213, 0.9805]\n"
     ]
    }
   ],
   "source": [
    "model = tf.keras.models.Sequential([\n",
    "  tf.keras.layers.Flatten(input_shape=(28, 28)),\n",
    "  tf.keras.layers.Dense(512, activation='relu'),\n",
    "  tf.keras.layers.BatchNormalization(),\n",
    "  tf.keras.layers.Dense(128, activation='relu'),\n",
    "  tf.keras.layers.BatchNormalization(),\n",
    "  tf.keras.layers.Dense(32, activation='relu'),\n",
    "  tf.keras.layers.BatchNormalization(),\n",
    "  tf.keras.layers.Dense(10, activation='softmax')\n",
    "])\n",
    "model.compile(optimizer='adam',\n",
    "              loss='sparse_categorical_crossentropy',\n",
    "              metrics=['accuracy'])\n",
    "\n",
    "\n",
    "history = model.fit(x_train, y_train, epochs=20, batch_size=128, validation_data=(x_val, y_val))\n",
    "\n",
    "print('\\n# Evaluate on test data')\n",
    "results = model.evaluate(x_test, y_test, verbose=0)\n",
    "print('test loss, test acc:', results)\n"
   ]
  },
  {
   "cell_type": "code",
   "execution_count": 22,
   "metadata": {
    "colab": {
     "base_uri": "https://localhost:8080/",
     "height": 316
    },
    "colab_type": "code",
    "id": "guvKwYuqkqSr",
    "outputId": "1e1fac44-6a8e-4b48-e7d0-afe5f99cea40"
   },
   "outputs": [
    {
     "name": "stdout",
     "output_type": "stream",
     "text": [
      "Test score: 0.08156826485762213\n",
      "Test accuracy: 0.9805\n"
     ]
    },
    {
     "data": {
      "image/png": "[encoded data removed]",
      "text/plain": [
       "<Figure size 432x288 with 1 Axes>"
      ]
     },
     "metadata": {
      "tags": []
     },
     "output_type": "display_data"
    }
   ],
   "source": [
    "print('Test score:', results[0]) \n",
    "print('Test accuracy:', results[1])\n",
    "\n",
    "fig,ax = plt.subplots(1,1)\n",
    "ax.set_xlabel('epoch') ; ax.set_ylabel('Categorical Crossentropy Loss')\n",
    "\n",
    "# list of epoch numbers\n",
    "x = list(range(1,nb_epoch+1))\n",
    "\n",
    "# print(history.history.keys())\n",
    "# dict_keys(['val_loss', 'val_acc', 'loss', 'acc'])\n",
    "# history = model_drop.fit(X_train, Y_train, batch_size=batch_size, epochs=nb_epoch, verbose=1, validation_data=(X_test, Y_test))\n",
    "\n",
    "# we will get val_loss and val_acc only when you pass the paramter validation_data\n",
    "# val_loss : validation loss\n",
    "# val_acc : validation accuracy\n",
    "\n",
    "# loss : training loss\n",
    "# acc : train accuracy\n",
    "# for each key in histrory.histrory we will have a list of length equal to number of epochs\n",
    "\n",
    "vy = history.history['val_loss']\n",
    "ty = history.history['loss']\n",
    "plt_dynamic(x, vy, ty, ax)"
   ]
  },
  {
   "cell_type": "markdown",
   "metadata": {
    "colab_type": "text",
    "id": "xy32Hx3-0DaV"
   },
   "source": [
    "<h2>3 Layer MLP + ReLU + Adam + Dropout + Batch Normalization<h2>"
   ]
  },
  {
   "cell_type": "code",
   "execution_count": 23,
   "metadata": {
    "colab": {
     "base_uri": "https://localhost:8080/",
     "height": 825
    },
    "colab_type": "code",
    "id": "aXYX2esk0EI_",
    "outputId": "89fe6e5d-1e40-457f-9d23-b4620bf9833e"
   },
   "outputs": [
    {
     "name": "stdout",
     "output_type": "stream",
     "text": [
      "Train on 50000 samples, validate on 10000 samples\n",
      "Epoch 1/20\n",
      "50000/50000 [==============================] - 5s 107us/sample - loss: 1.0229 - accuracy: 0.6889 - val_loss: 0.2401 - val_accuracy: 0.9463\n",
      "Epoch 2/20\n",
      "50000/50000 [==============================] - 4s 76us/sample - loss: 0.4863 - accuracy: 0.8696 - val_loss: 0.1509 - val_accuracy: 0.9589\n",
      "Epoch 3/20\n",
      "50000/50000 [==============================] - 4s 76us/sample - loss: 0.3735 - accuracy: 0.9016 - val_loss: 0.1225 - val_accuracy: 0.9658\n",
      "Epoch 4/20\n",
      "50000/50000 [==============================] - 4s 74us/sample - loss: 0.3146 - accuracy: 0.9193 - val_loss: 0.1082 - val_accuracy: 0.9700\n",
      "Epoch 5/20\n",
      "50000/50000 [==============================] - 4s 77us/sample - loss: 0.2826 - accuracy: 0.9269 - val_loss: 0.1025 - val_accuracy: 0.9720\n",
      "Epoch 6/20\n",
      "50000/50000 [==============================] - 4s 74us/sample - loss: 0.2623 - accuracy: 0.9331 - val_loss: 0.0990 - val_accuracy: 0.9738\n",
      "Epoch 7/20\n",
      "50000/50000 [==============================] - 4s 73us/sample - loss: 0.2433 - accuracy: 0.9371 - val_loss: 0.0887 - val_accuracy: 0.9760\n",
      "Epoch 8/20\n",
      "50000/50000 [==============================] - 4s 77us/sample - loss: 0.2344 - accuracy: 0.9400 - val_loss: 0.0885 - val_accuracy: 0.9767\n",
      "Epoch 9/20\n",
      "50000/50000 [==============================] - 4s 76us/sample - loss: 0.2181 - accuracy: 0.9439 - val_loss: 0.0887 - val_accuracy: 0.9762\n",
      "Epoch 10/20\n",
      "50000/50000 [==============================] - 4s 75us/sample - loss: 0.2073 - accuracy: 0.9463 - val_loss: 0.0900 - val_accuracy: 0.9750\n",
      "Epoch 11/20\n",
      "50000/50000 [==============================] - 4s 74us/sample - loss: 0.2012 - accuracy: 0.9485 - val_loss: 0.0864 - val_accuracy: 0.9776\n",
      "Epoch 12/20\n",
      "50000/50000 [==============================] - 4s 74us/sample - loss: 0.1896 - accuracy: 0.9505 - val_loss: 0.0902 - val_accuracy: 0.9775\n",
      "Epoch 13/20\n",
      "50000/50000 [==============================] - 4s 75us/sample - loss: 0.1869 - accuracy: 0.9523 - val_loss: 0.0798 - val_accuracy: 0.9795\n",
      "Epoch 14/20\n",
      "50000/50000 [==============================] - 4s 78us/sample - loss: 0.1784 - accuracy: 0.9533 - val_loss: 0.0827 - val_accuracy: 0.9799\n",
      "Epoch 15/20\n",
      "50000/50000 [==============================] - 4s 75us/sample - loss: 0.1769 - accuracy: 0.9537 - val_loss: 0.0893 - val_accuracy: 0.9782\n",
      "Epoch 16/20\n",
      "50000/50000 [==============================] - 4s 76us/sample - loss: 0.1767 - accuracy: 0.9554 - val_loss: 0.0796 - val_accuracy: 0.9798\n",
      "Epoch 17/20\n",
      "50000/50000 [==============================] - 4s 76us/sample - loss: 0.1650 - accuracy: 0.9569 - val_loss: 0.0804 - val_accuracy: 0.9792\n",
      "Epoch 18/20\n",
      "50000/50000 [==============================] - 4s 75us/sample - loss: 0.1710 - accuracy: 0.9563 - val_loss: 0.0757 - val_accuracy: 0.9809\n",
      "Epoch 19/20\n",
      "50000/50000 [==============================] - 4s 76us/sample - loss: 0.1669 - accuracy: 0.9577 - val_loss: 0.0802 - val_accuracy: 0.9794\n",
      "Epoch 20/20\n",
      "50000/50000 [==============================] - 4s 76us/sample - loss: 0.1651 - accuracy: 0.9576 - val_loss: 0.0867 - val_accuracy: 0.9789\n",
      "\n",
      "# Evaluate on test data\n",
      "test loss, test acc: [0.08376449742436526, 0.9797]\n"
     ]
    }
   ],
   "source": [
    "model = tf.keras.models.Sequential([\n",
    "  tf.keras.layers.Flatten(input_shape=(28, 28)),\n",
    "  tf.keras.layers.Dense(512, activation='relu'),\n",
    "  tf.keras.layers.Dropout(0.5),\n",
    "  tf.keras.layers.BatchNormalization(),\n",
    "  tf.keras.layers.Dense(128, activation='relu'),\n",
    "  tf.keras.layers.Dropout(0.5),\n",
    "  tf.keras.layers.BatchNormalization(),\n",
    "  tf.keras.layers.Dense(32, activation='relu'),\n",
    "  tf.keras.layers.Dropout(0.5),\n",
    "  tf.keras.layers.BatchNormalization(),\n",
    "  tf.keras.layers.Dense(10, activation='softmax')\n",
    "])\n",
    "model.compile(optimizer='adam',\n",
    "              loss='sparse_categorical_crossentropy',\n",
    "              metrics=['accuracy'])\n",
    "\n",
    "\n",
    "history = model.fit(x_train, y_train, epochs=20, batch_size=128, validation_data=(x_val, y_val))\n",
    "\n",
    "print('\\n# Evaluate on test data')\n",
    "results = model.evaluate(x_test, y_test, verbose=0)\n",
    "print('test loss, test acc:', results)\n"
   ]
  },
  {
   "cell_type": "code",
   "execution_count": 24,
   "metadata": {
    "colab": {
     "base_uri": "https://localhost:8080/",
     "height": 316
    },
    "colab_type": "code",
    "id": "zvVHPLbt0FAk",
    "outputId": "45cf5e06-a4e5-4214-ac80-bac29fa99546"
   },
   "outputs": [
    {
     "name": "stdout",
     "output_type": "stream",
     "text": [
      "Test score: 0.08376449742436526\n",
      "Test accuracy: 0.9797\n"
     ]
    },
    {
     "data": {
      "image/png": "[encoded data removed]",
      "text/plain": [
       "<Figure size 432x288 with 1 Axes>"
      ]
     },
     "metadata": {
      "tags": []
     },
     "output_type": "display_data"
    }
   ],
   "source": [
    "print('Test score:', results[0]) \n",
    "print('Test accuracy:', results[1])\n",
    "\n",
    "fig,ax = plt.subplots(1,1)\n",
    "ax.set_xlabel('epoch') ; ax.set_ylabel('Categorical Crossentropy Loss')\n",
    "\n",
    "# list of epoch numbers\n",
    "x = list(range(1,nb_epoch+1))\n",
    "\n",
    "# print(history.history.keys())\n",
    "# dict_keys(['val_loss', 'val_acc', 'loss', 'acc'])\n",
    "# history = model_drop.fit(X_train, Y_train, batch_size=batch_size, epochs=nb_epoch, verbose=1, validation_data=(X_test, Y_test))\n",
    "\n",
    "# we will get val_loss and val_acc only when you pass the paramter validation_data\n",
    "# val_loss : validation loss\n",
    "# val_acc : validation accuracy\n",
    "\n",
    "# loss : training loss\n",
    "# acc : train accuracy\n",
    "# for each key in histrory.histrory we will have a list of length equal to number of epochs\n",
    "\n",
    "vy = history.history['val_loss']\n",
    "ty = history.history['loss']\n",
    "plt_dynamic(x, vy, ty, ax)"
   ]
  },
  {
   "cell_type": "markdown",
   "metadata": {
    "colab_type": "text",
    "id": "cKkj3qtaqYp2"
   },
   "source": [
    "<h2> 5 Layer MLP + ReLU + Adam</h2>"
   ]
  },
  {
   "cell_type": "code",
   "execution_count": 25,
   "metadata": {
    "colab": {
     "base_uri": "https://localhost:8080/",
     "height": 825
    },
    "colab_type": "code",
    "id": "y7pfegUikrqL",
    "outputId": "5f21b8c4-cfde-4757-9edc-0267a68fccd9"
   },
   "outputs": [
    {
     "name": "stdout",
     "output_type": "stream",
     "text": [
      "Train on 50000 samples, validate on 10000 samples\n",
      "Epoch 1/20\n",
      "50000/50000 [==============================] - 3s 59us/sample - loss: 0.3018 - accuracy: 0.9075 - val_loss: 0.1428 - val_accuracy: 0.9557\n",
      "Epoch 2/20\n",
      "50000/50000 [==============================] - 2s 47us/sample - loss: 0.0996 - accuracy: 0.9704 - val_loss: 0.0936 - val_accuracy: 0.9734\n",
      "Epoch 3/20\n",
      "50000/50000 [==============================] - 2s 46us/sample - loss: 0.0678 - accuracy: 0.9786 - val_loss: 0.0908 - val_accuracy: 0.9731\n",
      "Epoch 4/20\n",
      "50000/50000 [==============================] - 2s 46us/sample - loss: 0.0473 - accuracy: 0.9857 - val_loss: 0.0950 - val_accuracy: 0.9727\n",
      "Epoch 5/20\n",
      "50000/50000 [==============================] - 2s 46us/sample - loss: 0.0386 - accuracy: 0.9875 - val_loss: 0.0792 - val_accuracy: 0.9782\n",
      "Epoch 6/20\n",
      "50000/50000 [==============================] - 2s 47us/sample - loss: 0.0304 - accuracy: 0.9904 - val_loss: 0.0902 - val_accuracy: 0.9767\n",
      "Epoch 7/20\n",
      "50000/50000 [==============================] - 2s 47us/sample - loss: 0.0244 - accuracy: 0.9923 - val_loss: 0.0874 - val_accuracy: 0.9770\n",
      "Epoch 8/20\n",
      "50000/50000 [==============================] - 2s 46us/sample - loss: 0.0236 - accuracy: 0.9927 - val_loss: 0.0941 - val_accuracy: 0.9775\n",
      "Epoch 9/20\n",
      "50000/50000 [==============================] - 2s 45us/sample - loss: 0.0208 - accuracy: 0.9935 - val_loss: 0.0855 - val_accuracy: 0.9805\n",
      "Epoch 10/20\n",
      "50000/50000 [==============================] - 2s 47us/sample - loss: 0.0173 - accuracy: 0.9944 - val_loss: 0.1199 - val_accuracy: 0.9724\n",
      "Epoch 11/20\n",
      "50000/50000 [==============================] - 2s 46us/sample - loss: 0.0197 - accuracy: 0.9937 - val_loss: 0.1033 - val_accuracy: 0.9762\n",
      "Epoch 12/20\n",
      "50000/50000 [==============================] - 2s 45us/sample - loss: 0.0171 - accuracy: 0.9952 - val_loss: 0.1236 - val_accuracy: 0.9752\n",
      "Epoch 13/20\n",
      "50000/50000 [==============================] - 2s 47us/sample - loss: 0.0183 - accuracy: 0.9943 - val_loss: 0.0897 - val_accuracy: 0.9791\n",
      "Epoch 14/20\n",
      "50000/50000 [==============================] - 2s 46us/sample - loss: 0.0117 - accuracy: 0.9967 - val_loss: 0.0888 - val_accuracy: 0.9805\n",
      "Epoch 15/20\n",
      "50000/50000 [==============================] - 2s 46us/sample - loss: 0.0146 - accuracy: 0.9955 - val_loss: 0.1053 - val_accuracy: 0.9787\n",
      "Epoch 16/20\n",
      "50000/50000 [==============================] - 2s 46us/sample - loss: 0.0115 - accuracy: 0.9965 - val_loss: 0.1044 - val_accuracy: 0.9783\n",
      "Epoch 17/20\n",
      "50000/50000 [==============================] - 2s 46us/sample - loss: 0.0134 - accuracy: 0.9958 - val_loss: 0.0918 - val_accuracy: 0.9800\n",
      "Epoch 18/20\n",
      "50000/50000 [==============================] - 2s 46us/sample - loss: 0.0113 - accuracy: 0.9966 - val_loss: 0.1129 - val_accuracy: 0.9767\n",
      "Epoch 19/20\n",
      "50000/50000 [==============================] - 2s 46us/sample - loss: 0.0113 - accuracy: 0.9964 - val_loss: 0.1056 - val_accuracy: 0.9775\n",
      "Epoch 20/20\n",
      "50000/50000 [==============================] - 2s 46us/sample - loss: 0.0098 - accuracy: 0.9973 - val_loss: 0.1102 - val_accuracy: 0.9790\n",
      "\n",
      "# Evaluate on test data\n",
      "test loss, test acc: [0.10341003260770486, 0.979]\n"
     ]
    }
   ],
   "source": [
    "model = tf.keras.models.Sequential([\n",
    "  tf.keras.layers.Flatten(input_shape=(28, 28)),\n",
    "  tf.keras.layers.Dense(512, activation='relu'),\n",
    "  tf.keras.layers.Dense(256, activation='relu'),\n",
    "  tf.keras.layers.Dense(128, activation='relu'),\n",
    "  tf.keras.layers.Dense(64, activation='relu'),\n",
    "  tf.keras.layers.Dense(32, activation='relu'),\n",
    "  tf.keras.layers.Dense(10, activation='softmax')\n",
    "])\n",
    "model.compile(optimizer='adam',\n",
    "              loss='sparse_categorical_crossentropy',\n",
    "              metrics=['accuracy'])\n",
    "\n",
    "\n",
    "history = model.fit(x_train, y_train, epochs=20, batch_size=128, validation_data=(x_val, y_val))\n",
    "\n",
    "print('\\n# Evaluate on test data')\n",
    "results = model.evaluate(x_test, y_test, verbose=0)\n",
    "print('test loss, test acc:', results)\n"
   ]
  },
  {
   "cell_type": "code",
   "execution_count": 26,
   "metadata": {
    "colab": {
     "base_uri": "https://localhost:8080/",
     "height": 316
    },
    "colab_type": "code",
    "id": "QtKKJIBBksT-",
    "outputId": "b1d61eaa-3022-448a-b04b-66dc80bcc7b4"
   },
   "outputs": [
    {
     "name": "stdout",
     "output_type": "stream",
     "text": [
      "Test score: 0.10341003260770486\n",
      "Test accuracy: 0.979\n"
     ]
    },
    {
     "data": {
      "image/png": "[encoded data removed]",
      "text/plain": [
       "<Figure size 432x288 with 1 Axes>"
      ]
     },
     "metadata": {
      "tags": []
     },
     "output_type": "display_data"
    }
   ],
   "source": [
    "print('Test score:', results[0]) \n",
    "print('Test accuracy:', results[1])\n",
    "\n",
    "fig,ax = plt.subplots(1,1)\n",
    "ax.set_xlabel('epoch') ; ax.set_ylabel('Categorical Crossentropy Loss')\n",
    "\n",
    "# list of epoch numbers\n",
    "x = list(range(1,nb_epoch+1))\n",
    "\n",
    "# print(history.history.keys())\n",
    "# dict_keys(['val_loss', 'val_acc', 'loss', 'acc'])\n",
    "# history = model_drop.fit(X_train, Y_train, batch_size=batch_size, epochs=nb_epoch, verbose=1, validation_data=(X_test, Y_test))\n",
    "\n",
    "# we will get val_loss and val_acc only when you pass the paramter validation_data\n",
    "# val_loss : validation loss\n",
    "# val_acc : validation accuracy\n",
    "\n",
    "# loss : training loss\n",
    "# acc : train accuracy\n",
    "# for each key in histrory.histrory we will have a list of length equal to number of epochs\n",
    "\n",
    "vy = history.history['val_loss']\n",
    "ty = history.history['loss']\n",
    "plt_dynamic(x, vy, ty, ax)"
   ]
  },
  {
   "cell_type": "markdown",
   "metadata": {
    "colab_type": "text",
    "id": "vdtJmZDuzBFF"
   },
   "source": [
    "<h2> 5 Layer MLP + ReLU + Adam + Dropout </h2>"
   ]
  },
  {
   "cell_type": "code",
   "execution_count": 27,
   "metadata": {
    "colab": {
     "base_uri": "https://localhost:8080/",
     "height": 825
    },
    "colab_type": "code",
    "id": "gO_om97_krYx",
    "outputId": "04eed859-9cf4-4042-e4c5-34c4cb81d909"
   },
   "outputs": [
    {
     "name": "stdout",
     "output_type": "stream",
     "text": [
      "Train on 50000 samples, validate on 10000 samples\n",
      "Epoch 1/20\n",
      "50000/50000 [==============================] - 4s 72us/sample - loss: 1.6226 - accuracy: 0.3919 - val_loss: 0.5522 - val_accuracy: 0.8253\n",
      "Epoch 2/20\n",
      "50000/50000 [==============================] - 2s 50us/sample - loss: 0.7602 - accuracy: 0.7375 - val_loss: 0.3577 - val_accuracy: 0.8912\n",
      "Epoch 3/20\n",
      "50000/50000 [==============================] - 2s 50us/sample - loss: 0.5605 - accuracy: 0.8326 - val_loss: 0.2213 - val_accuracy: 0.9511\n",
      "Epoch 4/20\n",
      "50000/50000 [==============================] - 2s 49us/sample - loss: 0.4459 - accuracy: 0.8821 - val_loss: 0.1749 - val_accuracy: 0.9594\n",
      "Epoch 5/20\n",
      "50000/50000 [==============================] - 2s 49us/sample - loss: 0.3833 - accuracy: 0.9025 - val_loss: 0.1567 - val_accuracy: 0.9639\n",
      "Epoch 6/20\n",
      "50000/50000 [==============================] - 3s 50us/sample - loss: 0.3421 - accuracy: 0.9169 - val_loss: 0.1468 - val_accuracy: 0.9666\n",
      "Epoch 7/20\n",
      "50000/50000 [==============================] - 2s 49us/sample - loss: 0.3176 - accuracy: 0.9219 - val_loss: 0.1409 - val_accuracy: 0.9678\n",
      "Epoch 8/20\n",
      "50000/50000 [==============================] - 2s 50us/sample - loss: 0.2952 - accuracy: 0.9287 - val_loss: 0.1344 - val_accuracy: 0.9692\n",
      "Epoch 9/20\n",
      "50000/50000 [==============================] - 2s 50us/sample - loss: 0.2765 - accuracy: 0.9320 - val_loss: 0.1307 - val_accuracy: 0.9707\n",
      "Epoch 10/20\n",
      "50000/50000 [==============================] - 3s 50us/sample - loss: 0.2585 - accuracy: 0.9366 - val_loss: 0.1382 - val_accuracy: 0.9696\n",
      "Epoch 11/20\n",
      "50000/50000 [==============================] - 2s 50us/sample - loss: 0.2507 - accuracy: 0.9394 - val_loss: 0.1310 - val_accuracy: 0.9728\n",
      "Epoch 12/20\n",
      "50000/50000 [==============================] - 3s 51us/sample - loss: 0.2394 - accuracy: 0.9419 - val_loss: 0.1259 - val_accuracy: 0.9741\n",
      "Epoch 13/20\n",
      "50000/50000 [==============================] - 3s 50us/sample - loss: 0.2308 - accuracy: 0.9442 - val_loss: 0.1269 - val_accuracy: 0.9733\n",
      "Epoch 14/20\n",
      "50000/50000 [==============================] - 3s 52us/sample - loss: 0.2217 - accuracy: 0.9464 - val_loss: 0.1254 - val_accuracy: 0.9735\n",
      "Epoch 15/20\n",
      "50000/50000 [==============================] - 3s 52us/sample - loss: 0.2145 - accuracy: 0.9481 - val_loss: 0.1376 - val_accuracy: 0.9722\n",
      "Epoch 16/20\n",
      "50000/50000 [==============================] - 3s 53us/sample - loss: 0.2048 - accuracy: 0.9504 - val_loss: 0.1212 - val_accuracy: 0.9746\n",
      "Epoch 17/20\n",
      "50000/50000 [==============================] - 3s 53us/sample - loss: 0.1967 - accuracy: 0.9519 - val_loss: 0.1261 - val_accuracy: 0.9764\n",
      "Epoch 18/20\n",
      "50000/50000 [==============================] - 3s 50us/sample - loss: 0.1948 - accuracy: 0.9526 - val_loss: 0.1195 - val_accuracy: 0.9771\n",
      "Epoch 19/20\n",
      "50000/50000 [==============================] - 2s 49us/sample - loss: 0.1876 - accuracy: 0.9542 - val_loss: 0.1262 - val_accuracy: 0.9763\n",
      "Epoch 20/20\n",
      "50000/50000 [==============================] - 2s 49us/sample - loss: 0.1921 - accuracy: 0.9552 - val_loss: 0.1162 - val_accuracy: 0.9773\n",
      "\n",
      "# Evaluate on test data\n",
      "test loss, test acc: [0.11896510114474804, 0.9775]\n"
     ]
    }
   ],
   "source": [
    "model = tf.keras.models.Sequential([\n",
    "  tf.keras.layers.Flatten(input_shape=(28, 28)),\n",
    "  tf.keras.layers.Dense(512, activation='relu'),\n",
    "  tf.keras.layers.Dropout(0.5),\n",
    "  tf.keras.layers.Dense(256, activation='relu'),\n",
    "  tf.keras.layers.Dropout(0.5),\n",
    "  tf.keras.layers.Dense(128, activation='relu'),\n",
    "  tf.keras.layers.Dropout(0.5),\n",
    "  tf.keras.layers.Dense(64, activation='relu'),\n",
    "  tf.keras.layers.Dropout(0.5),\n",
    "  tf.keras.layers.Dense(32, activation='relu'),\n",
    "  tf.keras.layers.Dropout(0.5),\n",
    "  tf.keras.layers.Dense(10, activation='softmax')\n",
    "])\n",
    "model.compile(optimizer='adam',\n",
    "              loss='sparse_categorical_crossentropy',\n",
    "              metrics=['accuracy'])\n",
    "\n",
    "\n",
    "history = model.fit(x_train, y_train, epochs=20, batch_size=128, validation_data=(x_val, y_val))\n",
    "\n",
    "print('\\n# Evaluate on test data')\n",
    "results = model.evaluate(x_test, y_test, verbose=0)\n",
    "print('test loss, test acc:', results)\n"
   ]
  },
  {
   "cell_type": "code",
   "execution_count": 28,
   "metadata": {
    "colab": {
     "base_uri": "https://localhost:8080/",
     "height": 316
    },
    "colab_type": "code",
    "id": "yjrIl2C-krBF",
    "outputId": "c79521bb-5026-4998-8eed-6888dce5b463"
   },
   "outputs": [
    {
     "name": "stdout",
     "output_type": "stream",
     "text": [
      "Test score: 0.11896510114474804\n",
      "Test accuracy: 0.9775\n"
     ]
    },
    {
     "data": {
      "image/png": "[encoded data removed]",
      "text/plain": [
       "<Figure size 432x288 with 1 Axes>"
      ]
     },
     "metadata": {
      "tags": []
     },
     "output_type": "display_data"
    }
   ],
   "source": [
    "print('Test score:', results[0]) \n",
    "print('Test accuracy:', results[1])\n",
    "\n",
    "fig,ax = plt.subplots(1,1)\n",
    "ax.set_xlabel('epoch') ; ax.set_ylabel('Categorical Crossentropy Loss')\n",
    "\n",
    "# list of epoch numbers\n",
    "x = list(range(1,nb_epoch+1))\n",
    "\n",
    "# print(history.history.keys())\n",
    "# dict_keys(['val_loss', 'val_acc', 'loss', 'acc'])\n",
    "# history = model_drop.fit(X_train, Y_train, batch_size=batch_size, epochs=nb_epoch, verbose=1, validation_data=(X_test, Y_test))\n",
    "\n",
    "# we will get val_loss and val_acc only when you pass the paramter validation_data\n",
    "# val_loss : validation loss\n",
    "# val_acc : validation accuracy\n",
    "\n",
    "# loss : training loss\n",
    "# acc : train accuracy\n",
    "# for each key in histrory.histrory we will have a list of length equal to number of epochs\n",
    "\n",
    "vy = history.history['val_loss']\n",
    "ty = history.history['loss']\n",
    "plt_dynamic(x, vy, ty, ax)"
   ]
  },
  {
   "cell_type": "markdown",
   "metadata": {
    "colab_type": "text",
    "id": "e7g5XspAzJ3W"
   },
   "source": [
    "<h2> 5 Layer MLP + ReLU + Adam + Batch Normalization </h2>"
   ]
  },
  {
   "cell_type": "code",
   "execution_count": 29,
   "metadata": {
    "colab": {
     "base_uri": "https://localhost:8080/",
     "height": 825
    },
    "colab_type": "code",
    "id": "_7d7Kzrckq3_",
    "outputId": "e363e5e4-2609-4f64-a841-9db54c47327c"
   },
   "outputs": [
    {
     "name": "stdout",
     "output_type": "stream",
     "text": [
      "Train on 50000 samples, validate on 10000 samples\n",
      "Epoch 1/20\n",
      "50000/50000 [==============================] - 7s 146us/sample - loss: 0.2736 - accuracy: 0.9253 - val_loss: 0.1292 - val_accuracy: 0.9626\n",
      "Epoch 2/20\n",
      "50000/50000 [==============================] - 5s 98us/sample - loss: 0.1009 - accuracy: 0.9702 - val_loss: 0.1051 - val_accuracy: 0.9673\n",
      "Epoch 3/20\n",
      "50000/50000 [==============================] - 5s 97us/sample - loss: 0.0685 - accuracy: 0.9795 - val_loss: 0.1245 - val_accuracy: 0.9640\n",
      "Epoch 4/20\n",
      "50000/50000 [==============================] - 5s 97us/sample - loss: 0.0541 - accuracy: 0.9830 - val_loss: 0.0980 - val_accuracy: 0.9722\n",
      "Epoch 5/20\n",
      "50000/50000 [==============================] - 5s 98us/sample - loss: 0.0445 - accuracy: 0.9855 - val_loss: 0.0789 - val_accuracy: 0.9774\n",
      "Epoch 6/20\n",
      "50000/50000 [==============================] - 5s 100us/sample - loss: 0.0405 - accuracy: 0.9862 - val_loss: 0.0834 - val_accuracy: 0.9791\n",
      "Epoch 7/20\n",
      "50000/50000 [==============================] - 5s 97us/sample - loss: 0.0302 - accuracy: 0.9903 - val_loss: 0.0909 - val_accuracy: 0.9761\n",
      "Epoch 8/20\n",
      "50000/50000 [==============================] - 5s 101us/sample - loss: 0.0289 - accuracy: 0.9903 - val_loss: 0.0886 - val_accuracy: 0.9768\n",
      "Epoch 9/20\n",
      "50000/50000 [==============================] - 5s 101us/sample - loss: 0.0264 - accuracy: 0.9916 - val_loss: 0.0789 - val_accuracy: 0.9780\n",
      "Epoch 10/20\n",
      "50000/50000 [==============================] - 5s 100us/sample - loss: 0.0262 - accuracy: 0.9918 - val_loss: 0.0853 - val_accuracy: 0.9785\n",
      "Epoch 11/20\n",
      "50000/50000 [==============================] - 5s 103us/sample - loss: 0.0238 - accuracy: 0.9921 - val_loss: 0.0852 - val_accuracy: 0.9781\n",
      "Epoch 12/20\n",
      "50000/50000 [==============================] - 5s 100us/sample - loss: 0.0207 - accuracy: 0.9932 - val_loss: 0.0911 - val_accuracy: 0.9773\n",
      "Epoch 13/20\n",
      "50000/50000 [==============================] - 5s 97us/sample - loss: 0.0208 - accuracy: 0.9931 - val_loss: 0.0919 - val_accuracy: 0.9777\n",
      "Epoch 14/20\n",
      "50000/50000 [==============================] - 5s 96us/sample - loss: 0.0186 - accuracy: 0.9941 - val_loss: 0.0760 - val_accuracy: 0.9807\n",
      "Epoch 15/20\n",
      "50000/50000 [==============================] - 5s 99us/sample - loss: 0.0158 - accuracy: 0.9944 - val_loss: 0.0872 - val_accuracy: 0.9797\n",
      "Epoch 16/20\n",
      "50000/50000 [==============================] - 5s 100us/sample - loss: 0.0165 - accuracy: 0.9948 - val_loss: 0.0781 - val_accuracy: 0.9803\n",
      "Epoch 17/20\n",
      "50000/50000 [==============================] - 5s 99us/sample - loss: 0.0123 - accuracy: 0.9961 - val_loss: 0.0849 - val_accuracy: 0.9805\n",
      "Epoch 18/20\n",
      "50000/50000 [==============================] - 5s 100us/sample - loss: 0.0146 - accuracy: 0.9950 - val_loss: 0.0874 - val_accuracy: 0.9785\n",
      "Epoch 19/20\n",
      "50000/50000 [==============================] - 5s 99us/sample - loss: 0.0150 - accuracy: 0.9949 - val_loss: 0.0898 - val_accuracy: 0.9787\n",
      "Epoch 20/20\n",
      "50000/50000 [==============================] - 5s 96us/sample - loss: 0.0141 - accuracy: 0.9952 - val_loss: 0.0834 - val_accuracy: 0.9815\n",
      "\n",
      "# Evaluate on test data\n",
      "test loss, test acc: [0.08070227301578124, 0.9804]\n"
     ]
    }
   ],
   "source": [
    "model = tf.keras.models.Sequential([\n",
    "  tf.keras.layers.Flatten(input_shape=(28, 28)),\n",
    "  tf.keras.layers.Dense(512, activation='relu'),\n",
    "  tf.keras.layers.BatchNormalization(),\n",
    "  tf.keras.layers.Dense(256, activation='relu'),\n",
    "  tf.keras.layers.BatchNormalization(),\n",
    "  tf.keras.layers.Dense(128, activation='relu'),\n",
    "  tf.keras.layers.BatchNormalization(),\n",
    "  tf.keras.layers.Dense(64, activation='relu'),\n",
    "  tf.keras.layers.BatchNormalization(),\n",
    "  tf.keras.layers.Dense(32, activation='relu'),\n",
    "  tf.keras.layers.BatchNormalization(),\n",
    "  tf.keras.layers.Dense(10, activation='softmax')\n",
    "])\n",
    "model.compile(optimizer='adam',\n",
    "              loss='sparse_categorical_crossentropy',\n",
    "              metrics=['accuracy'])\n",
    "\n",
    "\n",
    "history = model.fit(x_train, y_train, epochs=20, batch_size=128, validation_data=(x_val, y_val))\n",
    "\n",
    "print('\\n# Evaluate on test data')\n",
    "results = model.evaluate(x_test, y_test, verbose=0)\n",
    "print('test loss, test acc:', results)\n"
   ]
  },
  {
   "cell_type": "code",
   "execution_count": 30,
   "metadata": {
    "colab": {
     "base_uri": "https://localhost:8080/",
     "height": 316
    },
    "colab_type": "code",
    "id": "8k1L9fZcQKc6",
    "outputId": "95a88973-202e-4a4f-ff92-d6a4e5c81cde"
   },
   "outputs": [
    {
     "name": "stdout",
     "output_type": "stream",
     "text": [
      "Test score: 0.08070227301578124\n",
      "Test accuracy: 0.9804\n"
     ]
    },
    {
     "data": {
      "image/png": "[encoded data removed]",
      "text/plain": [
       "<Figure size 432x288 with 1 Axes>"
      ]
     },
     "metadata": {
      "tags": []
     },
     "output_type": "display_data"
    }
   ],
   "source": [
    "print('Test score:', results[0]) \n",
    "print('Test accuracy:', results[1])\n",
    "\n",
    "fig,ax = plt.subplots(1,1)\n",
    "ax.set_xlabel('epoch') ; ax.set_ylabel('Categorical Crossentropy Loss')\n",
    "\n",
    "# list of epoch numbers\n",
    "x = list(range(1,nb_epoch+1))\n",
    "\n",
    "# print(history.history.keys())\n",
    "# dict_keys(['val_loss', 'val_acc', 'loss', 'acc'])\n",
    "# history = model_drop.fit(X_train, Y_train, batch_size=batch_size, epochs=nb_epoch, verbose=1, validation_data=(X_test, Y_test))\n",
    "\n",
    "# we will get val_loss and val_acc only when you pass the paramter validation_data\n",
    "# val_loss : validation loss\n",
    "# val_acc : validation accuracy\n",
    "\n",
    "# loss : training loss\n",
    "# acc : train accuracy\n",
    "# for each key in histrory.histrory we will have a list of length equal to number of epochs\n",
    "\n",
    "vy = history.history['val_loss']\n",
    "ty = history.history['loss']\n",
    "plt_dynamic(x, vy, ty, ax)"
   ]
  },
  {
   "cell_type": "markdown",
   "metadata": {
    "colab_type": "text",
    "id": "wBh6nCETzZI1"
   },
   "source": [
    "<h2> 5 Layer MLP + ReLU + Adam + Dropout + Batch Normalization </h2>"
   ]
  },
  {
   "cell_type": "code",
   "execution_count": 34,
   "metadata": {
    "colab": {
     "base_uri": "https://localhost:8080/",
     "height": 825
    },
    "colab_type": "code",
    "id": "cJLj__ziyoTa",
    "outputId": "8f12dd21-43a8-4e81-835c-a53716ea87c2"
   },
   "outputs": [
    {
     "name": "stdout",
     "output_type": "stream",
     "text": [
      "Train on 50000 samples, validate on 10000 samples\n",
      "Epoch 1/20\n",
      "50000/50000 [==============================] - 8s 160us/sample - loss: 1.6968 - accuracy: 0.4231 - val_loss: 0.6340 - val_accuracy: 0.8587\n",
      "Epoch 2/20\n",
      "50000/50000 [==============================] - 6s 111us/sample - loss: 0.9007 - accuracy: 0.7210 - val_loss: 0.3158 - val_accuracy: 0.9342\n",
      "Epoch 3/20\n",
      "50000/50000 [==============================] - 6s 112us/sample - loss: 0.6374 - accuracy: 0.8206 - val_loss: 0.1934 - val_accuracy: 0.9542\n",
      "Epoch 4/20\n",
      "50000/50000 [==============================] - 6s 112us/sample - loss: 0.5133 - accuracy: 0.8652 - val_loss: 0.1571 - val_accuracy: 0.9623\n",
      "Epoch 5/20\n",
      "50000/50000 [==============================] - 5s 108us/sample - loss: 0.4401 - accuracy: 0.8882 - val_loss: 0.1375 - val_accuracy: 0.9662\n",
      "Epoch 6/20\n",
      "50000/50000 [==============================] - 5s 108us/sample - loss: 0.3923 - accuracy: 0.9023 - val_loss: 0.1314 - val_accuracy: 0.9675\n",
      "Epoch 7/20\n",
      "50000/50000 [==============================] - 6s 112us/sample - loss: 0.3535 - accuracy: 0.9129 - val_loss: 0.1154 - val_accuracy: 0.9728\n",
      "Epoch 8/20\n",
      "50000/50000 [==============================] - 6s 110us/sample - loss: 0.3397 - accuracy: 0.9177 - val_loss: 0.1152 - val_accuracy: 0.9735\n",
      "Epoch 9/20\n",
      "50000/50000 [==============================] - 6s 111us/sample - loss: 0.3216 - accuracy: 0.9225 - val_loss: 0.1112 - val_accuracy: 0.9745\n",
      "Epoch 10/20\n",
      "50000/50000 [==============================] - 5s 106us/sample - loss: 0.2975 - accuracy: 0.9291 - val_loss: 0.1055 - val_accuracy: 0.9756\n",
      "Epoch 11/20\n",
      "50000/50000 [==============================] - 6s 112us/sample - loss: 0.2898 - accuracy: 0.9307 - val_loss: 0.1142 - val_accuracy: 0.9752\n",
      "Epoch 12/20\n",
      "50000/50000 [==============================] - 6s 111us/sample - loss: 0.2789 - accuracy: 0.9338 - val_loss: 0.1033 - val_accuracy: 0.9771\n",
      "Epoch 13/20\n",
      "50000/50000 [==============================] - 5s 107us/sample - loss: 0.2643 - accuracy: 0.9382 - val_loss: 0.1038 - val_accuracy: 0.9766\n",
      "Epoch 14/20\n",
      "50000/50000 [==============================] - 5s 109us/sample - loss: 0.2627 - accuracy: 0.9385 - val_loss: 0.1060 - val_accuracy: 0.9772\n",
      "Epoch 15/20\n",
      "50000/50000 [==============================] - 5s 106us/sample - loss: 0.2564 - accuracy: 0.9396 - val_loss: 0.1027 - val_accuracy: 0.9769\n",
      "Epoch 16/20\n",
      "50000/50000 [==============================] - 5s 109us/sample - loss: 0.2496 - accuracy: 0.9424 - val_loss: 0.1067 - val_accuracy: 0.9776\n",
      "Epoch 17/20\n",
      "50000/50000 [==============================] - 6s 110us/sample - loss: 0.2356 - accuracy: 0.9447 - val_loss: 0.0997 - val_accuracy: 0.9798\n",
      "Epoch 18/20\n",
      "50000/50000 [==============================] - 5s 110us/sample - loss: 0.2295 - accuracy: 0.9468 - val_loss: 0.1076 - val_accuracy: 0.9796\n",
      "Epoch 19/20\n",
      "50000/50000 [==============================] - 6s 110us/sample - loss: 0.2246 - accuracy: 0.9471 - val_loss: 0.1038 - val_accuracy: 0.9802\n",
      "Epoch 20/20\n",
      "50000/50000 [==============================] - 5s 109us/sample - loss: 0.2247 - accuracy: 0.9455 - val_loss: 0.1095 - val_accuracy: 0.9789\n",
      "\n",
      "# Evaluate on test data\n",
      "test loss, test acc: [0.11850851611988619, 0.9767]\n"
     ]
    }
   ],
   "source": [
    "model = tf.keras.models.Sequential([\n",
    "  tf.keras.layers.Flatten(input_shape=(28, 28)),\n",
    "  tf.keras.layers.Dense(512, activation='relu'),\n",
    "  tf.keras.layers.Dropout(0.5),\n",
    "  tf.keras.layers.BatchNormalization(),\n",
    "  tf.keras.layers.Dense(256, activation='relu'),\n",
    "  tf.keras.layers.Dropout(0.5),\n",
    "  tf.keras.layers.BatchNormalization(),\n",
    "  tf.keras.layers.Dense(128, activation='relu'),\n",
    "  tf.keras.layers.Dropout(0.5),\n",
    "  tf.keras.layers.BatchNormalization(),\n",
    "  tf.keras.layers.Dense(64, activation='relu'),\n",
    "  tf.keras.layers.Dropout(0.5),\n",
    "  tf.keras.layers.BatchNormalization(),\n",
    "  tf.keras.layers.Dense(32, activation='relu'),\n",
    "  tf.keras.layers.Dropout(0.5),\n",
    "  tf.keras.layers.BatchNormalization(),\n",
    "  tf.keras.layers.Dense(10, activation='softmax')\n",
    "])\n",
    "model.compile(optimizer='adam',\n",
    "              loss='sparse_categorical_crossentropy',\n",
    "              metrics=['accuracy'])\n",
    "\n",
    "\n",
    "history = model.fit(x_train, y_train, epochs=20, batch_size=128, validation_data=(x_val, y_val))\n",
    "\n",
    "print('\\n# Evaluate on test data')\n",
    "results = model.evaluate(x_test, y_test, verbose=0)\n",
    "print('test loss, test acc:', results)\n"
   ]
  },
  {
   "cell_type": "code",
   "execution_count": 32,
   "metadata": {
    "colab": {
     "base_uri": "https://localhost:8080/",
     "height": 316
    },
    "colab_type": "code",
    "id": "8_Xkvl5ezT2d",
    "outputId": "93a3d756-0860-47bf-f890-bdfda3a22b4f"
   },
   "outputs": [
    {
     "name": "stdout",
     "output_type": "stream",
     "text": [
      "Test score: 0.1109049801748246\n",
      "Test accuracy: 0.9735\n"
     ]
    },
    {
     "data": {
      "image/png": "[encoded data removed]",
      "text/plain": [
       "<Figure size 432x288 with 1 Axes>"
      ]
     },
     "metadata": {
      "tags": []
     },
     "output_type": "display_data"
    }
   ],
   "source": [
    "print('Test score:', results[0]) \n",
    "print('Test accuracy:', results[1])\n",
    "\n",
    "fig,ax = plt.subplots(1,1)\n",
    "ax.set_xlabel('epoch') ; ax.set_ylabel('Categorical Crossentropy Loss')\n",
    "\n",
    "# list of epoch numbers\n",
    "x = list(range(1,nb_epoch+1))\n",
    "\n",
    "# print(history.history.keys())\n",
    "# dict_keys(['val_loss', 'val_acc', 'loss', 'acc'])\n",
    "# history = model_drop.fit(X_train, Y_train, batch_size=batch_size, epochs=nb_epoch, verbose=1, validation_data=(X_test, Y_test))\n",
    "\n",
    "# we will get val_loss and val_acc only when you pass the paramter validation_data\n",
    "# val_loss : validation loss\n",
    "# val_acc : validation accuracy\n",
    "\n",
    "# loss : training loss\n",
    "# acc : train accuracy\n",
    "# for each key in histrory.histrory we will have a list of length equal to number of epochs\n",
    "\n",
    "vy = history.history['val_loss']\n",
    "ty = history.history['loss']\n",
    "plt_dynamic(x, vy, ty, ax)"
   ]
  },
  {
   "cell_type": "markdown",
   "metadata": {
    "colab_type": "text",
    "id": "Lg5n97gu0vgA"
   },
   "source": [
    "<h2>Conclusions/Observations</h2>"
   ]
  },
  {
   "cell_type": "code",
   "execution_count": 22,
   "metadata": {
    "colab": {
     "base_uri": "https://localhost:8080/",
     "height": 311
    },
    "colab_type": "code",
    "id": "92EAcn5MzXWT",
    "outputId": "56603f1e-89da-4aa0-e448-841e7cd34f91"
   },
   "outputs": [
    {
     "name": "stdout",
     "output_type": "stream",
     "text": [
      "+--------------+-------------------------------+-----------+----------+\n",
      "| No of Layers |         Regularization        | Test Loss | Accuracy |\n",
      "+--------------+-------------------------------+-----------+----------+\n",
      "|      2       |               No              |   0.091   |  98.01   |\n",
      "|      2       |            Dropout            |   0.098   |  97.67   |\n",
      "|      2       |      Batch Normalization      |    0.09   |  97.79   |\n",
      "|      2       | Dropout + Batch Normalization |    0.09   |  97.28   |\n",
      "|      3       |               No              |   0.112   |  98.09   |\n",
      "|      3       |            Dropout            |    0.1    |  97.92   |\n",
      "|      3       |      Batch Normalization      |   0.081   |  98.05   |\n",
      "|      3       | Dropout + Batch Normalization |   0.083   |  97.97   |\n",
      "|      5       |               No              |   0.103   |   97.9   |\n",
      "|      5       |            Dropout            |   0.118   |  97.75   |\n",
      "|      5       |      Batch Normalization      |   0.807   |  98.04   |\n",
      "|      5       | Dropout + Batch Normalization |    0.11   |  97.35   |\n",
      "+--------------+-------------------------------+-----------+----------+\n"
     ]
    }
   ],
   "source": [
    "from prettytable import PrettyTable\n",
    "    \n",
    "x = PrettyTable()\n",
    "\n",
    "x.field_names = [\"No of Layers\", \"Regularization\", \"Test Loss\", \"Accuracy\"]\n",
    "\n",
    "x.add_row([\"2\", \"No\", 0.091, 98.01])\n",
    "x.add_row([\"2\", \"Dropout\", 0.098, 97.67])\n",
    "x.add_row([\"2\", \"Batch Normalization\", 0.090, 97.79])\n",
    "x.add_row([\"2\", \"Dropout + Batch Normalization\", 0.090, 97.28])\n",
    "x.add_row([\"3\", \"No\", 0.112, 98.09])\n",
    "x.add_row([\"3\", \"Dropout\", 0.100, 97.92])\n",
    "x.add_row([\"3\", \"Batch Normalization\", 0.081, 98.05])\n",
    "x.add_row([\"3\", \"Dropout + Batch Normalization\", 0.083, 97.97])\n",
    "x.add_row([\"5\", \"No\", 0.103, 97.90])\n",
    "x.add_row([\"5\", \"Dropout\", 0.118, 97.75])\n",
    "x.add_row([\"5\", \"Batch Normalization\", 0.807, 98.04])\n",
    "x.add_row([\"5\", \"Dropout + Batch Normalization\", 0.110, 97.35])\n",
    "\n",
    "print(x)"
   ]
  },
  {
   "cell_type": "markdown",
   "metadata": {
    "colab": {},
    "colab_type": "code",
    "id": "P-PVl0_29zT-"
   },
   "source": [
    "- When dropout is set to 0.2, the val loss and train loss converge faster ie 10 epochs and then starts diverging and overfits\n",
    "- There is no clear winner amongst the tried models. Each perform similar for this simple dataset."
   ]
  },
  {
   "cell_type": "code",
   "execution_count": null,
   "metadata": {},
   "outputs": [],
   "source": []
  }
 ],
 "metadata": {
  "accelerator": "GPU",
  "colab": {
   "collapsed_sections": [],
   "name": "Copy of Keras_Mnist.ipynb",
   "provenance": []
  },
  "kernelspec": {
   "display_name": "Python 3",
   "language": "python",
   "name": "python3"
  },
  "language_info": {
   "codemirror_mode": {
    "name": "ipython",
    "version": 3
   },
   "file_extension": ".py",
   "mimetype": "text/x-python",
   "name": "python",
   "nbconvert_exporter": "python",
   "pygments_lexer": "ipython3",
   "version": "3.6.8"
  }
 },
 "nbformat": 4,
 "nbformat_minor": 1
}
