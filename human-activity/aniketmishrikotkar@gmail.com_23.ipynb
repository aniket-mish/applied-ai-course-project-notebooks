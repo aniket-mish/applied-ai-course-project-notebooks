{
 "cells": [
  {
   "cell_type": "markdown",
   "metadata": {
    "colab_type": "text",
    "id": "tHiAVafqKQ6J"
   },
   "source": [
    "# HumanActivityRecognition\n",
    "\n",
    "<br>\n",
    "\n",
    "\n",
    "This project is to build a model that predicts the human activities such as Walking, Walking_Upstairs, Walking_Downstairs, Sitting, Standing or Laying.\n",
    "\n",
    "This dataset is collected from 30 persons(referred as subjects in this dataset), performing different activities with a smartphone to their waists. The data is recorded with the help of sensors (accelerometer and Gyroscope) in that smartphone. This experiment was video recorded to label the data manually.\n",
    "\n",
    "## How data was recorded\n",
    "\n",
    "By using the sensors(Gyroscope and accelerometer) in a smartphone, they have captured '3-axial linear acceleration'(_tAcc-XYZ_) from accelerometer and '3-axial angular velocity' (_tGyro-XYZ_) from Gyroscope with several variations. \n",
    "\n",
    "> prefix 't' in those metrics denotes time.\n",
    "\n",
    "> suffix 'XYZ' represents 3-axial signals in X , Y, and Z directions.\n",
    "\n",
    "### Feature names\n",
    "\n",
    "1. These sensor signals are preprocessed by applying noise filters and then sampled in fixed-width windows(sliding windows) of 2.56 seconds each with 50% overlap. ie., each window has 128 readings. \n",
    "\n",
    "2. From Each window, a feature vector was obtianed by calculating variables from the time and frequency domain.\n",
    "> In our dataset, each datapoint represents a window with different readings \n",
    "3. The accelertion signal was saperated into Body and Gravity acceleration signals(___tBodyAcc-XYZ___ and ___tGravityAcc-XYZ___) using some low pass filter with corner frequecy of 0.3Hz.\n",
    "\n",
    "4. After that, the body linear acceleration and angular velocity were derived in time to obtian _jerk signals_ (___tBodyAccJerk-XYZ___ and ___tBodyGyroJerk-XYZ___). \n",
    "\n",
    "5. The magnitude of these 3-dimensional signals were calculated using the Euclidian norm. This magnitudes are represented as features with names like _tBodyAccMag_, _tGravityAccMag_, _tBodyAccJerkMag_, _tBodyGyroMag_ and _tBodyGyroJerkMag_.\n",
    "\n",
    "6. Finally, We've got frequency domain signals from some of the available signals by applying a FFT (Fast Fourier Transform). These signals obtained were labeled with ___prefix 'f'___ just like original signals with ___prefix 't'___. These signals are labeled as ___fBodyAcc-XYZ___, ___fBodyGyroMag___ etc.,.\n",
    "\n",
    "7. These are the signals that we got so far.\n",
    "\t+ tBodyAcc-XYZ\n",
    "\t+ tGravityAcc-XYZ\n",
    "\t+ tBodyAccJerk-XYZ\n",
    "\t+ tBodyGyro-XYZ\n",
    "\t+ tBodyGyroJerk-XYZ\n",
    "\t+ tBodyAccMag\n",
    "\t+ tGravityAccMag\n",
    "\t+ tBodyAccJerkMag\n",
    "\t+ tBodyGyroMag\n",
    "\t+ tBodyGyroJerkMag\n",
    "\t+ fBodyAcc-XYZ\n",
    "\t+ fBodyAccJerk-XYZ\n",
    "\t+ fBodyGyro-XYZ\n",
    "\t+ fBodyAccMag\n",
    "\t+ fBodyAccJerkMag\n",
    "\t+ fBodyGyroMag\n",
    "\t+ fBodyGyroJerkMag\n",
    "\n",
    "8. We can esitmate some set of variables from the above signals. ie., We will estimate the following properties on each and every signal that we recoreded so far.\n",
    "\n",
    "\t+ ___mean()___: Mean value\n",
    "\t+ ___std()___: Standard deviation\n",
    "\t+ ___mad()___: Median absolute deviation \n",
    "\t+ ___max()___: Largest value in array\n",
    "\t+ ___min()___: Smallest value in array\n",
    "\t+ ___sma()___: Signal magnitude area\n",
    "\t+ ___energy()___: Energy measure. Sum of the squares divided by the number of values. \n",
    "\t+ ___iqr()___: Interquartile range \n",
    "\t+ ___entropy()___: Signal entropy\n",
    "\t+ ___arCoeff()___: Autorregresion coefficients with Burg order equal to 4\n",
    "\t+ ___correlation()___: correlation coefficient between two signals\n",
    "\t+ ___maxInds()___: index of the frequency component with largest magnitude\n",
    "\t+ ___meanFreq()___: Weighted average of the frequency components to obtain a mean frequency\n",
    "\t+ ___skewness()___: skewness of the frequency domain signal \n",
    "\t+ ___kurtosis()___: kurtosis of the frequency domain signal \n",
    "\t+ ___bandsEnergy()___: Energy of a frequency interval within the 64 bins of the FFT of each window.\n",
    "\t+ ___angle()___: Angle between to vectors.\n",
    "\n",
    "9. We can obtain some other vectors by taking the average of signals in a single window sample. These are used on the angle() variable'\n",
    "`\n",
    "\t+ gravityMean\n",
    "\t+ tBodyAccMean\n",
    "\t+ tBodyAccJerkMean\n",
    "\t+ tBodyGyroMean\n",
    "\t+ tBodyGyroJerkMean\n",
    "\n",
    "\n",
    "###  Y_Labels(Encoded)\n",
    "+ In the dataset, Y_labels are represented as numbers from 1 to 6 as their identifiers.\n",
    "\n",
    "\t- WALKING as __1__\n",
    "\t- WALKING_UPSTAIRS as __2__\n",
    "\t- WALKING_DOWNSTAIRS as __3__\n",
    "\t- SITTING as __4__\n",
    "\t- STANDING as __5__\n",
    "\t- LAYING as __6__\n",
    "    \n",
    "## Train and test data were saperated\n",
    " - The readings from ___70%___ of the volunteers were taken as ___trianing data___ and remaining ___30%___ subjects recordings were taken for ___test data___\n",
    " \n",
    "## Data\n",
    "\n",
    "* All the data is present in 'UCI_HAR_dataset/' folder in present working directory.\n",
    "     - Feature names are present in 'UCI_HAR_dataset/features.txt'\n",
    "     - ___Train Data___\n",
    "         - 'UCI_HAR_dataset/train/X_train.txt'\n",
    "         - 'UCI_HAR_dataset/train/subject_train.txt'\n",
    "         - 'UCI_HAR_dataset/train/y_train.txt'\n",
    "     - ___Test Data___\n",
    "         - 'UCI_HAR_dataset/test/X_test.txt'\n",
    "         - 'UCI_HAR_dataset/test/subject_test.txt'\n",
    "         - 'UCI_HAR_dataset/test/y_test.txt'\n",
    "         \n",
    "\n",
    "## Data Size :\n",
    "> 27 MB\n"
   ]
  },
  {
   "cell_type": "code",
   "execution_count": 0,
   "metadata": {
    "colab": {},
    "colab_type": "code",
    "id": "xaajtB_xrqiD"
   },
   "outputs": [],
   "source": [
    "# Importing Libraries"
   ]
  },
  {
   "cell_type": "code",
   "execution_count": 0,
   "metadata": {
    "colab": {},
    "colab_type": "code",
    "id": "LD61V1eWrqiW"
   },
   "outputs": [],
   "source": [
    "import pandas as pd\n",
    "import numpy as np"
   ]
  },
  {
   "cell_type": "code",
   "execution_count": 0,
   "metadata": {
    "colab": {},
    "colab_type": "code",
    "id": "YS8vLP3rGxzw"
   },
   "outputs": [],
   "source": [
    "import itertools\n",
    "import numpy as np\n",
    "import matplotlib.pyplot as plt\n",
    "from sklearn.metrics import confusion_matrix\n",
    "plt.rcParams[\"font.family\"] = 'DejaVu Sans'\n",
    "\n",
    "def plot_confusion_matrix(cm, classes,\n",
    "                          normalize=False,\n",
    "                          title='Confusion matrix',\n",
    "                          cmap=plt.cm.Blues):\n",
    "    if normalize:\n",
    "        cm = cm.astype('float') / cm.sum(axis=1)[:, np.newaxis]\n",
    "\n",
    "    plt.imshow(cm, interpolation='nearest', cmap=cmap)\n",
    "    plt.title(title)\n",
    "    plt.colorbar()\n",
    "    tick_marks = np.arange(len(classes))\n",
    "    plt.xticks(tick_marks, classes, rotation=90)\n",
    "    plt.yticks(tick_marks, classes)\n",
    "\n",
    "    fmt = '.2f' if normalize else 'd'\n",
    "    thresh = cm.max() / 2.\n",
    "    for i, j in itertools.product(range(cm.shape[0]), range(cm.shape[1])):\n",
    "        plt.text(j, i, format(cm[i, j], fmt),\n",
    "                 horizontalalignment=\"center\",\n",
    "                 color=\"white\" if cm[i, j] > thresh else \"black\")\n",
    "\n",
    "    plt.tight_layout()\n",
    "    plt.ylabel('True label')\n",
    "    plt.xlabel('Predicted label')"
   ]
  },
  {
   "cell_type": "code",
   "execution_count": 0,
   "metadata": {
    "colab": {},
    "colab_type": "code",
    "id": "3NOHW5Yhrqim"
   },
   "outputs": [],
   "source": [
    "# Activities are the class labels\n",
    "# It is a 6 class classification\n",
    "ACTIVITIES = {\n",
    "    0: 'WALKING',\n",
    "    1: 'WALKING_UPSTAIRS',\n",
    "    2: 'WALKING_DOWNSTAIRS',\n",
    "    3: 'SITTING',\n",
    "    4: 'STANDING',\n",
    "    5: 'LAYING',\n",
    "}\n",
    "\n",
    "# Utility function to print the confusion matrix\n",
    "def confusion_matrix(Y_true, Y_pred):\n",
    "    Y_true = pd.Series([ACTIVITIES[y] for y in np.argmax(Y_true, axis=1)])\n",
    "    Y_pred = pd.Series([ACTIVITIES[y] for y in np.argmax(Y_pred, axis=1)])\n",
    "\n",
    "    return pd.crosstab(Y_true, Y_pred, rownames=['True'], colnames=['Pred'])"
   ]
  },
  {
   "cell_type": "markdown",
   "metadata": {
    "colab_type": "text",
    "id": "txXO5n2Mrqiz"
   },
   "source": [
    "### Data"
   ]
  },
  {
   "cell_type": "code",
   "execution_count": 0,
   "metadata": {
    "colab": {},
    "colab_type": "code",
    "id": "EFIE3x9Zrqi3"
   },
   "outputs": [],
   "source": [
    "# Data directory\n",
    "DATADIR = 'UCI_HAR_Dataset'"
   ]
  },
  {
   "cell_type": "code",
   "execution_count": 0,
   "metadata": {
    "colab": {},
    "colab_type": "code",
    "id": "9r1k9bUBrqjC"
   },
   "outputs": [],
   "source": [
    "# Raw data signals\n",
    "# Signals are from Accelerometer and Gyroscope\n",
    "# The signals are in x,y,z directions\n",
    "# Sensor signals are filtered to have only body acceleration\n",
    "# excluding the acceleration due to gravity\n",
    "# Triaxial acceleration from the accelerometer is total acceleration\n",
    "SIGNALS = [\n",
    "    \"body_acc_x\",\n",
    "    \"body_acc_y\",\n",
    "    \"body_acc_z\",\n",
    "    \"body_gyro_x\",\n",
    "    \"body_gyro_y\",\n",
    "    \"body_gyro_z\",\n",
    "    \"total_acc_x\",\n",
    "    \"total_acc_y\",\n",
    "    \"total_acc_z\"\n",
    "]"
   ]
  },
  {
   "cell_type": "code",
   "execution_count": 7,
   "metadata": {
    "colab": {
     "base_uri": "https://localhost:8080/",
     "height": 129
    },
    "colab_type": "code",
    "id": "Cbf__XQ1sX8H",
    "outputId": "9db2ef78-e41b-4e7c-bdbf-4141f7951f4d"
   },
   "outputs": [
    {
     "name": "stdout",
     "output_type": "stream",
     "text": [
      "Go to this URL in a browser: https://accounts.google.com/o/oauth2/auth?client_id=947318989803-6bn6qk8qdgf4n4g3pfee6491hc0brc4i.apps.googleusercontent.com&redirect_uri=urn%3aietf%3awg%3aoauth%3a2.0%3aoob&response_type=code&scope=email%20https%3a%2f%2fwww.googleapis.com%2fauth%2fdocs.test%20https%3a%2f%2fwww.googleapis.com%2fauth%2fdrive%20https%3a%2f%2fwww.googleapis.com%2fauth%2fdrive.photos.readonly%20https%3a%2f%2fwww.googleapis.com%2fauth%2fpeopleapi.readonly\n",
      "\n",
      "Enter your authorization code:\n",
      "··········\n",
      "Mounted at /content/drive\n"
     ]
    }
   ],
   "source": [
    "from google.colab import drive\n",
    "drive.mount('/content/drive')"
   ]
  },
  {
   "cell_type": "code",
   "execution_count": 0,
   "metadata": {
    "colab": {},
    "colab_type": "code",
    "id": "B6Y16asurqjN"
   },
   "outputs": [],
   "source": [
    "# Utility function to read the data from csv file\n",
    "def _read_csv(filename):\n",
    "    return pd.read_csv(filename, delim_whitespace=True, header=None)\n",
    "\n",
    "# Utility function to load the load\n",
    "def load_signals(subset):\n",
    "    signals_data = []\n",
    "\n",
    "    for signal in SIGNALS:\n",
    "        filename = f'drive/My Drive/HAR/UCI_HAR_Dataset/{subset}/Inertial Signals/{signal}_{subset}.txt'\n",
    "        signals_data.append(\n",
    "            _read_csv(filename).as_matrix()\n",
    "        ) \n",
    "\n",
    "    # Transpose is used to change the dimensionality of the output,\n",
    "    # aggregating the signals by combination of sample/timestep.\n",
    "    # Resultant shape is (7352 train/2947 test samples, 128 timesteps, 9 signals)\n",
    "    return np.transpose(signals_data, (1, 2, 0))"
   ]
  },
  {
   "cell_type": "code",
   "execution_count": 0,
   "metadata": {
    "colab": {},
    "colab_type": "code",
    "id": "GV4veNVyrqjW"
   },
   "outputs": [],
   "source": [
    "def load_y(subset):\n",
    "    \"\"\"\n",
    "    The objective that we are trying to predict is a integer, from 1 to 6,\n",
    "    that represents a human activity. We return a binary representation of \n",
    "    every sample objective as a 6 bits vector using One Hot Encoding\n",
    "    (https://pandas.pydata.org/pandas-docs/stable/generated/pandas.get_dummies.html)\n",
    "    \"\"\"\n",
    "    filename = f'drive/My Drive/HAR/UCI_HAR_Dataset/{subset}/y_{subset}.txt'\n",
    "    y = _read_csv(filename)[0]\n",
    "\n",
    "    return pd.get_dummies(y).as_matrix()"
   ]
  },
  {
   "cell_type": "code",
   "execution_count": 0,
   "metadata": {
    "colab": {},
    "colab_type": "code",
    "id": "7sTEd7J6rqjh"
   },
   "outputs": [],
   "source": [
    "def load_data():\n",
    "    \"\"\"\n",
    "    Obtain the dataset from multiple files.\n",
    "    Returns: X_train, X_test, y_train, y_test\n",
    "    \"\"\"\n",
    "    X_train, X_test = load_signals('train'), load_signals('test')\n",
    "    y_train, y_test = load_y('train'), load_y('test')\n",
    "\n",
    "    return X_train, X_test, y_train, y_test"
   ]
  },
  {
   "cell_type": "code",
   "execution_count": 11,
   "metadata": {
    "colab": {
     "base_uri": "https://localhost:8080/",
     "height": 65
    },
    "colab_type": "code",
    "id": "FDrQElnSrqjp",
    "outputId": "abcdcd08-d398-4ccd-fdd9-e3e52da43fc5"
   },
   "outputs": [
    {
     "data": {
      "text/html": [
       "<p style=\"color: red;\">\n",
       "The default version of TensorFlow in Colab will soon switch to TensorFlow 2.x.<br>\n",
       "We recommend you <a href=\"https://www.tensorflow.org/guide/migrate\" target=\"_blank\">upgrade</a> now \n",
       "or ensure your notebook will continue to use TensorFlow 1.x via the <code>%tensorflow_version 1.x</code> magic:\n",
       "<a href=\"https://colab.research.google.com/notebooks/tensorflow_version.ipynb\" target=\"_blank\">more info</a>.</p>\n"
      ],
      "text/plain": [
       "<IPython.core.display.HTML object>"
      ]
     },
     "metadata": {
      "tags": []
     },
     "output_type": "display_data"
    }
   ],
   "source": [
    "# Importing tensorflow\n",
    "np.random.seed(42)\n",
    "import tensorflow as tf\n",
    "tf.set_random_seed(42)"
   ]
  },
  {
   "cell_type": "code",
   "execution_count": 0,
   "metadata": {
    "colab": {},
    "colab_type": "code",
    "id": "nkKNMKLArqj0"
   },
   "outputs": [],
   "source": [
    "# Configuring a session\n",
    "session_conf = tf.ConfigProto(\n",
    "    intra_op_parallelism_threads=1,\n",
    "    inter_op_parallelism_threads=1\n",
    ")"
   ]
  },
  {
   "cell_type": "code",
   "execution_count": 13,
   "metadata": {
    "colab": {
     "base_uri": "https://localhost:8080/",
     "height": 35
    },
    "colab_type": "code",
    "id": "hpY1XLhSrqkA",
    "outputId": "692e23c9-d639-49bc-e86b-7e25da42c353"
   },
   "outputs": [
    {
     "name": "stderr",
     "output_type": "stream",
     "text": [
      "Using TensorFlow backend.\n"
     ]
    }
   ],
   "source": [
    "# Import Keras\n",
    "from keras import backend as K\n",
    "sess = tf.Session(graph=tf.get_default_graph(), config=session_conf)\n",
    "K.set_session(sess)"
   ]
  },
  {
   "cell_type": "code",
   "execution_count": 0,
   "metadata": {
    "colab": {},
    "colab_type": "code",
    "id": "Ft3Lj8-YrqkH"
   },
   "outputs": [],
   "source": [
    "# Importing libraries\n",
    "from keras.models import Sequential\n",
    "from keras.layers import LSTM\n",
    "from keras.layers.core import Dense, Dropout\n",
    "# import BatchNormalization\n",
    "from keras.layers.normalization import BatchNormalization\n",
    "\n",
    "import warnings\n",
    "warnings.filterwarnings('ignore')"
   ]
  },
  {
   "cell_type": "code",
   "execution_count": 0,
   "metadata": {
    "colab": {},
    "colab_type": "code",
    "id": "_LrAZ3o6rqkW"
   },
   "outputs": [],
   "source": [
    "# Initializing parameters\n",
    "epochs = 30\n",
    "batch_size = 16\n",
    "n_hidden = 32"
   ]
  },
  {
   "cell_type": "code",
   "execution_count": 0,
   "metadata": {
    "colab": {},
    "colab_type": "code",
    "id": "UVRmY5XDrqke"
   },
   "outputs": [],
   "source": [
    "# Utility function to count the number of classes\n",
    "def _count_classes(y):\n",
    "    return len(set([tuple(category) for category in y]))"
   ]
  },
  {
   "cell_type": "code",
   "execution_count": 0,
   "metadata": {
    "colab": {},
    "colab_type": "code",
    "id": "_f0902CVrqko"
   },
   "outputs": [],
   "source": [
    "# Loading the train and test data\n",
    "X_train, X_test, Y_train, Y_test = load_data()"
   ]
  },
  {
   "cell_type": "code",
   "execution_count": 18,
   "metadata": {
    "colab": {
     "base_uri": "https://localhost:8080/",
     "height": 72
    },
    "colab_type": "code",
    "id": "YpspSrzlrqku",
    "outputId": "3fcc876b-4c68-4d35-d3ed-3cf3788c46ab"
   },
   "outputs": [
    {
     "name": "stdout",
     "output_type": "stream",
     "text": [
      "128\n",
      "9\n",
      "7352\n"
     ]
    }
   ],
   "source": [
    "timesteps = len(X_train[0])\n",
    "input_dim = len(X_train[0][0])\n",
    "n_classes = _count_classes(Y_train)\n",
    "\n",
    "print(timesteps)\n",
    "print(input_dim)\n",
    "print(len(X_train))"
   ]
  },
  {
   "cell_type": "markdown",
   "metadata": {
    "colab_type": "text",
    "id": "9vMz2n0Drqk5"
   },
   "source": [
    "<h2>Defining the Architecture of LSTM - Single Layer LSTM</h2>"
   ]
  },
  {
   "cell_type": "code",
   "execution_count": 0,
   "metadata": {
    "colab": {
     "base_uri": "https://localhost:8080/",
     "height": 311
    },
    "colab_type": "code",
    "id": "7fD8N1ltrqk7",
    "outputId": "fceb6784-e561-4107-9750-42f84aec5f94"
   },
   "outputs": [
    {
     "name": "stdout",
     "output_type": "stream",
     "text": [
      "Model: \"sequential_18\"\n",
      "_________________________________________________________________\n",
      "Layer (type)                 Output Shape              Param #   \n",
      "=================================================================\n",
      "lstm_7 (LSTM)                (None, 128)               70656     \n",
      "_________________________________________________________________\n",
      "dropout_20 (Dropout)         (None, 128)               0         \n",
      "_________________________________________________________________\n",
      "dense_30 (Dense)             (None, 64)                8256      \n",
      "_________________________________________________________________\n",
      "dense_31 (Dense)             (None, 6)                 390       \n",
      "=================================================================\n",
      "Total params: 79,302\n",
      "Trainable params: 79,302\n",
      "Non-trainable params: 0\n",
      "_________________________________________________________________\n"
     ]
    }
   ],
   "source": [
    "# Initiliazing the sequential model\n",
    "model = Sequential()\n",
    "# Configuring the parameters\n",
    "model.add(LSTM(128, input_shape=(timesteps, input_dim)))\n",
    "# Adding a dropout layer\n",
    "model.add(Dropout(0.5))\n",
    "# Adding a dense output layer with sigmoid activation\n",
    "model.add(Dense(64, activation='relu'))\n",
    "model.add(Dense(n_classes, activation='sigmoid'))\n",
    "model.summary()"
   ]
  },
  {
   "cell_type": "code",
   "execution_count": 0,
   "metadata": {
    "colab": {},
    "colab_type": "code",
    "id": "wwjZrKRerqlD"
   },
   "outputs": [],
   "source": [
    "# Compiling the model\n",
    "model.compile(loss='categorical_crossentropy',\n",
    "              optimizer='adam',\n",
    "              metrics=['accuracy'])"
   ]
  },
  {
   "cell_type": "code",
   "execution_count": 0,
   "metadata": {
    "colab": {
     "base_uri": "https://localhost:8080/",
     "height": 770
    },
    "colab_type": "code",
    "id": "W-AXF7YdrqlK",
    "outputId": "a565ddd0-873b-4ed0-dddd-a94e88a77068"
   },
   "outputs": [
    {
     "name": "stdout",
     "output_type": "stream",
     "text": [
      "Train on 7352 samples, validate on 2947 samples\n",
      "Epoch 1/20\n",
      "7352/7352 [==============================] - 61s 8ms/step - loss: 1.4205 - acc: 0.3565 - val_loss: 1.2105 - val_acc: 0.4479\n",
      "Epoch 2/20\n",
      "7352/7352 [==============================] - 57s 8ms/step - loss: 1.0360 - acc: 0.5301 - val_loss: 0.7840 - val_acc: 0.6284\n",
      "Epoch 3/20\n",
      "7352/7352 [==============================] - 57s 8ms/step - loss: 0.9341 - acc: 0.5605 - val_loss: 1.3459 - val_acc: 0.4228\n",
      "Epoch 4/20\n",
      "7352/7352 [==============================] - 57s 8ms/step - loss: 0.7310 - acc: 0.6390 - val_loss: 0.6863 - val_acc: 0.6162\n",
      "Epoch 5/20\n",
      "7352/7352 [==============================] - 57s 8ms/step - loss: 0.5851 - acc: 0.7303 - val_loss: 0.5019 - val_acc: 0.8015\n",
      "Epoch 6/20\n",
      "7352/7352 [==============================] - 57s 8ms/step - loss: 0.3603 - acc: 0.8609 - val_loss: 0.3263 - val_acc: 0.8846\n",
      "Epoch 7/20\n",
      "7352/7352 [==============================] - 57s 8ms/step - loss: 0.2237 - acc: 0.9199 - val_loss: 0.3544 - val_acc: 0.8968\n",
      "Epoch 8/20\n",
      "7352/7352 [==============================] - 58s 8ms/step - loss: 0.1660 - acc: 0.9368 - val_loss: 0.2844 - val_acc: 0.9023\n",
      "Epoch 9/20\n",
      "7352/7352 [==============================] - 57s 8ms/step - loss: 0.1528 - acc: 0.9419 - val_loss: 0.3484 - val_acc: 0.8823\n",
      "Epoch 10/20\n",
      "7352/7352 [==============================] - 57s 8ms/step - loss: 0.1393 - acc: 0.9436 - val_loss: 0.2345 - val_acc: 0.9131\n",
      "Epoch 11/20\n",
      "7352/7352 [==============================] - 58s 8ms/step - loss: 0.1632 - acc: 0.9387 - val_loss: 0.4081 - val_acc: 0.8588\n",
      "Epoch 12/20\n",
      "7352/7352 [==============================] - 58s 8ms/step - loss: 0.1511 - acc: 0.9419 - val_loss: 0.2984 - val_acc: 0.9141\n",
      "Epoch 13/20\n",
      "7352/7352 [==============================] - 58s 8ms/step - loss: 0.1362 - acc: 0.9448 - val_loss: 0.2513 - val_acc: 0.9101\n",
      "Epoch 14/20\n",
      "7352/7352 [==============================] - 58s 8ms/step - loss: 0.1384 - acc: 0.9475 - val_loss: 0.3503 - val_acc: 0.8884\n",
      "Epoch 15/20\n",
      "7352/7352 [==============================] - 58s 8ms/step - loss: 0.1337 - acc: 0.9475 - val_loss: 0.2891 - val_acc: 0.9145\n",
      "Epoch 16/20\n",
      "7352/7352 [==============================] - 58s 8ms/step - loss: 0.1261 - acc: 0.9441 - val_loss: 0.3544 - val_acc: 0.9046\n",
      "Epoch 17/20\n",
      "7352/7352 [==============================] - 58s 8ms/step - loss: 0.1275 - acc: 0.9471 - val_loss: 0.3123 - val_acc: 0.9050\n",
      "Epoch 18/20\n",
      "7352/7352 [==============================] - 58s 8ms/step - loss: 0.1280 - acc: 0.9476 - val_loss: 0.3010 - val_acc: 0.9101\n",
      "Epoch 19/20\n",
      "7352/7352 [==============================] - 58s 8ms/step - loss: 0.1445 - acc: 0.9418 - val_loss: 0.2654 - val_acc: 0.9104\n",
      "Epoch 20/20\n",
      "7352/7352 [==============================] - 58s 8ms/step - loss: 0.1166 - acc: 0.9509 - val_loss: 0.2450 - val_acc: 0.9182\n"
     ]
    }
   ],
   "source": [
    "# Training the model\n",
    "history = model.fit(X_train,\n",
    "          Y_train,\n",
    "          batch_size=batch_size,\n",
    "          validation_data=(X_test, Y_test),\n",
    "          epochs=20)"
   ]
  },
  {
   "cell_type": "code",
   "execution_count": 0,
   "metadata": {
    "colab": {
     "base_uri": "https://localhost:8080/",
     "height": 201
    },
    "colab_type": "code",
    "id": "aG9eEt25rqlQ",
    "outputId": "2804450b-3d7c-49f2-fde6-e1c2e11ec588"
   },
   "outputs": [
    {
     "name": "stdout",
     "output_type": "stream",
     "text": [
      "Pred                LAYING  SITTING  ...  WALKING_DOWNSTAIRS  WALKING_UPSTAIRS\n",
      "True                                 ...                                      \n",
      "LAYING                 537        0  ...                   0                 0\n",
      "SITTING                  0      380  ...                   0                 0\n",
      "STANDING                 0       88  ...                   0                 0\n",
      "WALKING                  0        0  ...                  27                 0\n",
      "WALKING_DOWNSTAIRS       0        0  ...                 418                 1\n",
      "WALKING_UPSTAIRS         0        0  ...                  10               458\n",
      "\n",
      "[6 rows x 6 columns]\n"
     ]
    }
   ],
   "source": [
    "# Confusion Matrix\n",
    "print(confusion_matrix(Y_test, model.predict(X_test)))"
   ]
  },
  {
   "cell_type": "code",
   "execution_count": 0,
   "metadata": {
    "colab": {
     "base_uri": "https://localhost:8080/",
     "height": 35
    },
    "colab_type": "code",
    "id": "7H44TphOLPYl",
    "outputId": "eba6890c-20cb-49d7-9277-4b0f945c8946"
   },
   "outputs": [
    {
     "name": "stdout",
     "output_type": "stream",
     "text": [
      "2947/2947 [==============================] - 3s 921us/step\n"
     ]
    }
   ],
   "source": [
    "score = model.evaluate(X_test, Y_test)"
   ]
  },
  {
   "cell_type": "code",
   "execution_count": 0,
   "metadata": {
    "colab": {
     "base_uri": "https://localhost:8080/",
     "height": 35
    },
    "colab_type": "code",
    "id": "vyDzStKtLSAi",
    "outputId": "2c14a18d-f14a-4f83-f052-c5306c44a09a"
   },
   "outputs": [
    {
     "data": {
      "text/plain": [
       "[0.24497356653394584, 0.9182219205972175]"
      ]
     },
     "execution_count": 171,
     "metadata": {
      "tags": []
     },
     "output_type": "execute_result"
    }
   ],
   "source": [
    "score"
   ]
  },
  {
   "cell_type": "markdown",
   "metadata": {
    "colab_type": "text",
    "id": "7kNI0IoZrqls"
   },
   "source": [
    "- With a simple 2 layer architecture we got 91.82% accuracy and a loss of 0.22\n",
    "- We can further imporve the performace with Hyperparameter tuning"
   ]
  },
  {
   "cell_type": "markdown",
   "metadata": {
    "colab_type": "text",
    "id": "MTiWcpaY067F"
   },
   "source": [
    "<h2>Architecture of LSTM - Multi Layer LSTM<h2>"
   ]
  },
  {
   "cell_type": "code",
   "execution_count": 0,
   "metadata": {
    "colab": {
     "base_uri": "https://localhost:8080/",
     "height": 311
    },
    "colab_type": "code",
    "id": "eYolhWh1O4Fs",
    "outputId": "ff030487-37d8-4368-ccd9-24206faf6c4b"
   },
   "outputs": [
    {
     "name": "stdout",
     "output_type": "stream",
     "text": [
      "Model: \"sequential_3\"\n",
      "_________________________________________________________________\n",
      "Layer (type)                 Output Shape              Param #   \n",
      "=================================================================\n",
      "lstm_3 (LSTM)                (None, 128, 80)           28800     \n",
      "_________________________________________________________________\n",
      "dropout_3 (Dropout)          (None, 128, 80)           0         \n",
      "_________________________________________________________________\n",
      "lstm_4 (LSTM)                (None, 80)                51520     \n",
      "_________________________________________________________________\n",
      "dense_3 (Dense)              (None, 6)                 486       \n",
      "=================================================================\n",
      "Total params: 80,806\n",
      "Trainable params: 80,806\n",
      "Non-trainable params: 0\n",
      "_________________________________________________________________\n"
     ]
    }
   ],
   "source": [
    "# Initiliazing the sequential model\n",
    "model = Sequential()\n",
    "# Configuring the parameters\n",
    "model.add(LSTM(80, return_sequences = True, input_shape=(timesteps, input_dim)))\n",
    "model.add(Dropout(0.25))\n",
    "model.add(LSTM(80)) \n",
    "model.add(Dense(n_classes, activation='sigmoid'))\n",
    "model.summary()"
   ]
  },
  {
   "cell_type": "code",
   "execution_count": 0,
   "metadata": {
    "colab": {},
    "colab_type": "code",
    "id": "vc7UY1hNPIuX"
   },
   "outputs": [],
   "source": [
    "# Compiling the model\n",
    "model.compile(loss='categorical_crossentropy',\n",
    "              optimizer='rmsprop',\n",
    "              metrics=['accuracy'])"
   ]
  },
  {
   "cell_type": "code",
   "execution_count": 0,
   "metadata": {
    "colab": {
     "base_uri": "https://localhost:8080/",
     "height": 1000
    },
    "colab_type": "code",
    "id": "y9wiIp4fQRU5",
    "outputId": "f4786c02-2267-4a76-b3dd-3c2df950b868"
   },
   "outputs": [
    {
     "name": "stdout",
     "output_type": "stream",
     "text": [
      "Train on 7352 samples, validate on 2947 samples\n",
      "Epoch 1/30\n",
      "7352/7352 [==============================] - 42s 6ms/step - loss: 1.1575 - acc: 0.5249 - val_loss: 1.2458 - val_acc: 0.4978\n",
      "Epoch 2/30\n",
      "7352/7352 [==============================] - 40s 5ms/step - loss: 0.8146 - acc: 0.6601 - val_loss: 0.9396 - val_acc: 0.6016\n",
      "Epoch 3/30\n",
      "7352/7352 [==============================] - 40s 5ms/step - loss: 0.6309 - acc: 0.7291 - val_loss: 0.8074 - val_acc: 0.6929\n",
      "Epoch 4/30\n",
      "7352/7352 [==============================] - 40s 5ms/step - loss: 0.5919 - acc: 0.7499 - val_loss: 0.6117 - val_acc: 0.7374\n",
      "Epoch 5/30\n",
      "7352/7352 [==============================] - 40s 5ms/step - loss: 0.5148 - acc: 0.7897 - val_loss: 0.6260 - val_acc: 0.7560\n",
      "Epoch 6/30\n",
      "7352/7352 [==============================] - 40s 5ms/step - loss: 0.4372 - acc: 0.8308 - val_loss: 0.4171 - val_acc: 0.8456\n",
      "Epoch 7/30\n",
      "7352/7352 [==============================] - 40s 5ms/step - loss: 0.3181 - acc: 0.8794 - val_loss: 0.4013 - val_acc: 0.8616\n",
      "Epoch 8/30\n",
      "7352/7352 [==============================] - 40s 5ms/step - loss: 0.2698 - acc: 0.9123 - val_loss: 0.4369 - val_acc: 0.8507\n",
      "Epoch 9/30\n",
      "7352/7352 [==============================] - 40s 5ms/step - loss: 0.1774 - acc: 0.9348 - val_loss: 0.3274 - val_acc: 0.8823\n",
      "Epoch 10/30\n",
      "7352/7352 [==============================] - 40s 5ms/step - loss: 0.1573 - acc: 0.9412 - val_loss: 0.4135 - val_acc: 0.8819\n",
      "Epoch 11/30\n",
      "7352/7352 [==============================] - 40s 5ms/step - loss: 0.1471 - acc: 0.9418 - val_loss: 0.4882 - val_acc: 0.8602\n",
      "Epoch 12/30\n",
      "7352/7352 [==============================] - 40s 5ms/step - loss: 0.1506 - acc: 0.9440 - val_loss: 0.4449 - val_acc: 0.8829\n",
      "Epoch 13/30\n",
      "7352/7352 [==============================] - 40s 5ms/step - loss: 0.1581 - acc: 0.9389 - val_loss: 0.2993 - val_acc: 0.9002\n",
      "Epoch 14/30\n",
      "7352/7352 [==============================] - 39s 5ms/step - loss: 0.1378 - acc: 0.9474 - val_loss: 0.3460 - val_acc: 0.8646\n",
      "Epoch 15/30\n",
      "7352/7352 [==============================] - 39s 5ms/step - loss: 0.1329 - acc: 0.9474 - val_loss: 0.4515 - val_acc: 0.8850\n",
      "Epoch 16/30\n",
      "7352/7352 [==============================] - 40s 5ms/step - loss: 0.1290 - acc: 0.9491 - val_loss: 0.3204 - val_acc: 0.9009\n",
      "Epoch 17/30\n",
      "7352/7352 [==============================] - 40s 5ms/step - loss: 0.1450 - acc: 0.9449 - val_loss: 0.3745 - val_acc: 0.8968\n",
      "Epoch 18/30\n",
      "7352/7352 [==============================] - 40s 5ms/step - loss: 0.1323 - acc: 0.9495 - val_loss: 0.2720 - val_acc: 0.9111\n",
      "Epoch 19/30\n",
      "7352/7352 [==============================] - 40s 5ms/step - loss: 0.1290 - acc: 0.9484 - val_loss: 0.2901 - val_acc: 0.9016\n",
      "Epoch 20/30\n",
      "7352/7352 [==============================] - 40s 5ms/step - loss: 0.1215 - acc: 0.9494 - val_loss: 0.3401 - val_acc: 0.8931\n",
      "Epoch 21/30\n",
      "7352/7352 [==============================] - 40s 5ms/step - loss: 0.1210 - acc: 0.9501 - val_loss: 0.3225 - val_acc: 0.8911\n",
      "Epoch 22/30\n",
      "7352/7352 [==============================] - 40s 5ms/step - loss: 0.1154 - acc: 0.9528 - val_loss: 0.6429 - val_acc: 0.8778\n",
      "Epoch 23/30\n",
      "7352/7352 [==============================] - 40s 5ms/step - loss: 0.1290 - acc: 0.9506 - val_loss: 0.3466 - val_acc: 0.9033\n",
      "Epoch 24/30\n",
      "7352/7352 [==============================] - 40s 5ms/step - loss: 0.1235 - acc: 0.9525 - val_loss: 0.3562 - val_acc: 0.9026\n",
      "Epoch 25/30\n",
      "7352/7352 [==============================] - 40s 5ms/step - loss: 0.1194 - acc: 0.9513 - val_loss: 0.3744 - val_acc: 0.8843\n",
      "Epoch 26/30\n",
      "7352/7352 [==============================] - 40s 5ms/step - loss: 0.1109 - acc: 0.9532 - val_loss: 0.3492 - val_acc: 0.8880\n",
      "Epoch 27/30\n",
      "7352/7352 [==============================] - 40s 5ms/step - loss: 0.1052 - acc: 0.9557 - val_loss: 0.4440 - val_acc: 0.8897\n",
      "Epoch 28/30\n",
      "7352/7352 [==============================] - 40s 5ms/step - loss: 0.1103 - acc: 0.9546 - val_loss: 0.4472 - val_acc: 0.8921\n",
      "Epoch 29/30\n",
      "7352/7352 [==============================] - 40s 5ms/step - loss: 0.1091 - acc: 0.9532 - val_loss: 0.3954 - val_acc: 0.8935\n",
      "Epoch 30/30\n",
      "7352/7352 [==============================] - 40s 5ms/step - loss: 0.1172 - acc: 0.9494 - val_loss: 0.3957 - val_acc: 0.9175\n"
     ]
    },
    {
     "data": {
      "text/plain": [
       "<keras.callbacks.History at 0x7fdaa96d1630>"
      ]
     },
     "execution_count": 37,
     "metadata": {
      "tags": []
     },
     "output_type": "execute_result"
    }
   ],
   "source": [
    "# Training the model\n",
    "model.fit(X_train,\n",
    "          Y_train,\n",
    "          batch_size=64,\n",
    "          validation_data=(X_test, Y_test),\n",
    "          epochs=30)"
   ]
  },
  {
   "cell_type": "code",
   "execution_count": 0,
   "metadata": {
    "colab": {
     "base_uri": "https://localhost:8080/",
     "height": 201
    },
    "colab_type": "code",
    "id": "WiXL-7YKQSVe",
    "outputId": "737c19fb-8adf-4fae-d139-6ad6b03e9afa"
   },
   "outputs": [
    {
     "name": "stdout",
     "output_type": "stream",
     "text": [
      "Pred                LAYING  SITTING  ...  WALKING_DOWNSTAIRS  WALKING_UPSTAIRS\n",
      "True                                 ...                                      \n",
      "LAYING                 537        0  ...                   0                 0\n",
      "SITTING                  3      413  ...                   0                 1\n",
      "STANDING                 0       64  ...                   0                 0\n",
      "WALKING                  0        0  ...                  26                 3\n",
      "WALKING_DOWNSTAIRS       0        0  ...                 404                 3\n",
      "WALKING_UPSTAIRS         0        1  ...                   3               416\n",
      "\n",
      "[6 rows x 6 columns]\n"
     ]
    }
   ],
   "source": [
    "# Confusion Matrix\n",
    "print(confusion_matrix(Y_test, model.predict(X_test)))"
   ]
  },
  {
   "cell_type": "code",
   "execution_count": 0,
   "metadata": {
    "colab": {
     "base_uri": "https://localhost:8080/",
     "height": 35
    },
    "colab_type": "code",
    "id": "jkmC6mItQaHD",
    "outputId": "b55471e5-7373-4dbc-fcff-45d89381916c"
   },
   "outputs": [
    {
     "name": "stdout",
     "output_type": "stream",
     "text": [
      "2947/2947 [==============================] - 4s 1ms/step\n"
     ]
    }
   ],
   "source": [
    "score = model.evaluate(X_test, Y_test)"
   ]
  },
  {
   "cell_type": "code",
   "execution_count": 0,
   "metadata": {
    "colab": {
     "base_uri": "https://localhost:8080/",
     "height": 35
    },
    "colab_type": "code",
    "id": "bm_4qfOHQbDA",
    "outputId": "896c847c-5c9c-4bfc-8d30-012e88786351"
   },
   "outputs": [
    {
     "data": {
      "text/plain": [
       "[0.3956586769653622, 0.9175432643366135]"
      ]
     },
     "execution_count": 40,
     "metadata": {
      "tags": []
     },
     "output_type": "execute_result"
    }
   ],
   "source": [
    "score"
   ]
  },
  {
   "cell_type": "markdown",
   "metadata": {
    "colab_type": "text",
    "id": "sEauqDWud-nX"
   },
   "source": [
    "- With 2 LSTM layers with 80 units, dropout of 0.25 and a 2 Dense layers we get a 91.04 % accuracy.\n",
    "- In some epochs, the accuracy also goes upto 93%.\n",
    "- Tried different LSTM layers with different units, different number of dense layers but the accuracy remains in the range of 90-92%."
   ]
  },
  {
   "cell_type": "markdown",
   "metadata": {
    "colab_type": "text",
    "id": "o6MxmTHSPF1o"
   },
   "source": [
    "<h2>Divide and Conquer based CNN</h2>"
   ]
  },
  {
   "cell_type": "markdown",
   "metadata": {
    "colab_type": "text",
    "id": "Kh6VUaVTXgXD"
   },
   "source": [
    "This is the code for the Sensors 2018 paper Divide and Conquer-based 1D CNN Human Activity Recognition Using Test Data Sharpening by Heeryon Cho and Sang Min Yoon.\n",
    "- This approach leverages a two-stage learning of multiple 1D CNN models.\n",
    "- We ﬁrst build a binary classiﬁer for recognizing abstract activities i.e static or dynamic.\n",
    "- Then build two multi-class 1D CNN models for recognizing individual activities. "
   ]
  },
  {
   "cell_type": "code",
   "execution_count": 0,
   "metadata": {
    "colab": {},
    "colab_type": "code",
    "id": "Sng7yJw0PEdc"
   },
   "outputs": [],
   "source": [
    "import pandas as pd\n",
    "from matplotlib import pyplot\n",
    "from sklearn.preprocessing import StandardScaler\n",
    "from keras.models import Sequential\n",
    "from keras.layers import Dense\n",
    "from keras.layers import Flatten\n",
    "from keras.layers import Dropout\n",
    "from keras.layers.convolutional import Conv1D\n",
    "from keras.layers.convolutional import MaxPooling1D\n",
    "from keras.utils import to_categorical\n",
    "from keras.models import Sequential\n",
    "from keras.layers import LSTM\n",
    "from keras.layers.core import Dense, Dropout"
   ]
  },
  {
   "cell_type": "code",
   "execution_count": 0,
   "metadata": {
    "colab": {},
    "colab_type": "code",
    "id": "A-bujtIsYKcR"
   },
   "outputs": [],
   "source": [
    "# Data directory\n",
    "DATADIR = 'UCI_HAR_Dataset'\n",
    "\n",
    "# Raw data signals\n",
    "# Signals are from Accelerometer and Gyroscope\n",
    "# The signals are in x,y,z directions\n",
    "# Sensor signals are filtered to have only body acceleration\n",
    "# excluding the acceleration due to gravity\n",
    "# Triaxial acceleration from the accelerometer is total acceleration\n",
    "SIGNALS = [\n",
    "    \"body_acc_x\",\n",
    "    \"body_acc_y\",\n",
    "    \"body_acc_z\",\n",
    "    \"body_gyro_x\",\n",
    "    \"body_gyro_y\",\n",
    "    \"body_gyro_z\",\n",
    "    \"total_acc_x\",\n",
    "    \"total_acc_y\",\n",
    "    \"total_acc_z\"\n",
    "]\n",
    "\n",
    "# Utility function to read the data from csv file\n",
    "def _read_csv(filename):\n",
    "    return pd.read_csv(filename, delim_whitespace=True, header=None)\n",
    "\n",
    "# Utility function to load the load\n",
    "def load_signals(subset):\n",
    "    signals_data = []\n",
    "\n",
    "    for signal in SIGNALS:\n",
    "        filename = f'drive/My Drive/HAR/UCI_HAR_Dataset/{subset}/Inertial Signals/{signal}_{subset}.txt'\n",
    "        signals_data.append(\n",
    "            _read_csv(filename).as_matrix()\n",
    "        ) \n",
    "\n",
    "    # Transpose is used to change the dimensionality of the output,\n",
    "    # aggregating the signals by combination of sample/timestep.\n",
    "    # Resultant shape is (7352 train/2947 test samples, 128 timesteps, 9 signals)\n",
    "    return np.transpose(signals_data, (1, 2, 0))\n",
    "\n",
    "\n",
    "def load_y(subset):\n",
    "    \"\"\"\n",
    "    The objective that we are trying to predict is a integer, from 1 to 6,\n",
    "    that represents a human activity. We return a binary representation of \n",
    "    every sample objective as a 6 bits vector using One Hot Encoding\n",
    "    (https://pandas.pydata.org/pandas-docs/stable/generated/pandas.get_dummies.html)\n",
    "    \"\"\"\n",
    "    filename = f'drive/My Drive/HAR/UCI_HAR_Dataset/{subset}/y_{subset}.txt'\n",
    "    y = _read_csv(filename)[0]\n",
    "    y [y <= 3] = 0\n",
    "    y [y > 3] = 1\n",
    "\n",
    "    return pd.get_dummies(y).as_matrix()\n",
    "\n",
    "def load_data():\n",
    "    \"\"\"\n",
    "    Obtain the dataset from multiple files.\n",
    "    Returns: X_train, X_test, y_train, y_test\n",
    "    \"\"\"\n",
    "    X_train, X_test = load_signals('train'), load_signals('test')\n",
    "    y_train, y_test = load_y('train'), load_y('test')\n",
    "\n",
    "    return X_train, X_test, y_train, y_test\n",
    "\n",
    "def feature_normalize(dataset):\n",
    "    mu = np.mean(dataset,axis = 0)\n",
    "    sigma = np.std(dataset,axis = 0)\n",
    "    return (dataset - mu)/sigma"
   ]
  },
  {
   "cell_type": "code",
   "execution_count": 0,
   "metadata": {
    "colab": {},
    "colab_type": "code",
    "id": "nt5hwCO5auSj"
   },
   "outputs": [],
   "source": [
    "# Loading the train and test data\n",
    "X_train_, X_test_, Y_train_, Y_test_ = load_data()"
   ]
  },
  {
   "cell_type": "code",
   "execution_count": 22,
   "metadata": {
    "colab": {
     "base_uri": "https://localhost:8080/",
     "height": 54
    },
    "colab_type": "code",
    "id": "rRfBt6ZBdJcv",
    "outputId": "533d424f-2d52-48d6-8140-c3daf49c5db0"
   },
   "outputs": [
    {
     "name": "stdout",
     "output_type": "stream",
     "text": [
      "(7352, 2)\n",
      "(2947, 2)\n"
     ]
    }
   ],
   "source": [
    "print(Y_train_.shape)\n",
    "print(Y_test_.shape)"
   ]
  },
  {
   "cell_type": "markdown",
   "metadata": {
    "colab_type": "text",
    "id": "PdT-EAPjd7Lz"
   },
   "source": [
    "- Binary classifier to recognize activities as static and dynamic"
   ]
  },
  {
   "cell_type": "code",
   "execution_count": 75,
   "metadata": {
    "colab": {
     "base_uri": "https://localhost:8080/",
     "height": 421
    },
    "colab_type": "code",
    "id": "2mMN7JiGdxRL",
    "outputId": "04c37cb8-a41d-4654-e57f-c5a4659651fd"
   },
   "outputs": [
    {
     "name": "stdout",
     "output_type": "stream",
     "text": [
      "Model: \"sequential_4\"\n",
      "_________________________________________________________________\n",
      "Layer (type)                 Output Shape              Param #   \n",
      "=================================================================\n",
      "conv1d_7 (Conv1D)            (None, 126, 64)           1792      \n",
      "_________________________________________________________________\n",
      "conv1d_8 (Conv1D)            (None, 124, 32)           6176      \n",
      "_________________________________________________________________\n",
      "dropout_4 (Dropout)          (None, 124, 32)           0         \n",
      "_________________________________________________________________\n",
      "max_pooling1d_4 (MaxPooling1 (None, 62, 32)            0         \n",
      "_________________________________________________________________\n",
      "flatten_4 (Flatten)          (None, 1984)              0         \n",
      "_________________________________________________________________\n",
      "dense_7 (Dense)              (None, 32)                63520     \n",
      "_________________________________________________________________\n",
      "dense_8 (Dense)              (None, 2)                 66        \n",
      "=================================================================\n",
      "Total params: 71,554\n",
      "Trainable params: 71,554\n",
      "Non-trainable params: 0\n",
      "_________________________________________________________________\n"
     ]
    }
   ],
   "source": [
    "model_ = Sequential()\n",
    "model_.add(Conv1D(filters=64, kernel_size=3, activation='relu',input_shape=(128,9)))\n",
    "model_.add(Conv1D(filters=32, kernel_size=3, activation='relu'))\n",
    "model_.add(Dropout(0.5))\n",
    "model_.add(MaxPooling1D(pool_size=2))\n",
    "model_.add(Flatten())\n",
    "model_.add(Dense(32, activation='relu'))\n",
    "model_.add(Dense(2, activation='softmax'))\n",
    "model_.summary()"
   ]
  },
  {
   "cell_type": "code",
   "execution_count": 0,
   "metadata": {
    "colab": {},
    "colab_type": "code",
    "id": "konp-f0LeSyP"
   },
   "outputs": [],
   "source": [
    "# Compiling the model\n",
    "model_.compile(loss='categorical_crossentropy',\n",
    "              optimizer='adam',\n",
    "              metrics=['accuracy'])"
   ]
  },
  {
   "cell_type": "code",
   "execution_count": 77,
   "metadata": {
    "colab": {
     "base_uri": "https://localhost:8080/",
     "height": 788
    },
    "colab_type": "code",
    "id": "F1n01qnteWhu",
    "outputId": "678ce94b-133d-463a-b2d5-608c2f6b32bb"
   },
   "outputs": [
    {
     "name": "stdout",
     "output_type": "stream",
     "text": [
      "Train on 7352 samples, validate on 2947 samples\n",
      "Epoch 1/20\n",
      "7352/7352 [==============================] - 5s 624us/step - loss: 0.0848 - acc: 0.9653 - val_loss: 0.0164 - val_acc: 0.9952\n",
      "Epoch 2/20\n",
      "7352/7352 [==============================] - 4s 514us/step - loss: 0.0026 - acc: 0.9995 - val_loss: 0.0116 - val_acc: 0.9973\n",
      "Epoch 3/20\n",
      "7352/7352 [==============================] - 4s 517us/step - loss: 0.0015 - acc: 0.9996 - val_loss: 0.0123 - val_acc: 0.9969\n",
      "Epoch 4/20\n",
      "7352/7352 [==============================] - 4s 515us/step - loss: 0.0010 - acc: 0.9999 - val_loss: 0.0118 - val_acc: 0.9959\n",
      "Epoch 5/20\n",
      "7352/7352 [==============================] - 4s 514us/step - loss: 5.4784e-04 - acc: 0.9999 - val_loss: 0.0083 - val_acc: 0.9973\n",
      "Epoch 6/20\n",
      "7352/7352 [==============================] - 4s 521us/step - loss: 4.2276e-04 - acc: 0.9999 - val_loss: 0.0075 - val_acc: 0.9976\n",
      "Epoch 7/20\n",
      "7352/7352 [==============================] - 4s 523us/step - loss: 1.9288e-04 - acc: 1.0000 - val_loss: 0.0082 - val_acc: 0.9973\n",
      "Epoch 8/20\n",
      "7352/7352 [==============================] - 4s 519us/step - loss: 1.6657e-04 - acc: 1.0000 - val_loss: 0.0124 - val_acc: 0.9956\n",
      "Epoch 9/20\n",
      "7352/7352 [==============================] - 4s 515us/step - loss: 6.8173e-05 - acc: 1.0000 - val_loss: 0.0084 - val_acc: 0.9969\n",
      "Epoch 10/20\n",
      "7352/7352 [==============================] - 4s 515us/step - loss: 4.1051e-05 - acc: 1.0000 - val_loss: 0.0096 - val_acc: 0.9963\n",
      "Epoch 11/20\n",
      "7352/7352 [==============================] - 4s 515us/step - loss: 9.8718e-05 - acc: 1.0000 - val_loss: 0.0080 - val_acc: 0.9969\n",
      "Epoch 12/20\n",
      "7352/7352 [==============================] - 4s 518us/step - loss: 7.1362e-05 - acc: 1.0000 - val_loss: 0.0096 - val_acc: 0.9963\n",
      "Epoch 13/20\n",
      "7352/7352 [==============================] - 4s 506us/step - loss: 3.7436e-05 - acc: 1.0000 - val_loss: 0.0089 - val_acc: 0.9969\n",
      "Epoch 14/20\n",
      "7352/7352 [==============================] - 4s 508us/step - loss: 2.6072e-05 - acc: 1.0000 - val_loss: 0.0077 - val_acc: 0.9973\n",
      "Epoch 15/20\n",
      "7352/7352 [==============================] - 4s 512us/step - loss: 6.7109e-05 - acc: 1.0000 - val_loss: 0.0115 - val_acc: 0.9966\n",
      "Epoch 16/20\n",
      "7352/7352 [==============================] - 4s 521us/step - loss: 3.2977e-05 - acc: 1.0000 - val_loss: 0.0093 - val_acc: 0.9969\n",
      "Epoch 17/20\n",
      "7352/7352 [==============================] - 4s 516us/step - loss: 1.2393e-05 - acc: 1.0000 - val_loss: 0.0084 - val_acc: 0.9973\n",
      "Epoch 18/20\n",
      "7352/7352 [==============================] - 4s 511us/step - loss: 2.3699e-05 - acc: 1.0000 - val_loss: 0.0118 - val_acc: 0.9963\n",
      "Epoch 19/20\n",
      "7352/7352 [==============================] - 4s 510us/step - loss: 2.5019e-05 - acc: 1.0000 - val_loss: 0.0087 - val_acc: 0.9973\n",
      "Epoch 20/20\n",
      "7352/7352 [==============================] - 4s 514us/step - loss: 4.3758e-05 - acc: 1.0000 - val_loss: 0.0079 - val_acc: 0.9976\n"
     ]
    },
    {
     "data": {
      "text/plain": [
       "<keras.callbacks.History at 0x7fcda294e9e8>"
      ]
     },
     "execution_count": 77,
     "metadata": {
      "tags": []
     },
     "output_type": "execute_result"
    }
   ],
   "source": [
    "# Training the model\n",
    "model_.fit(X_train_,\n",
    "          Y_train_,\n",
    "          batch_size=128,\n",
    "          validation_data=(X_test_, Y_test_),\n",
    "          epochs=20)"
   ]
  },
  {
   "cell_type": "code",
   "execution_count": 78,
   "metadata": {
    "colab": {
     "base_uri": "https://localhost:8080/",
     "height": 90
    },
    "colab_type": "code",
    "id": "JoBLX8ScNa8L",
    "outputId": "18afe93b-ff63-4eb9-b556-7394d3e7cad1"
   },
   "outputs": [
    {
     "name": "stdout",
     "output_type": "stream",
     "text": [
      "\n",
      "# Evaluate on test data\n",
      "2947/2947 [==============================] - 0s 120us/step\n",
      "test loss, test acc: [0.007921562593161397, 0.997624703087886]\n"
     ]
    }
   ],
   "source": [
    "# Evaluate the model on the test data using `evaluate`\n",
    "print('\\n# Evaluate on test data')\n",
    "results = model_.evaluate(X_test_, Y_test_, batch_size=128)\n",
    "print('test loss, test acc:', results)"
   ]
  },
  {
   "cell_type": "markdown",
   "metadata": {
    "colab_type": "text",
    "id": "JyiyfzSxgTog"
   },
   "source": [
    "- Multi-class 1D CNN model for recognizing static activities"
   ]
  },
  {
   "cell_type": "code",
   "execution_count": 0,
   "metadata": {
    "colab": {},
    "colab_type": "code",
    "id": "9lstpfiIe4sR"
   },
   "outputs": [],
   "source": [
    "# Data directory\n",
    "DATADIR = 'UCI_HAR_Dataset'\n",
    "\n",
    "# Raw data signals\n",
    "# Signals are from Accelerometer and Gyroscope\n",
    "# The signals are in x,y,z directions\n",
    "# Sensor signals are filtered to have only body acceleration\n",
    "# excluding the acceleration due to gravity\n",
    "# Triaxial acceleration from the accelerometer is total acceleration\n",
    "SIGNALS = [\n",
    "    \"body_acc_x\",\n",
    "    \"body_acc_y\",\n",
    "    \"body_acc_z\",\n",
    "    \"body_gyro_x\",\n",
    "    \"body_gyro_y\",\n",
    "    \"body_gyro_z\",\n",
    "    \"total_acc_x\",\n",
    "    \"total_acc_y\",\n",
    "    \"total_acc_z\"\n",
    "]\n",
    "\n",
    "# Utility function to read the data from csv file\n",
    "def _read_csv(filename):\n",
    "    return pd.read_csv(filename, delim_whitespace=True, header=None)\n",
    "\n",
    "# Utility function to load the load\n",
    "def load_signals(subset):\n",
    "    signals_data = []\n",
    "\n",
    "    for signal in SIGNALS:\n",
    "        filename = f'drive/My Drive/HAR/UCI_HAR_Dataset/{subset}/Inertial Signals/{signal}_{subset}.txt'\n",
    "        signals_data.append(\n",
    "            _read_csv(filename).as_matrix()\n",
    "        ) \n",
    "\n",
    "    # Transpose is used to change the dimensionality of the output,\n",
    "    # aggregating the signals by combination of sample/timestep.\n",
    "    # Resultant shape is (7352 train/2947 test samples, 128 timesteps, 9 signals)\n",
    "    return np.transpose(signals_data, (1, 2, 0))\n",
    "\n",
    "\n",
    "def load_y(subset):\n",
    "    \"\"\"\n",
    "    The objective that we are trying to predict is a integer, from 1 to 6,\n",
    "    that represents a human activity. We return a binary representation of \n",
    "    every sample objective as a 6 bits vector using One Hot Encoding\n",
    "    (https://pandas.pydata.org/pandas-docs/stable/generated/pandas.get_dummies.html)\n",
    "    \"\"\"\n",
    "    filename = f'drive/My Drive/HAR/UCI_HAR_Dataset/{subset}/y_{subset}.txt'\n",
    "    y = _read_csv(filename)[0]\n",
    "    static = y > 3\n",
    "    y  = y[static]\n",
    "\n",
    "    return pd.get_dummies(y).as_matrix(), static\n",
    "\n",
    "def load_data():\n",
    "    \"\"\"\n",
    "    Obtain the dataset from multiple files.\n",
    "    Returns: X_train, X_test, y_train, y_test\n",
    "    \"\"\"\n",
    "    X_train, X_test = load_signals('train'), load_signals('test')\n",
    "    y_train, y_tr = load_y('train')\n",
    "    y_test, y_te = load_y('test')\n",
    "    X_train = X_train[y_tr]\n",
    "    X_test = X_test[y_te]\n",
    "\n",
    "    return X_train, X_test, y_train, y_test"
   ]
  },
  {
   "cell_type": "code",
   "execution_count": 0,
   "metadata": {
    "colab": {},
    "colab_type": "code",
    "id": "s087-IvFj6MM"
   },
   "outputs": [],
   "source": [
    "# Loading the train and test data\n",
    "X_train_static, X_test_static, Y_train_static, Y_test_static = load_data()"
   ]
  },
  {
   "cell_type": "code",
   "execution_count": 81,
   "metadata": {
    "colab": {
     "base_uri": "https://localhost:8080/",
     "height": 90
    },
    "colab_type": "code",
    "id": "AvOdml_qj-Q5",
    "outputId": "32c802b9-36d2-4dd6-9414-985ec78a0478"
   },
   "outputs": [
    {
     "name": "stdout",
     "output_type": "stream",
     "text": [
      "(4067, 128, 9)\n",
      "(1560, 128, 9)\n",
      "(4067, 3)\n",
      "(1560, 3)\n"
     ]
    }
   ],
   "source": [
    "print(X_train_static.shape)\n",
    "print(X_test_static.shape)\n",
    "\n",
    "print(Y_train_static.shape)\n",
    "print(Y_test_static.shape)"
   ]
  },
  {
   "cell_type": "code",
   "execution_count": 147,
   "metadata": {
    "colab": {
     "base_uri": "https://localhost:8080/",
     "height": 458
    },
    "colab_type": "code",
    "id": "I5x89wEGlnJZ",
    "outputId": "38debd8b-5d12-408f-9c9e-043c8cf91b8d"
   },
   "outputs": [
    {
     "name": "stdout",
     "output_type": "stream",
     "text": [
      "Model: \"sequential_14\"\n",
      "_________________________________________________________________\n",
      "Layer (type)                 Output Shape              Param #   \n",
      "=================================================================\n",
      "conv1d_27 (Conv1D)           (None, 124, 32)           1472      \n",
      "_________________________________________________________________\n",
      "conv1d_28 (Conv1D)           (None, 122, 16)           1552      \n",
      "_________________________________________________________________\n",
      "dropout_14 (Dropout)         (None, 122, 16)           0         \n",
      "_________________________________________________________________\n",
      "max_pooling1d_14 (MaxPooling (None, 61, 16)            0         \n",
      "_________________________________________________________________\n",
      "flatten_14 (Flatten)         (None, 976)               0         \n",
      "_________________________________________________________________\n",
      "dense_27 (Dense)             (None, 64)                62528     \n",
      "_________________________________________________________________\n",
      "dense_28 (Dense)             (None, 32)                2080      \n",
      "_________________________________________________________________\n",
      "dense_29 (Dense)             (None, 3)                 99        \n",
      "=================================================================\n",
      "Total params: 67,731\n",
      "Trainable params: 67,731\n",
      "Non-trainable params: 0\n",
      "_________________________________________________________________\n"
     ]
    }
   ],
   "source": [
    "model_static = Sequential()\n",
    "model_static.add(Conv1D(filters=32, kernel_size=5, activation='relu', input_shape=(128,9)))\n",
    "model_static.add(Conv1D(filters=16, kernel_size=3, activation='relu'))\n",
    "model_static.add(Dropout(0.45))\n",
    "model_static.add(MaxPooling1D(pool_size=2))\n",
    "model_static.add(Flatten())\n",
    "model_static.add(Dense(64, activation='relu'))\n",
    "model_static.add(Dense(32, activation='relu'))\n",
    "model_static.add(Dense(3, activation='softmax'))\n",
    "model_static.summary()"
   ]
  },
  {
   "cell_type": "code",
   "execution_count": 0,
   "metadata": {
    "colab": {},
    "colab_type": "code",
    "id": "xj3iVnFTlt7-"
   },
   "outputs": [],
   "source": [
    "# Compiling the model\n",
    "model_static.compile(loss='categorical_crossentropy',\n",
    "              optimizer='adam',\n",
    "              metrics=['accuracy'])"
   ]
  },
  {
   "cell_type": "code",
   "execution_count": 149,
   "metadata": {
    "colab": {
     "base_uri": "https://localhost:8080/",
     "height": 1000
    },
    "colab_type": "code",
    "id": "eAqCAc-XlyP1",
    "outputId": "04772f32-189b-4e15-dea4-93bec005dffb"
   },
   "outputs": [
    {
     "name": "stdout",
     "output_type": "stream",
     "text": [
      "Train on 4067 samples, validate on 1560 samples\n",
      "Epoch 1/30\n",
      "4067/4067 [==============================] - 4s 888us/step - loss: 0.3417 - acc: 0.8522 - val_loss: 0.2840 - val_acc: 0.8750\n",
      "Epoch 2/30\n",
      "4067/4067 [==============================] - 1s 365us/step - loss: 0.1995 - acc: 0.9154 - val_loss: 0.2812 - val_acc: 0.8699\n",
      "Epoch 3/30\n",
      "4067/4067 [==============================] - 2s 375us/step - loss: 0.1981 - acc: 0.9125 - val_loss: 0.2710 - val_acc: 0.8667\n",
      "Epoch 4/30\n",
      "4067/4067 [==============================] - 2s 370us/step - loss: 0.1954 - acc: 0.9147 - val_loss: 0.2719 - val_acc: 0.8679\n",
      "Epoch 5/30\n",
      "4067/4067 [==============================] - 2s 370us/step - loss: 0.1960 - acc: 0.9174 - val_loss: 0.3353 - val_acc: 0.8346\n",
      "Epoch 6/30\n",
      "4067/4067 [==============================] - 1s 365us/step - loss: 0.1832 - acc: 0.9235 - val_loss: 0.2826 - val_acc: 0.8885\n",
      "Epoch 7/30\n",
      "4067/4067 [==============================] - 2s 369us/step - loss: 0.1754 - acc: 0.9243 - val_loss: 0.2936 - val_acc: 0.8679\n",
      "Epoch 8/30\n",
      "4067/4067 [==============================] - 1s 357us/step - loss: 0.1735 - acc: 0.9260 - val_loss: 0.2956 - val_acc: 0.8462\n",
      "Epoch 9/30\n",
      "4067/4067 [==============================] - 1s 354us/step - loss: 0.1697 - acc: 0.9243 - val_loss: 0.2982 - val_acc: 0.8628\n",
      "Epoch 10/30\n",
      "4067/4067 [==============================] - 1s 362us/step - loss: 0.1736 - acc: 0.9260 - val_loss: 0.2916 - val_acc: 0.8718\n",
      "Epoch 11/30\n",
      "4067/4067 [==============================] - 1s 357us/step - loss: 0.1571 - acc: 0.9304 - val_loss: 0.3313 - val_acc: 0.8673\n",
      "Epoch 12/30\n",
      "4067/4067 [==============================] - 1s 368us/step - loss: 0.1619 - acc: 0.9287 - val_loss: 0.3651 - val_acc: 0.8660\n",
      "Epoch 13/30\n",
      "4067/4067 [==============================] - 2s 370us/step - loss: 0.1543 - acc: 0.9309 - val_loss: 0.3220 - val_acc: 0.8821\n",
      "Epoch 14/30\n",
      "4067/4067 [==============================] - 2s 380us/step - loss: 0.1421 - acc: 0.9358 - val_loss: 0.3824 - val_acc: 0.8744\n",
      "Epoch 15/30\n",
      "4067/4067 [==============================] - 1s 359us/step - loss: 0.1312 - acc: 0.9405 - val_loss: 0.4430 - val_acc: 0.8910\n",
      "Epoch 16/30\n",
      "4067/4067 [==============================] - 1s 360us/step - loss: 0.1306 - acc: 0.9388 - val_loss: 0.3157 - val_acc: 0.9045\n",
      "Epoch 17/30\n",
      "4067/4067 [==============================] - 1s 357us/step - loss: 0.1355 - acc: 0.9447 - val_loss: 0.2717 - val_acc: 0.9071\n",
      "Epoch 18/30\n",
      "4067/4067 [==============================] - 1s 351us/step - loss: 0.1178 - acc: 0.9462 - val_loss: 0.2492 - val_acc: 0.9192\n",
      "Epoch 19/30\n",
      "4067/4067 [==============================] - 1s 344us/step - loss: 0.1056 - acc: 0.9518 - val_loss: 0.3187 - val_acc: 0.8955\n",
      "Epoch 20/30\n",
      "4067/4067 [==============================] - 1s 349us/step - loss: 0.0922 - acc: 0.9597 - val_loss: 0.2852 - val_acc: 0.9154\n",
      "Epoch 21/30\n",
      "4067/4067 [==============================] - 1s 363us/step - loss: 0.1001 - acc: 0.9518 - val_loss: 0.3028 - val_acc: 0.9064\n",
      "Epoch 22/30\n",
      "4067/4067 [==============================] - 1s 356us/step - loss: 0.0881 - acc: 0.9604 - val_loss: 0.3291 - val_acc: 0.8968\n",
      "Epoch 23/30\n",
      "4067/4067 [==============================] - 1s 365us/step - loss: 0.0935 - acc: 0.9540 - val_loss: 0.3228 - val_acc: 0.9103\n",
      "Epoch 24/30\n",
      "4067/4067 [==============================] - 1s 362us/step - loss: 0.0850 - acc: 0.9607 - val_loss: 0.2980 - val_acc: 0.9115\n",
      "Epoch 25/30\n",
      "4067/4067 [==============================] - 1s 361us/step - loss: 0.0831 - acc: 0.9609 - val_loss: 0.3307 - val_acc: 0.9122\n",
      "Epoch 26/30\n",
      "4067/4067 [==============================] - 1s 368us/step - loss: 0.0804 - acc: 0.9629 - val_loss: 0.3197 - val_acc: 0.9115\n",
      "Epoch 27/30\n",
      "4067/4067 [==============================] - 1s 367us/step - loss: 0.0930 - acc: 0.9599 - val_loss: 0.2880 - val_acc: 0.9224\n",
      "Epoch 28/30\n",
      "4067/4067 [==============================] - 2s 380us/step - loss: 0.0739 - acc: 0.9678 - val_loss: 0.3175 - val_acc: 0.9237\n",
      "Epoch 29/30\n",
      "4067/4067 [==============================] - 1s 367us/step - loss: 0.0793 - acc: 0.9656 - val_loss: 0.3832 - val_acc: 0.9000\n",
      "Epoch 30/30\n",
      "4067/4067 [==============================] - 2s 375us/step - loss: 0.0704 - acc: 0.9702 - val_loss: 0.3276 - val_acc: 0.9103\n"
     ]
    },
    {
     "data": {
      "text/plain": [
       "<keras.callbacks.History at 0x7fcda16cb588>"
      ]
     },
     "execution_count": 149,
     "metadata": {
      "tags": []
     },
     "output_type": "execute_result"
    }
   ],
   "source": [
    "# Training the model\n",
    "model_static.fit(X_train_static,\n",
    "          Y_train_static,\n",
    "          batch_size=64,\n",
    "          validation_data=(X_test_static, Y_test_static),\n",
    "          epochs=30)"
   ]
  },
  {
   "cell_type": "code",
   "execution_count": 150,
   "metadata": {
    "colab": {
     "base_uri": "https://localhost:8080/",
     "height": 90
    },
    "colab_type": "code",
    "id": "cQRxL4nil5Lj",
    "outputId": "e394bacb-7117-47a5-c633-287ce64a91e4"
   },
   "outputs": [
    {
     "name": "stdout",
     "output_type": "stream",
     "text": [
      "\n",
      "# Evaluate on test data\n",
      "1560/1560 [==============================] - 0s 121us/step\n",
      "test loss, test acc: [0.3276318245113287, 0.9102564102564102]\n"
     ]
    }
   ],
   "source": [
    "print('\\n# Evaluate on test data')\n",
    "results = model_static.evaluate(X_test_static, Y_test_static, batch_size=32)\n",
    "print('test loss, test acc:', results)"
   ]
  },
  {
   "cell_type": "markdown",
   "metadata": {
    "colab_type": "text",
    "id": "juwn3As5vpl5"
   },
   "source": [
    "- Multi-class 1D CNN model for recognizing dynamic activities"
   ]
  },
  {
   "cell_type": "code",
   "execution_count": 0,
   "metadata": {
    "colab": {},
    "colab_type": "code",
    "id": "mCRs_fUuvvcl"
   },
   "outputs": [],
   "source": [
    "# Data directory\n",
    "DATADIR = 'UCI_HAR_Dataset'\n",
    "\n",
    "# Raw data signals\n",
    "# Signals are from Accelerometer and Gyroscope\n",
    "# The signals are in x,y,z directions\n",
    "# Sensor signals are filtered to have only body acceleration\n",
    "# excluding the acceleration due to gravity\n",
    "# Triaxial acceleration from the accelerometer is total acceleration\n",
    "SIGNALS = [\n",
    "    \"body_acc_x\",\n",
    "    \"body_acc_y\",\n",
    "    \"body_acc_z\",\n",
    "    \"body_gyro_x\",\n",
    "    \"body_gyro_y\",\n",
    "    \"body_gyro_z\",\n",
    "    \"total_acc_x\",\n",
    "    \"total_acc_y\",\n",
    "    \"total_acc_z\"\n",
    "]\n",
    "\n",
    "# Utility function to read the data from csv file\n",
    "def _read_csv(filename):\n",
    "    return pd.read_csv(filename, delim_whitespace=True, header=None)\n",
    "\n",
    "# Utility function to load the load\n",
    "def load_signals(subset):\n",
    "    signals_data = []\n",
    "\n",
    "    for signal in SIGNALS:\n",
    "        filename = f'drive/My Drive/HAR/UCI_HAR_Dataset/{subset}/Inertial Signals/{signal}_{subset}.txt'\n",
    "        signals_data.append(\n",
    "            _read_csv(filename).as_matrix()\n",
    "        ) \n",
    "\n",
    "    # Transpose is used to change the dimensionality of the output,\n",
    "    # aggregating the signals by combination of sample/timestep.\n",
    "    # Resultant shape is (7352 train/2947 test samples, 128 timesteps, 9 signals)\n",
    "    return np.transpose(signals_data, (1, 2, 0))\n",
    "\n",
    "\n",
    "def load_y(subset):\n",
    "    \"\"\"\n",
    "    The objective that we are trying to predict is a integer, from 1 to 6,\n",
    "    that represents a human activity. We return a binary representation of \n",
    "    every sample objective as a 6 bits vector using One Hot Encoding\n",
    "    (https://pandas.pydata.org/pandas-docs/stable/generated/pandas.get_dummies.html)\n",
    "    \"\"\"\n",
    "    filename = f'drive/My Drive/HAR/UCI_HAR_Dataset/{subset}/y_{subset}.txt'\n",
    "    y = _read_csv(filename)[0]\n",
    "    dynamic = y <= 3\n",
    "    y  = y[dynamic]\n",
    "\n",
    "    return pd.get_dummies(y).as_matrix(), dynamic\n",
    "\n",
    "def load_data():\n",
    "    \"\"\"\n",
    "    Obtain the dataset from multiple files.\n",
    "    Returns: X_train, X_test, y_train, y_test\n",
    "    \"\"\"\n",
    "    X_train, X_test = load_signals('train'), load_signals('test')\n",
    "    y_train, y_tr = load_y('train')\n",
    "    y_test, y_te = load_y('test')\n",
    "    X_train = X_train[y_tr]\n",
    "    X_test = X_test[y_te]\n",
    "\n",
    "    return X_train, X_test, y_train, y_test"
   ]
  },
  {
   "cell_type": "code",
   "execution_count": 0,
   "metadata": {
    "colab": {},
    "colab_type": "code",
    "id": "GdH5-4UTv6Hm"
   },
   "outputs": [],
   "source": [
    "# Loading the train and test data\n",
    "X_train_dynamic, X_test_dynamic, Y_train_dynamic, Y_test_dynamic = load_data()"
   ]
  },
  {
   "cell_type": "code",
   "execution_count": 116,
   "metadata": {
    "colab": {
     "base_uri": "https://localhost:8080/",
     "height": 90
    },
    "colab_type": "code",
    "id": "waeyhrZiv85h",
    "outputId": "15adb24e-df1d-4be2-e11d-0e4ac1c07385"
   },
   "outputs": [
    {
     "name": "stdout",
     "output_type": "stream",
     "text": [
      "(3285, 128, 9)\n",
      "(1387, 128, 9)\n",
      "(3285, 3)\n",
      "(1387, 3)\n"
     ]
    }
   ],
   "source": [
    "print(X_train_dynamic.shape)\n",
    "print(X_test_dynamic.shape)\n",
    "\n",
    "print(Y_train_dynamic.shape)\n",
    "print(Y_test_dynamic.shape)"
   ]
  },
  {
   "cell_type": "code",
   "execution_count": 155,
   "metadata": {
    "colab": {
     "base_uri": "https://localhost:8080/",
     "height": 458
    },
    "colab_type": "code",
    "id": "Gn2-2hd4weHC",
    "outputId": "0e07f6a9-f815-4d15-f7e4-08e7fedbbc2e"
   },
   "outputs": [
    {
     "name": "stdout",
     "output_type": "stream",
     "text": [
      "Model: \"sequential_15\"\n",
      "_________________________________________________________________\n",
      "Layer (type)                 Output Shape              Param #   \n",
      "=================================================================\n",
      "conv1d_29 (Conv1D)           (None, 122, 64)           4096      \n",
      "_________________________________________________________________\n",
      "conv1d_30 (Conv1D)           (None, 118, 32)           10272     \n",
      "_________________________________________________________________\n",
      "dropout_15 (Dropout)         (None, 118, 32)           0         \n",
      "_________________________________________________________________\n",
      "max_pooling1d_15 (MaxPooling (None, 23, 32)            0         \n",
      "_________________________________________________________________\n",
      "flatten_15 (Flatten)         (None, 736)               0         \n",
      "_________________________________________________________________\n",
      "dense_30 (Dense)             (None, 64)                47168     \n",
      "_________________________________________________________________\n",
      "dense_31 (Dense)             (None, 16)                1040      \n",
      "_________________________________________________________________\n",
      "dense_32 (Dense)             (None, 3)                 51        \n",
      "=================================================================\n",
      "Total params: 62,627\n",
      "Trainable params: 62,627\n",
      "Non-trainable params: 0\n",
      "_________________________________________________________________\n"
     ]
    }
   ],
   "source": [
    "model_dynamic = Sequential()\n",
    "model_dynamic.add(Conv1D(filters=64, kernel_size=7, activation='relu',input_shape=(128,9)))\n",
    "model_dynamic.add(Conv1D(filters=32, kernel_size=5, activation='relu'))\n",
    "model_dynamic.add(Dropout(0.6))\n",
    "model_dynamic.add(MaxPooling1D(pool_size=5))\n",
    "model_dynamic.add(Flatten())\n",
    "model_dynamic.add(Dense(64, activation='relu'))\n",
    "model_dynamic.add(Dense(16, activation='relu'))\n",
    "model_dynamic.add(Dense(3, activation='softmax'))\n",
    "model_dynamic.summary()"
   ]
  },
  {
   "cell_type": "code",
   "execution_count": 0,
   "metadata": {
    "colab": {},
    "colab_type": "code",
    "id": "_rrwZqVZwllD"
   },
   "outputs": [],
   "source": [
    "# Compiling the model\n",
    "model_dynamic.compile(loss='categorical_crossentropy',\n",
    "              optimizer='adam',\n",
    "              metrics=['accuracy'])"
   ]
  },
  {
   "cell_type": "code",
   "execution_count": 157,
   "metadata": {
    "colab": {
     "base_uri": "https://localhost:8080/",
     "height": 1000
    },
    "colab_type": "code",
    "id": "t-QpNvjewo5J",
    "outputId": "bd3a5cc9-1409-4906-e3a2-0d10ba934344"
   },
   "outputs": [
    {
     "name": "stdout",
     "output_type": "stream",
     "text": [
      "Train on 3285 samples, validate on 1387 samples\n",
      "Epoch 1/30\n",
      "3285/3285 [==============================] - 5s 2ms/step - loss: 0.7302 - acc: 0.6432 - val_loss: 0.5057 - val_acc: 0.8637\n",
      "Epoch 2/30\n",
      "3285/3285 [==============================] - 3s 841us/step - loss: 0.1185 - acc: 0.9629 - val_loss: 0.2699 - val_acc: 0.9193\n",
      "Epoch 3/30\n",
      "3285/3285 [==============================] - 3s 839us/step - loss: 0.0279 - acc: 0.9924 - val_loss: 0.1931 - val_acc: 0.9308\n",
      "Epoch 4/30\n",
      "3285/3285 [==============================] - 3s 856us/step - loss: 0.0172 - acc: 0.9942 - val_loss: 0.1125 - val_acc: 0.9668\n",
      "Epoch 5/30\n",
      "3285/3285 [==============================] - 3s 830us/step - loss: 0.0070 - acc: 0.9985 - val_loss: 0.1249 - val_acc: 0.9596\n",
      "Epoch 6/30\n",
      "3285/3285 [==============================] - 3s 829us/step - loss: 0.0034 - acc: 0.9991 - val_loss: 0.1503 - val_acc: 0.9452\n",
      "Epoch 7/30\n",
      "3285/3285 [==============================] - 3s 855us/step - loss: 6.7462e-04 - acc: 1.0000 - val_loss: 0.0897 - val_acc: 0.9726\n",
      "Epoch 8/30\n",
      "3285/3285 [==============================] - 3s 869us/step - loss: 4.1259e-04 - acc: 1.0000 - val_loss: 0.0862 - val_acc: 0.9704\n",
      "Epoch 9/30\n",
      "3285/3285 [==============================] - 3s 840us/step - loss: 6.8230e-04 - acc: 1.0000 - val_loss: 0.0970 - val_acc: 0.9712\n",
      "Epoch 10/30\n",
      "3285/3285 [==============================] - 3s 822us/step - loss: 3.3853e-04 - acc: 1.0000 - val_loss: 0.0832 - val_acc: 0.9748\n",
      "Epoch 11/30\n",
      "3285/3285 [==============================] - 3s 850us/step - loss: 0.0026 - acc: 0.9988 - val_loss: 0.0836 - val_acc: 0.9683\n",
      "Epoch 12/30\n",
      "3285/3285 [==============================] - 3s 845us/step - loss: 0.0142 - acc: 0.9957 - val_loss: 0.1160 - val_acc: 0.9733\n",
      "Epoch 13/30\n",
      "3285/3285 [==============================] - 3s 839us/step - loss: 0.0370 - acc: 0.9884 - val_loss: 0.0807 - val_acc: 0.9769\n",
      "Epoch 14/30\n",
      "3285/3285 [==============================] - 3s 831us/step - loss: 0.0020 - acc: 0.9991 - val_loss: 0.0661 - val_acc: 0.9834\n",
      "Epoch 15/30\n",
      "3285/3285 [==============================] - 3s 797us/step - loss: 6.2116e-04 - acc: 1.0000 - val_loss: 0.0653 - val_acc: 0.9834\n",
      "Epoch 16/30\n",
      "3285/3285 [==============================] - 3s 809us/step - loss: 2.1674e-04 - acc: 1.0000 - val_loss: 0.0675 - val_acc: 0.9776\n",
      "Epoch 17/30\n",
      "3285/3285 [==============================] - 3s 818us/step - loss: 2.7150e-04 - acc: 1.0000 - val_loss: 0.0818 - val_acc: 0.9733\n",
      "Epoch 18/30\n",
      "3285/3285 [==============================] - 3s 821us/step - loss: 1.4909e-04 - acc: 1.0000 - val_loss: 0.0737 - val_acc: 0.9740\n",
      "Epoch 19/30\n",
      "3285/3285 [==============================] - 3s 837us/step - loss: 9.8711e-05 - acc: 1.0000 - val_loss: 0.0643 - val_acc: 0.9769\n",
      "Epoch 20/30\n",
      "3285/3285 [==============================] - 3s 830us/step - loss: 7.2678e-05 - acc: 1.0000 - val_loss: 0.0611 - val_acc: 0.9805\n",
      "Epoch 21/30\n",
      "3285/3285 [==============================] - 3s 821us/step - loss: 1.3984e-04 - acc: 1.0000 - val_loss: 0.0600 - val_acc: 0.9820\n",
      "Epoch 22/30\n",
      "3285/3285 [==============================] - 3s 828us/step - loss: 5.8320e-05 - acc: 1.0000 - val_loss: 0.0599 - val_acc: 0.9798\n",
      "Epoch 23/30\n",
      "3285/3285 [==============================] - 3s 828us/step - loss: 4.9516e-05 - acc: 1.0000 - val_loss: 0.0572 - val_acc: 0.9834\n",
      "Epoch 24/30\n",
      "3285/3285 [==============================] - 3s 826us/step - loss: 3.1530e-05 - acc: 1.0000 - val_loss: 0.0573 - val_acc: 0.9841\n",
      "Epoch 25/30\n",
      "3285/3285 [==============================] - 3s 817us/step - loss: 5.1674e-05 - acc: 1.0000 - val_loss: 0.0575 - val_acc: 0.9841\n",
      "Epoch 26/30\n",
      "3285/3285 [==============================] - 3s 818us/step - loss: 3.9991e-05 - acc: 1.0000 - val_loss: 0.0610 - val_acc: 0.9813\n",
      "Epoch 27/30\n",
      "3285/3285 [==============================] - 3s 844us/step - loss: 3.1905e-05 - acc: 1.0000 - val_loss: 0.0602 - val_acc: 0.9813\n",
      "Epoch 28/30\n",
      "3285/3285 [==============================] - 3s 829us/step - loss: 2.3503e-05 - acc: 1.0000 - val_loss: 0.0592 - val_acc: 0.9834\n",
      "Epoch 29/30\n",
      "3285/3285 [==============================] - 3s 850us/step - loss: 2.0619e-05 - acc: 1.0000 - val_loss: 0.0588 - val_acc: 0.9834\n",
      "Epoch 30/30\n",
      "3285/3285 [==============================] - 3s 852us/step - loss: 1.3111e-05 - acc: 1.0000 - val_loss: 0.0571 - val_acc: 0.9841\n"
     ]
    },
    {
     "data": {
      "text/plain": [
       "<keras.callbacks.History at 0x7fcda15e4080>"
      ]
     },
     "execution_count": 157,
     "metadata": {
      "tags": []
     },
     "output_type": "execute_result"
    }
   ],
   "source": [
    "# Training the model\n",
    "model_dynamic.fit(X_train_dynamic,\n",
    "          Y_train_dynamic,\n",
    "          batch_size=32,\n",
    "          validation_data=(X_test_dynamic, Y_test_dynamic),\n",
    "          epochs=30)"
   ]
  },
  {
   "cell_type": "code",
   "execution_count": 158,
   "metadata": {
    "colab": {
     "base_uri": "https://localhost:8080/",
     "height": 90
    },
    "colab_type": "code",
    "id": "4nV0TKRpFcp-",
    "outputId": "6f7e5e16-1cee-4f3d-e7f7-550264a11388"
   },
   "outputs": [
    {
     "name": "stdout",
     "output_type": "stream",
     "text": [
      "\n",
      "# Evaluate on test data\n",
      "1387/1387 [==============================] - 0s 241us/step\n",
      "test loss, test acc: [0.057113338884291195, 0.9841384282624369]\n"
     ]
    }
   ],
   "source": [
    "print('\\n# Evaluate on test data')\n",
    "results = model_dynamic.evaluate(X_test_dynamic, Y_test_dynamic, batch_size=32)\n",
    "print('test loss, test acc:', results)"
   ]
  },
  {
   "cell_type": "markdown",
   "metadata": {
    "colab_type": "text",
    "id": "RJNkwkqfBUeP"
   },
   "source": [
    "- Pipeline for Final predictions"
   ]
  },
  {
   "cell_type": "code",
   "execution_count": 0,
   "metadata": {
    "colab": {},
    "colab_type": "code",
    "id": "I2bWJNQiHRt5"
   },
   "outputs": [],
   "source": [
    "def predict(X):\n",
    "  # classify if its static or dynamic activity\n",
    "  model_1 = model_.predict(X)\n",
    "  pred = np.argmax(model_1, axis = 1)\n",
    "\n",
    "  X_static = X[pred==1]\n",
    "  X_dynamic = X[pred==0]\n",
    "\n",
    "  # classify if its sitting, laying, standing\n",
    "  model_2 = model_static.predict(X_static)\n",
    "  pred_static = np.argmax(model_2, axis=1)\n",
    "\n",
    "  # add 4 because the classified labels are 0,1,2 and their original labels are 4,5,6\n",
    "  pred_static = pred_static + 4\n",
    "\n",
    "  # classify if its walking, walking_upstairs, walking_downstairs\n",
    "  model_3 = model_dynamic.predict(X_dynamic)\n",
    "  pred_dynamic = np.argmax(model_3, axis=1)\n",
    "\n",
    "  # add 1 because the classified labels are 0,1,2 and their original labels are 1,2,3\n",
    "  pred_dynamic = pred_dynamic + 1\n",
    "\n",
    "  i,j = 0,0 \n",
    "  final_predictions = []\n",
    "  for x in pred:\n",
    "      if x == 1:\n",
    "          final_predictions.append(pred_static[i])\n",
    "          i = i + 1\n",
    "      else:\n",
    "          final_predictions.append(pred_dynamic[j])\n",
    "          j = j + 1 \n",
    "  return final_predictions"
   ]
  },
  {
   "cell_type": "code",
   "execution_count": 0,
   "metadata": {
    "colab": {},
    "colab_type": "code",
    "id": "OT0MGs_i1sQP"
   },
   "outputs": [],
   "source": [
    "pred_tr = predict(X_train)\n",
    "pred_te = predict(X_test)"
   ]
  },
  {
   "cell_type": "code",
   "execution_count": 0,
   "metadata": {
    "colab": {},
    "colab_type": "code",
    "id": "nrc-r8RS8E0d"
   },
   "outputs": [],
   "source": [
    "# convert the one hot encoded array to a value\n",
    "y_tr = np.argmax(Y_train, axis = 1)\n",
    "y_tr = y_tr + 1\n",
    "\n",
    "y_te = np.argmax(Y_test, axis = 1)\n",
    "y_te = y_te + 1"
   ]
  },
  {
   "cell_type": "code",
   "execution_count": 162,
   "metadata": {
    "colab": {
     "base_uri": "https://localhost:8080/",
     "height": 54
    },
    "colab_type": "code",
    "id": "MU_SzbeZ7H5I",
    "outputId": "e0cecf9d-f944-4612-d944-dcb711d08348"
   },
   "outputs": [
    {
     "name": "stdout",
     "output_type": "stream",
     "text": [
      "Accuracy of train data 0.9836779107725789\n",
      "Accuracy of test data 0.9433322022395657\n"
     ]
    }
   ],
   "source": [
    "from sklearn.metrics import accuracy_score\n",
    "print('Accuracy of train data', accuracy_score(y_tr, pred_tr))\n",
    "print('Accuracy of test data', accuracy_score(y_te, pred_te))"
   ]
  },
  {
   "cell_type": "code",
   "execution_count": 167,
   "metadata": {
    "colab": {
     "base_uri": "https://localhost:8080/",
     "height": 576
    },
    "colab_type": "code",
    "id": "NBW3h6KmKf4B",
    "outputId": "bc0699d8-7c5b-4bcc-8aa7-bd2e86bda2e7"
   },
   "outputs": [
    {
     "data": {
      "image/png": "[encoded data removed]",
      "text/plain": [
       "<Figure size 576x576 with 2 Axes>"
      ]
     },
     "metadata": {
      "tags": []
     },
     "output_type": "display_data"
    }
   ],
   "source": [
    "from sklearn.metrics import confusion_matrix\n",
    "cm = confusion_matrix(y_te, pred_te)\n",
    "\n",
    "plt.figure(figsize=(8,8))\n",
    "classes = ['WALKING','WALKING_UPSTAIRS','WALKING_DOWNSTAIRS','SITTING','STANDING','LAYING']\n",
    "plot_confusion_matrix(cm, classes=classes)\n",
    "plt.show()"
   ]
  },
  {
   "cell_type": "markdown",
   "metadata": {
    "colab_type": "text",
    "id": "D5N9Gl9-N2NR"
   },
   "source": [
    "<h2>Conclusions</h2>"
   ]
  },
  {
   "cell_type": "code",
   "execution_count": 168,
   "metadata": {
    "colab": {
     "base_uri": "https://localhost:8080/",
     "height": 146
    },
    "colab_type": "code",
    "id": "i9DvgIGHqEZT",
    "outputId": "e188f9c0-aa9d-40d1-ac6e-5500ad23bbab"
   },
   "outputs": [
    {
     "name": "stdout",
     "output_type": "stream",
     "text": [
      "+------------------------+----------+\n",
      "|        Approach        | Accuracy |\n",
      "+------------------------+----------+\n",
      "|      1 LSTM layer      |  91.82   |\n",
      "|      2 LSTM Layer      |  91.75   |\n",
      "| Divide and Conquer CNN |  94.33   |\n",
      "+------------------------+----------+\n"
     ]
    }
   ],
   "source": [
    "from prettytable import PrettyTable\n",
    "    \n",
    "x = PrettyTable()\n",
    "\n",
    "x.field_names = [\"Approach\", \"Accuracy\"]\n",
    "\n",
    "x.add_row([\"1 LSTM layer\", 91.82])\n",
    "x.add_row([\"2 LSTM Layer\", 91.75])\n",
    "x.add_row([\"Divide and Conquer CNN\", 94.33])\n",
    "\n",
    "print(x)"
   ]
  },
  {
   "cell_type": "code",
   "execution_count": 0,
   "metadata": {
    "colab": {},
    "colab_type": "code",
    "id": "pIzw8UKhO9Rv"
   },
   "outputs": [],
   "source": []
  }
 ],
 "metadata": {
  "colab": {
   "collapsed_sections": [],
   "name": "HAR_LSTM.ipynb",
   "provenance": []
  },
  "kernelspec": {
   "display_name": "Python 3",
   "language": "python",
   "name": "python3"
  },
  "language_info": {
   "codemirror_mode": {
    "name": "ipython",
    "version": 3
   },
   "file_extension": ".py",
   "mimetype": "text/x-python",
   "name": "python",
   "nbconvert_exporter": "python",
   "pygments_lexer": "ipython3",
   "version": "3.6.8"
  }
 },
 "nbformat": 4,
 "nbformat_minor": 1
}
