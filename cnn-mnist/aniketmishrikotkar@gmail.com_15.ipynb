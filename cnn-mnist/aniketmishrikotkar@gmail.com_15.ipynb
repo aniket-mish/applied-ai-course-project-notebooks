{
 "cells": [
  {
   "cell_type": "markdown",
   "metadata": {
    "colab_type": "text",
    "id": "MKoVywmGX8o4"
   },
   "source": [
    "<h1>CNN on MNIST with 3 x 3 Kernel</h1>"
   ]
  },
  {
   "cell_type": "code",
   "execution_count": 3,
   "metadata": {
    "colab": {
     "base_uri": "https://localhost:8080/",
     "height": 568
    },
    "colab_type": "code",
    "id": "H9EU0e8yzFOm",
    "outputId": "bd36574e-409a-4d29-c714-9939179238f2"
   },
   "outputs": [
    {
     "name": "stdout",
     "output_type": "stream",
     "text": [
      "x_train shape: (60000, 28, 28, 1)\n",
      "60000 train samples\n",
      "10000 test samples\n",
      "Train on 60000 samples, validate on 10000 samples\n",
      "Epoch 1/12\n",
      "60000/60000 [==============================] - 109s 2ms/step - loss: 0.2755 - acc: 0.9147 - val_loss: 0.0479 - val_acc: 0.9841\n",
      "Epoch 2/12\n",
      "60000/60000 [==============================] - 108s 2ms/step - loss: 0.0845 - acc: 0.9749 - val_loss: 0.0327 - val_acc: 0.9897\n",
      "Epoch 3/12\n",
      "60000/60000 [==============================] - 108s 2ms/step - loss: 0.0600 - acc: 0.9819 - val_loss: 0.0299 - val_acc: 0.9901\n",
      "Epoch 4/12\n",
      "60000/60000 [==============================] - 109s 2ms/step - loss: 0.0478 - acc: 0.9856 - val_loss: 0.0260 - val_acc: 0.9918\n",
      "Epoch 5/12\n",
      "60000/60000 [==============================] - 109s 2ms/step - loss: 0.0418 - acc: 0.9879 - val_loss: 0.0258 - val_acc: 0.9915\n",
      "Epoch 6/12\n",
      "60000/60000 [==============================] - 108s 2ms/step - loss: 0.0345 - acc: 0.9895 - val_loss: 0.0265 - val_acc: 0.9920\n",
      "Epoch 7/12\n",
      "60000/60000 [==============================] - 108s 2ms/step - loss: 0.0327 - acc: 0.9896 - val_loss: 0.0201 - val_acc: 0.9937\n",
      "Epoch 8/12\n",
      "60000/60000 [==============================] - 107s 2ms/step - loss: 0.0280 - acc: 0.9913 - val_loss: 0.0232 - val_acc: 0.9926\n",
      "Epoch 9/12\n",
      "60000/60000 [==============================] - 107s 2ms/step - loss: 0.0257 - acc: 0.9919 - val_loss: 0.0204 - val_acc: 0.9947\n",
      "Epoch 10/12\n",
      "60000/60000 [==============================] - 107s 2ms/step - loss: 0.0211 - acc: 0.9935 - val_loss: 0.0217 - val_acc: 0.9941\n",
      "Epoch 11/12\n",
      "60000/60000 [==============================] - 107s 2ms/step - loss: 0.0211 - acc: 0.9931 - val_loss: 0.0209 - val_acc: 0.9941\n",
      "Epoch 12/12\n",
      "60000/60000 [==============================] - 108s 2ms/step - loss: 0.0193 - acc: 0.9938 - val_loss: 0.0236 - val_acc: 0.9935\n",
      "Test loss: 0.023566685549190513\n",
      "Test accuracy: 0.9935\n"
     ]
    }
   ],
   "source": [
    "# Credits: https://github.com/keras-team/keras/blob/master/examples/mnist_cnn.py\n",
    "\n",
    "\n",
    "from __future__ import print_function\n",
    "from tensorflow import keras\n",
    "from keras.datasets import mnist\n",
    "from keras.models import Sequential\n",
    "from keras.layers import Dense, Dropout, Flatten\n",
    "from keras.layers import Conv2D, MaxPooling2D\n",
    "from keras import backend as K\n",
    "\n",
    "batch_size = 128\n",
    "num_classes = 10\n",
    "epochs = 12\n",
    "\n",
    "# input image dimensions\n",
    "img_rows, img_cols = 28, 28\n",
    "\n",
    "# the data, split between train and test sets\n",
    "(x_train, y_train), (x_test, y_test) = mnist.load_data()\n",
    "\n",
    "if K.image_data_format() == 'channels_first':\n",
    "    x_train = x_train.reshape(x_train.shape[0], 1, img_rows, img_cols)\n",
    "    x_test = x_test.reshape(x_test.shape[0], 1, img_rows, img_cols)\n",
    "    input_shape = (1, img_rows, img_cols)\n",
    "else:\n",
    "    x_train = x_train.reshape(x_train.shape[0], img_rows, img_cols, 1)\n",
    "    x_test = x_test.reshape(x_test.shape[0], img_rows, img_cols, 1)\n",
    "    input_shape = (img_rows, img_cols, 1)\n",
    "\n",
    "x_train = x_train.astype('float32')\n",
    "x_test = x_test.astype('float32')\n",
    "x_train /= 255\n",
    "x_test /= 255\n",
    "print('x_train shape:', x_train.shape)\n",
    "print(x_train.shape[0], 'train samples')\n",
    "print(x_test.shape[0], 'test samples')\n",
    "\n",
    "# convert class vectors to binary class matrices\n",
    "y_train = keras.utils.to_categorical(y_train, num_classes)\n",
    "y_test = keras.utils.to_categorical(y_test, num_classes)\n",
    "\n",
    "model = Sequential()\n",
    "model.add(Conv2D(32, kernel_size=(3, 3),\n",
    "                 activation='relu',\n",
    "                 input_shape=input_shape))\n",
    "\n",
    "model.add(Conv2D(32, (3, 3), activation='relu'))\n",
    "model.add(MaxPooling2D(pool_size=(2, 2)))\n",
    "\n",
    "model.add(Conv2D(64, (3, 3), activation='relu'))\n",
    "model.add(MaxPooling2D(pool_size=(2, 2)))\n",
    "\n",
    "model.add(Flatten())\n",
    "model.add(Dense(128, activation='relu'))\n",
    "model.add(Dropout(0.5))\n",
    "model.add(Dense(num_classes, activation='softmax'))\n",
    "\n",
    "model.compile(loss=keras.losses.categorical_crossentropy,\n",
    "              optimizer='Adam',\n",
    "              metrics=['accuracy'])\n",
    "\n",
    "model.fit(x_train, y_train,\n",
    "          batch_size=batch_size,\n",
    "          epochs=epochs,\n",
    "          verbose=1,\n",
    "          validation_data=(x_test, y_test))\n",
    "score = model.evaluate(x_test, y_test, verbose=0)\n",
    "print('Test loss:', score[0])\n",
    "print('Test accuracy:', score[1])"
   ]
  },
  {
   "cell_type": "markdown",
   "metadata": {
    "colab_type": "text",
    "id": "wAZSLLb1X-Bd"
   },
   "source": [
    "<h1>CNN on MNIST with 7 x 7 Kernel</h1>"
   ]
  },
  {
   "cell_type": "code",
   "execution_count": 0,
   "metadata": {
    "colab": {
     "base_uri": "https://localhost:8080/",
     "height": 476
    },
    "colab_type": "code",
    "id": "_w45XPNb2bKV",
    "outputId": "81e596e1-70d0-4366-b139-a56f342c9e5e"
   },
   "outputs": [
    {
     "name": "stdout",
     "output_type": "stream",
     "text": [
      "Train on 60000 samples, validate on 10000 samples\n",
      "Epoch 1/12\n",
      "60000/60000 [==============================] - 199s 3ms/step - loss: 0.8818 - acc: 0.6985 - val_loss: 0.1231 - val_acc: 0.9666\n",
      "Epoch 2/12\n",
      "60000/60000 [==============================] - 197s 3ms/step - loss: 0.2655 - acc: 0.9282 - val_loss: 0.0683 - val_acc: 0.9841\n",
      "Epoch 3/12\n",
      "60000/60000 [==============================] - 199s 3ms/step - loss: 0.1840 - acc: 0.9520 - val_loss: 0.0658 - val_acc: 0.9890\n",
      "Epoch 4/12\n",
      "60000/60000 [==============================] - 201s 3ms/step - loss: 0.1514 - acc: 0.9605 - val_loss: 0.0607 - val_acc: 0.9877\n",
      "Epoch 5/12\n",
      "60000/60000 [==============================] - 199s 3ms/step - loss: 0.1321 - acc: 0.9654 - val_loss: 0.0417 - val_acc: 0.9896\n",
      "Epoch 6/12\n",
      "60000/60000 [==============================] - 198s 3ms/step - loss: 0.1214 - acc: 0.9680 - val_loss: 0.0579 - val_acc: 0.9905\n",
      "Epoch 7/12\n",
      "60000/60000 [==============================] - 197s 3ms/step - loss: 0.1102 - acc: 0.9710 - val_loss: 0.0654 - val_acc: 0.9909\n",
      "Epoch 8/12\n",
      "60000/60000 [==============================] - 197s 3ms/step - loss: 0.0988 - acc: 0.9734 - val_loss: 0.0512 - val_acc: 0.9907\n",
      "Epoch 9/12\n",
      "60000/60000 [==============================] - 199s 3ms/step - loss: 0.0926 - acc: 0.9748 - val_loss: 0.0471 - val_acc: 0.9913\n",
      "Epoch 10/12\n",
      "60000/60000 [==============================] - 198s 3ms/step - loss: 0.0862 - acc: 0.9774 - val_loss: 0.0498 - val_acc: 0.9920\n",
      "Epoch 11/12\n",
      "60000/60000 [==============================] - 198s 3ms/step - loss: 0.0790 - acc: 0.9788 - val_loss: 0.0484 - val_acc: 0.9930\n",
      "Epoch 12/12\n",
      "60000/60000 [==============================] - 197s 3ms/step - loss: 0.0769 - acc: 0.9791 - val_loss: 0.0904 - val_acc: 0.9895\n",
      "Test loss: 0.09036073295782004\n",
      "Test accuracy: 0.9895\n"
     ]
    }
   ],
   "source": [
    "\n",
    "model = Sequential()\n",
    "model.add(Conv2D(32, kernel_size=(7, 7),\n",
    "                 activation='relu',\n",
    "                 input_shape=input_shape))\n",
    "\n",
    "model.add(Conv2D(32, (7, 7), activation='relu'))\n",
    "model.add(MaxPooling2D(pool_size=(2, 2)))\n",
    "\n",
    "model.add(Conv2D(64, (7, 7), activation='relu'))\n",
    "model.add(MaxPooling2D(pool_size=(2, 2)))\n",
    "\n",
    "model.add(Flatten())\n",
    "model.add(Dense(128, activation='relu'))\n",
    "model.add(Dropout(0.5))\n",
    "model.add(Dense(64, activation='relu'))\n",
    "model.add(Dropout(0.5))\n",
    "model.add(Dense(32, activation='relu'))\n",
    "model.add(Dropout(0.5))\n",
    "model.add(Dense(num_classes, activation='softmax'))\n",
    "\n",
    "model.compile(loss=keras.losses.categorical_crossentropy,\n",
    "              optimizer='Adam',\n",
    "              metrics=['accuracy'])\n",
    "\n",
    "model.fit(x_train, y_train,\n",
    "          batch_size=batch_size,\n",
    "          epochs=epochs,\n",
    "          verbose=1,\n",
    "          validation_data=(x_test, y_test))\n",
    "score = model.evaluate(x_test, y_test, verbose=0)\n",
    "print('Test loss:', score[0])\n",
    "print('Test accuracy:', score[1])"
   ]
  },
  {
   "cell_type": "markdown",
   "metadata": {
    "colab_type": "text",
    "id": "vPG9cEKXX_Qf"
   },
   "source": [
    "<h1>CNN on MNIST with 3 x 3 Kernel and 4 Conv2D Layers</h1>"
   ]
  },
  {
   "cell_type": "code",
   "execution_count": 0,
   "metadata": {
    "colab": {
     "base_uri": "https://localhost:8080/",
     "height": 476
    },
    "colab_type": "code",
    "id": "s4kkrt95-Yr0",
    "outputId": "aba31f90-5cd3-4201-9e5c-e1b873db685e"
   },
   "outputs": [
    {
     "name": "stdout",
     "output_type": "stream",
     "text": [
      "Train on 60000 samples, validate on 10000 samples\n",
      "Epoch 1/12\n",
      "60000/60000 [==============================] - 112s 2ms/step - loss: 0.6400 - acc: 0.7917 - val_loss: 0.1131 - val_acc: 0.9656\n",
      "Epoch 2/12\n",
      "60000/60000 [==============================] - 111s 2ms/step - loss: 0.1636 - acc: 0.9583 - val_loss: 0.0665 - val_acc: 0.9820\n",
      "Epoch 3/12\n",
      "60000/60000 [==============================] - 113s 2ms/step - loss: 0.1135 - acc: 0.9721 - val_loss: 0.0561 - val_acc: 0.9851\n",
      "Epoch 4/12\n",
      "60000/60000 [==============================] - 112s 2ms/step - loss: 0.0938 - acc: 0.9777 - val_loss: 0.0485 - val_acc: 0.9875\n",
      "Epoch 5/12\n",
      "60000/60000 [==============================] - 111s 2ms/step - loss: 0.0702 - acc: 0.9825 - val_loss: 0.0534 - val_acc: 0.9885\n",
      "Epoch 6/12\n",
      "60000/60000 [==============================] - 111s 2ms/step - loss: 0.0645 - acc: 0.9846 - val_loss: 0.0419 - val_acc: 0.9898\n",
      "Epoch 7/12\n",
      "60000/60000 [==============================] - 111s 2ms/step - loss: 0.0572 - acc: 0.9865 - val_loss: 0.0449 - val_acc: 0.9897\n",
      "Epoch 8/12\n",
      "60000/60000 [==============================] - 111s 2ms/step - loss: 0.0499 - acc: 0.9879 - val_loss: 0.0412 - val_acc: 0.9908\n",
      "Epoch 9/12\n",
      "60000/60000 [==============================] - 111s 2ms/step - loss: 0.0435 - acc: 0.9890 - val_loss: 0.0418 - val_acc: 0.9908\n",
      "Epoch 10/12\n",
      "60000/60000 [==============================] - 112s 2ms/step - loss: 0.0399 - acc: 0.9903 - val_loss: 0.0425 - val_acc: 0.9897\n",
      "Epoch 11/12\n",
      "60000/60000 [==============================] - 112s 2ms/step - loss: 0.0358 - acc: 0.9912 - val_loss: 0.0516 - val_acc: 0.9887\n",
      "Epoch 12/12\n",
      "60000/60000 [==============================] - 114s 2ms/step - loss: 0.0338 - acc: 0.9913 - val_loss: 0.0437 - val_acc: 0.9917\n",
      "Test loss: 0.04371710174866238\n",
      "Test accuracy: 0.9917\n"
     ]
    }
   ],
   "source": [
    "\n",
    "model = Sequential()\n",
    "model.add(Conv2D(32, kernel_size=(3, 3),\n",
    "                 activation='relu',\n",
    "                 input_shape=input_shape))\n",
    "\n",
    "model.add(Conv2D(32, (3, 3), activation='relu'))\n",
    "model.add(MaxPooling2D(pool_size=(2, 2)))\n",
    "\n",
    "model.add(Conv2D(64, (3, 3), activation='relu'))\n",
    "model.add(MaxPooling2D(pool_size=(2, 2)))\n",
    "\n",
    "model.add(Conv2D(64, (3, 3), activation='relu'))\n",
    "model.add(MaxPooling2D(pool_size=(2, 2)))\n",
    "\n",
    "model.add(Flatten())\n",
    "model.add(Dense(128, activation='relu'))\n",
    "model.add(Dropout(0.5))\n",
    "model.add(Dense(64, activation='relu'))\n",
    "model.add(Dropout(0.5))\n",
    "model.add(Dense(num_classes, activation='softmax'))\n",
    "\n",
    "model.compile(loss=keras.losses.categorical_crossentropy,\n",
    "              optimizer='Adam',\n",
    "              metrics=['accuracy'])\n",
    "\n",
    "model.fit(x_train, y_train,\n",
    "          batch_size=batch_size,\n",
    "          epochs=epochs,\n",
    "          verbose=1,\n",
    "          validation_data=(x_test, y_test))\n",
    "score = model.evaluate(x_test, y_test, verbose=0)\n",
    "print('Test loss:', score[0])\n",
    "print('Test accuracy:', score[1])"
   ]
  },
  {
   "cell_type": "markdown",
   "metadata": {
    "colab_type": "text",
    "id": "ys0iqd69jONx"
   },
   "source": [
    "<h2>Conslusion/Observations</h2>"
   ]
  },
  {
   "cell_type": "markdown",
   "metadata": {
    "colab_type": "text",
    "id": "6f2QYudJj16F"
   },
   "source": [
    "- Having less Conv2D and Dense layers give better performance\n",
    "- 3 x 3 Kernel gives better accracy than 7 x 7"
   ]
  }
 ],
 "metadata": {
  "colab": {
   "collapsed_sections": [],
   "name": "Copy of CNN_MNIST.ipynb",
   "provenance": []
  },
  "kernelspec": {
   "display_name": "Python 3",
   "language": "python",
   "name": "python3"
  },
  "language_info": {
   "codemirror_mode": {
    "name": "ipython",
    "version": 3
   },
   "file_extension": ".py",
   "mimetype": "text/x-python",
   "name": "python",
   "nbconvert_exporter": "python",
   "pygments_lexer": "ipython3",
   "version": "3.6.8"
  }
 },
 "nbformat": 4,
 "nbformat_minor": 1
}
