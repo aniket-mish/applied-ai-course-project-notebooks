{
 "cells": [
  {
   "cell_type": "markdown",
   "metadata": {},
   "source": [
    "# Write a function that inputs a number and prints the multiplication table of that number"
   ]
  },
  {
   "cell_type": "code",
   "execution_count": 3,
   "metadata": {},
   "outputs": [],
   "source": [
    "def multiplication_table(num):\n",
    "    \"\"\"This function will print the multiplication table of the given number\"\"\"\n",
    "\n",
    "    for i in range(1,11):\n",
    "        new_num = num * i\n",
    "        print(\"{0}*{1} = {2}\".format(num, i, new_num))\n",
    "        "
   ]
  },
  {
   "cell_type": "code",
   "execution_count": 4,
   "metadata": {},
   "outputs": [
    {
     "name": "stdout",
     "output_type": "stream",
     "text": [
      "Enter the number: 9\n",
      "9*1 = 9\n",
      "9*2 = 18\n",
      "9*3 = 27\n",
      "9*4 = 36\n",
      "9*5 = 45\n",
      "9*6 = 54\n",
      "9*7 = 63\n",
      "9*8 = 72\n",
      "9*9 = 81\n",
      "9*10 = 90\n"
     ]
    }
   ],
   "source": [
    "#input the number\n",
    "num = int(input(\"Enter the number: \"))\n",
    "\n",
    "multiplication_table(num)"
   ]
  },
  {
   "cell_type": "markdown",
   "metadata": {},
   "source": [
    "# Write a program to print twin primes less than 1000. If two consecutive odd numbers are both prime then they are known as twin primes"
   ]
  },
  {
   "cell_type": "code",
   "execution_count": 9,
   "metadata": {},
   "outputs": [
    {
     "name": "stdout",
     "output_type": "stream",
     "text": [
      "(1,3)\n",
      "(3,5)\n",
      "(5,7)\n",
      "(11,13)\n",
      "(17,19)\n",
      "(29,31)\n",
      "(41,43)\n",
      "(59,61)\n",
      "(71,73)\n",
      "(101,103)\n",
      "(107,109)\n",
      "(137,139)\n",
      "(149,151)\n",
      "(179,181)\n",
      "(191,193)\n",
      "(197,199)\n",
      "(227,229)\n",
      "(239,241)\n",
      "(269,271)\n",
      "(281,283)\n",
      "(311,313)\n",
      "(347,349)\n",
      "(419,421)\n",
      "(431,433)\n",
      "(461,463)\n",
      "(521,523)\n",
      "(569,571)\n",
      "(599,601)\n",
      "(617,619)\n",
      "(641,643)\n",
      "(659,661)\n",
      "(809,811)\n",
      "(821,823)\n",
      "(827,829)\n",
      "(857,859)\n",
      "(881,883)\n"
     ]
    }
   ],
   "source": [
    "def prime(num):\n",
    "    \"\"\"\n",
    "    This is funtion to find if the entered number is prime number or not\n",
    "    \"\"\"\n",
    "    for i in range(2,num):\n",
    "        if (num % i == 0):\n",
    "            return False\n",
    "            break\n",
    "    else:\n",
    "        return True\n",
    "\n",
    "for num in range(1,1000):\n",
    "    if prime(num) and prime(num+2):\n",
    "        print(\"({0},{1})\".format(num,num+2))"
   ]
  },
  {
   "cell_type": "markdown",
   "metadata": {},
   "source": [
    "# Write a program to find out the prime factors of a number. Example: prime factors of 56 - 2, 2, 2, 7"
   ]
  },
  {
   "cell_type": "code",
   "execution_count": 5,
   "metadata": {},
   "outputs": [
    {
     "name": "stdout",
     "output_type": "stream",
     "text": [
      "Enter the number: 56\n",
      "2\n",
      "2\n",
      "2\n",
      "7\n",
      "no more prime factors\n"
     ]
    }
   ],
   "source": [
    "num = int(input(\"Enter the number: \"))\n",
    "\n",
    "for i in range(2,num):\n",
    "    while (num % i == 0):\n",
    "        print(i)\n",
    "        num = num / i\n",
    "else:\n",
    "    print(\"no more prime factors\")\n",
    "    "
   ]
  },
  {
   "cell_type": "markdown",
   "metadata": {},
   "source": [
    "# Write a program to implement these formulae of permutations and combinations"
   ]
  },
  {
   "cell_type": "code",
   "execution_count": 13,
   "metadata": {},
   "outputs": [
    {
     "name": "stdout",
     "output_type": "stream",
     "text": [
      "Enter the number of objects: 5\n",
      "Enter the number of objects taken at a time: 2\n",
      "Number of Permutations are 20.0\n",
      "Number of Combinations are 10.0\n"
     ]
    }
   ],
   "source": [
    "def factorial(num):\n",
    "    \"\"\"\n",
    "    This is a recursive function to find the factorial of a given number\n",
    "    \"\"\"\n",
    "    return 1 if num == 1 else (num * factorial(num-1))\n",
    "\n",
    "def permutation(n, r):\n",
    "    \"\"\"\n",
    "    This is a function to find the number of permutations of a given number\n",
    "    \"\"\"\n",
    "    num1 = factorial(n) / factorial(n-r)\n",
    "    print(\"Number of Permutations are {}\".format(num1))\n",
    "    \n",
    "def combination(n, r):\n",
    "    \"\"\"\n",
    "    This is a function to find the number of combinations of a given number\n",
    "    \"\"\"\n",
    "    num2 = factorial(n) / (factorial(r)*factorial(n-r))\n",
    "    print(\"Number of Combinations are {}\".format(num2))\n",
    "    \n",
    "    \n",
    "n = int(input(\"Enter the number of objects: \"))\n",
    "r = int(input(\"Enter the number of objects taken at a time: \"))\n",
    "\n",
    "permutation(n,r)\n",
    "combination(n,r)"
   ]
  },
  {
   "cell_type": "markdown",
   "metadata": {},
   "source": [
    "# Write a function that converts a decimal number to binary number"
   ]
  },
  {
   "cell_type": "code",
   "execution_count": 13,
   "metadata": {},
   "outputs": [
    {
     "name": "stdout",
     "output_type": "stream",
     "text": [
      "Enter the number: 12\n",
      "0b1100\n"
     ]
    }
   ],
   "source": [
    "dec_num = int(input(\"Enter the number: \"))\n",
    "\n",
    "#built-in function to convert decimal to binary.'0b' is the prefix for binary number\n",
    "bin_num = bin(dec_num)\n",
    "print(bin_num)"
   ]
  },
  {
   "cell_type": "markdown",
   "metadata": {},
   "source": [
    "## Write a function cubesum() that accepts an integer and returns the sum of the cubes of individual digits of that number. Use this function to make functions PrintArmstrong() and isArmstrong() to print Armstrong numbers and to find whether is an Armstrong number."
   ]
  },
  {
   "cell_type": "code",
   "execution_count": 63,
   "metadata": {},
   "outputs": [],
   "source": [
    "def cubesum(num):\n",
    "    add = 0\n",
    "    while num > 1:\n",
    "        r = int(num % 10)\n",
    "        num = num / 10\n",
    "        add = add + (r**3)\n",
    "    return add"
   ]
  },
  {
   "cell_type": "code",
   "execution_count": 66,
   "metadata": {},
   "outputs": [
    {
     "name": "stdout",
     "output_type": "stream",
     "text": [
      "Enter the number: 371\n",
      "153\n",
      "370\n",
      "371\n",
      "No Armstrong numbers found\n",
      "It's a Armstrong number\n"
     ]
    }
   ],
   "source": [
    "def printArmstrong(num):\n",
    "    for i in range(1,num+1):\n",
    "        if i == cubesum(i):\n",
    "            print(i)\n",
    "    else:\n",
    "        print(\"No Armstrong numbers found\")\n",
    "    \n",
    "def isArmstrong(num):\n",
    "    if num == cubesum(num):\n",
    "        print(\"It's a Armstrong number\")\n",
    "    else:\n",
    "        print(\"It's not a Armstrong number\")\n",
    "        \n",
    "num = int(input(\"Enter the number: \"))\n",
    "printArmstrong(num)\n",
    "isArmstrong(num)"
   ]
  },
  {
   "cell_type": "markdown",
   "metadata": {},
   "source": [
    "## Write a function prodDigits() that inputs a number and returns the product of digits of that number"
   ]
  },
  {
   "cell_type": "code",
   "execution_count": 2,
   "metadata": {},
   "outputs": [
    {
     "name": "stdout",
     "output_type": "stream",
     "text": [
      "Enter the number: 86\n"
     ]
    },
    {
     "data": {
      "text/plain": [
       "48"
      ]
     },
     "execution_count": 2,
     "metadata": {},
     "output_type": "execute_result"
    }
   ],
   "source": [
    "num = int(input(\"Enter the number: \"))\n",
    "\n",
    "def prodDigits(num):\n",
    "    prod = 1\n",
    "    while num > 1:\n",
    "        r = int(num % 10)\n",
    "        num = num / 10\n",
    "        prod = prod * r\n",
    "    return prod\n",
    "\n",
    "prodDigits(num)"
   ]
  },
  {
   "cell_type": "markdown",
   "metadata": {},
   "source": [
    "# Using the function prodDigits() of previous exercise write functions MDR() and MPersistence() that input a number and return its multiplicative digital root and multiplicative persistence respectively"
   ]
  },
  {
   "cell_type": "code",
   "execution_count": 3,
   "metadata": {},
   "outputs": [
    {
     "name": "stdout",
     "output_type": "stream",
     "text": [
      "Enter the number: 86\n"
     ]
    },
    {
     "data": {
      "text/plain": [
       "6"
      ]
     },
     "execution_count": 3,
     "metadata": {},
     "output_type": "execute_result"
    }
   ],
   "source": [
    "def MDR(num):\n",
    "    \"\"\"\n",
    "    This is the function to get multiplicative digital root\n",
    "    \"\"\"\n",
    "    prod = num\n",
    "    while (prod > 10):\n",
    "        prod = prodDigits(prod)\n",
    "    return prod   \n",
    "\n",
    "number = int(input(\"Enter the number: \"))\n",
    "MDR(number)\n",
    "\n"
   ]
  },
  {
   "cell_type": "code",
   "execution_count": 4,
   "metadata": {},
   "outputs": [
    {
     "name": "stdout",
     "output_type": "stream",
     "text": [
      "Enter the number: 86\n"
     ]
    },
    {
     "data": {
      "text/plain": [
       "3"
      ]
     },
     "execution_count": 4,
     "metadata": {},
     "output_type": "execute_result"
    }
   ],
   "source": [
    "def MPersistence(num):\n",
    "    \"\"\"\n",
    "    This is the function to get MPersistence\n",
    "    \"\"\"\n",
    "    prod = num\n",
    "    cnt = 1\n",
    "    while (prod > 10):\n",
    "        prod = prodDigits(prod)\n",
    "        cnt += 1\n",
    "    return (cnt-1)\n",
    "\n",
    "number = int(input(\"Enter the number: \"))\n",
    "MPersistence(number)"
   ]
  },
  {
   "cell_type": "markdown",
   "metadata": {},
   "source": [
    "# Write a function sumPdivisors() that finds the sum of proper divisors of a number"
   ]
  },
  {
   "cell_type": "code",
   "execution_count": 107,
   "metadata": {},
   "outputs": [
    {
     "name": "stdout",
     "output_type": "stream",
     "text": [
      "Enter the number: 28\n",
      "1\n",
      "2\n",
      "4\n",
      "7\n",
      "14\n",
      "Sum of proper divisors is 28\n"
     ]
    }
   ],
   "source": [
    "def sumPdivisors(num):\n",
    "    _sum = 0\n",
    "    for i in range(1,num):\n",
    "        if (num % i == 0):\n",
    "            print(i)\n",
    "            _sum = _sum + i\n",
    "    return _sum\n",
    "\n",
    "num = int(input(\"Enter the number: \"))\n",
    "\n",
    "print(\"Sum of proper divisors is {}\".format(sumPdivisors(num)))"
   ]
  },
  {
   "cell_type": "markdown",
   "metadata": {},
   "source": [
    "# Write a program to print all the perfect numbers in a given range"
   ]
  },
  {
   "cell_type": "code",
   "execution_count": 110,
   "metadata": {},
   "outputs": [
    {
     "name": "stdout",
     "output_type": "stream",
     "text": [
      "Enter the first number: 1\n",
      "Enter the second number: 29\n",
      "6\n",
      "28\n"
     ]
    }
   ],
   "source": [
    "num1 = int(input(\"Enter the first number: \"))\n",
    "num2 = int(input(\"Enter the second number: \"))\n",
    "\n",
    "def sumProperdivisors(num):\n",
    "    _sum = 0\n",
    "    for i in range(1,num):\n",
    "        if (num % i == 0):\n",
    "            _sum = _sum + i\n",
    "    return _sum\n",
    "\n",
    "def perfectNumbers(lower,upper):\n",
    "    for i in range(lower,upper+1):\n",
    "        if i == sumProperdivisors(i):\n",
    "            print(i)\n",
    "\n",
    "perfectNumbers(num1,num2)"
   ]
  },
  {
   "cell_type": "markdown",
   "metadata": {},
   "source": [
    "# Write a function to print pairs of amicable numbers in a range"
   ]
  },
  {
   "cell_type": "code",
   "execution_count": 112,
   "metadata": {},
   "outputs": [
    {
     "name": "stdout",
     "output_type": "stream",
     "text": [
      "Enter the first number: 200\n",
      "Enter the second number: 300\n",
      "Amicable Numbers: (220,284)\n",
      "Amicable Numbers: (284,220)\n"
     ]
    }
   ],
   "source": [
    "num1 = int(input(\"Enter the first number: \"))\n",
    "num2 = int(input(\"Enter the second number: \"))\n",
    "\n",
    "def amicableNumber(num1,num2):\n",
    "    for i in range(num1,num2+1):\n",
    "        for j in range(num1+1,num2):\n",
    "            if sumProperdivisors(i) == j and sumProperdivisors(j) == i:\n",
    "                print(\"Amicable Numbers: ({},{})\".format(i,j))\n",
    "                \n",
    "amicableNumber(num1,num2)"
   ]
  },
  {
   "cell_type": "markdown",
   "metadata": {},
   "source": [
    "# Write a program which can filter odd numbers in a list by using filter"
   ]
  },
  {
   "cell_type": "code",
   "execution_count": 113,
   "metadata": {},
   "outputs": [
    {
     "name": "stdout",
     "output_type": "stream",
     "text": [
      "[1, 3, 5, 7, 9, 11, 13, 15, 17, 19, 21, 23, 25, 27, 29, 31, 33, 35, 37, 39, 41, 43, 45, 47, 49]\n"
     ]
    }
   ],
   "source": [
    "lst = [i for i in range(1,50)]\n",
    "\n",
    "odd_lst = list(filter(lambda x: (x%2 != 0), lst))\n",
    "print(odd_lst)\n"
   ]
  },
  {
   "cell_type": "markdown",
   "metadata": {},
   "source": [
    "# Write a program which can map() to make a list whose elements are cube of elements in a given list"
   ]
  },
  {
   "cell_type": "code",
   "execution_count": 114,
   "metadata": {},
   "outputs": [
    {
     "name": "stdout",
     "output_type": "stream",
     "text": [
      "[1, 8, 27, 64, 125, 216, 343, 512, 729]\n"
     ]
    }
   ],
   "source": [
    "lst = [i for i in range(1,10)]\n",
    "\n",
    "cube_lst = list(map(lambda x: x**3, lst))\n",
    "print(cube_lst)"
   ]
  },
  {
   "cell_type": "markdown",
   "metadata": {},
   "source": [
    "# Write a program which can map() and filter() to make a list whose elements are cube of even number in a given list"
   ]
  },
  {
   "cell_type": "code",
   "execution_count": 117,
   "metadata": {},
   "outputs": [
    {
     "name": "stdout",
     "output_type": "stream",
     "text": [
      "[8, 64, 216, 512]\n"
     ]
    }
   ],
   "source": [
    "lst = [i for i in range(1,10)]\n",
    "\n",
    "cube_lst = list(map(lambda x: x**3, lst))\n",
    "\n",
    "even_lst = list(filter(lambda x: (x%2 == 0), cube_lst))\n",
    "print(even_lst)"
   ]
  }
 ],
 "metadata": {
  "kernelspec": {
   "display_name": "Python 3",
   "language": "python",
   "name": "python3"
  },
  "language_info": {
   "codemirror_mode": {
    "name": "ipython",
    "version": 3
   },
   "file_extension": ".py",
   "mimetype": "text/x-python",
   "name": "python",
   "nbconvert_exporter": "python",
   "pygments_lexer": "ipython3",
   "version": "3.6.5"
  }
 },
 "nbformat": 4,
 "nbformat_minor": 2
}
